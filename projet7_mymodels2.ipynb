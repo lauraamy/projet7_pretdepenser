{
 "cells": [
  {
   "cell_type": "code",
   "execution_count": 1,
   "id": "04e49e75",
   "metadata": {},
   "outputs": [
    {
     "name": "stdout",
     "output_type": "stream",
     "text": [
      "['application_test.csv', '.DS_Store', 'HomeCredit_columns_description.csv', 'POS_CASH_balance.csv', 'credit_card_balance.csv', 'installments_payments.csv', 'application_train.csv', 'bureau.csv', 'previous_application.csv', 'bureau_balance.csv', 'sample_submission.csv']\n"
     ]
    }
   ],
   "source": [
    "import pandas as pd\n",
    "import numpy as np\n",
    "import matplotlib.pyplot as plt\n",
    "%matplotlib inline\n",
    "\n",
    "import seaborn as sns\n",
    "\n",
    "import gc\n",
    "import warnings\n",
    "import os\n",
    "import time\n",
    "\n",
    "from contextlib import contextmanager\n",
    "from lightgbm import LGBMClassifier\n",
    "from sklearn.metrics import roc_auc_score, roc_curve\n",
    "from sklearn.model_selection import KFold, StratifiedKFold\n",
    "\n",
    "#warnings.simplefilter(action='ignore', category=FutureWarning)\n",
    "\n",
    "print(os.listdir(\"../Projet+Mise+en+prod+-+home-credit-default-risk\"))\n",
    "\n",
    "@contextmanager\n",
    "def timer(title):\n",
    "    t0 = time.time()\n",
    "    yield\n",
    "    print(\"{} - done in {:.0f}s\".format(title, time.time() - t0))\n",
    "\n"
   ]
  },
  {
   "cell_type": "code",
   "execution_count": 6,
   "id": "8333b10f",
   "metadata": {},
   "outputs": [],
   "source": [
    "# Function to calculate missing values by column# Funct \n",
    "def missing_values_table(df):\n",
    "        # Total missing values\n",
    "        mis_val = df.isnull().sum()\n",
    "        \n",
    "        # Percentage of missing values\n",
    "        mis_val_percent = 100 * df.isnull().sum() / len(df)\n",
    "        \n",
    "        # Make a table with the results\n",
    "        mis_val_table = pd.concat([mis_val, mis_val_percent], axis=1)\n",
    "        \n",
    "        # Rename the columns\n",
    "        mis_val_table_ren_columns = mis_val_table.rename(\n",
    "        columns = {0 : 'Missing Values', 1 : '% of Total Values'})\n",
    "        \n",
    "        # Sort the table by percentage of missing descending\n",
    "        mis_val_table_ren_columns = mis_val_table_ren_columns.sort_values('% of Total Values', \n",
    "                                                                          ascending=False).round(1)\n",
    "          #  mis_val_table_ren_columns.iloc[:,1] != 0].sort_values(\n",
    "          # '% of Total Values', ascending=False).round(1)\n",
    "        \n",
    "        # Print some summary information\n",
    "        print (\"Your selected dataframe has \" + str(df.shape[1]) + \" columns.\\n\"      \n",
    "            \"There are \" + str(mis_val_table_ren_columns.shape[0]) +\n",
    "              \" columns that have missing values.\")\n",
    "        \n",
    "        # Return the dataframe with missing information\n",
    "        return mis_val_table_ren_columns"
   ]
  },
  {
   "cell_type": "code",
   "execution_count": 7,
   "id": "2f59d13b",
   "metadata": {},
   "outputs": [],
   "source": [
    "# read the df \n",
    "main_model_df = pd.read_csv(\"../my_csv_files/df_for_modelling.csv\")"
   ]
  },
  {
   "cell_type": "code",
   "execution_count": 8,
   "id": "19c222a6",
   "metadata": {},
   "outputs": [
    {
     "name": "stdout",
     "output_type": "stream",
     "text": [
      "Your selected dataframe has 799 columns.\n",
      "There are 799 columns that have missing values.\n"
     ]
    },
    {
     "data": {
      "text/html": [
       "<div>\n",
       "<style scoped>\n",
       "    .dataframe tbody tr th:only-of-type {\n",
       "        vertical-align: middle;\n",
       "    }\n",
       "\n",
       "    .dataframe tbody tr th {\n",
       "        vertical-align: top;\n",
       "    }\n",
       "\n",
       "    .dataframe thead th {\n",
       "        text-align: right;\n",
       "    }\n",
       "</style>\n",
       "<table border=\"1\" class=\"dataframe\">\n",
       "  <thead>\n",
       "    <tr style=\"text-align: right;\">\n",
       "      <th></th>\n",
       "      <th>Missing Values</th>\n",
       "      <th>% of Total Values</th>\n",
       "    </tr>\n",
       "  </thead>\n",
       "  <tbody>\n",
       "    <tr>\n",
       "      <th>REFUSED_RATE_DOWN_PAYMENT_MIN</th>\n",
       "      <td>303648</td>\n",
       "      <td>85.2</td>\n",
       "    </tr>\n",
       "    <tr>\n",
       "      <th>REFUSED_RATE_DOWN_PAYMENT_MEAN</th>\n",
       "      <td>303648</td>\n",
       "      <td>85.2</td>\n",
       "    </tr>\n",
       "    <tr>\n",
       "      <th>REFUSED_AMT_DOWN_PAYMENT_MEAN</th>\n",
       "      <td>303648</td>\n",
       "      <td>85.2</td>\n",
       "    </tr>\n",
       "    <tr>\n",
       "      <th>REFUSED_AMT_DOWN_PAYMENT_MAX</th>\n",
       "      <td>303648</td>\n",
       "      <td>85.2</td>\n",
       "    </tr>\n",
       "    <tr>\n",
       "      <th>REFUSED_AMT_DOWN_PAYMENT_MIN</th>\n",
       "      <td>303648</td>\n",
       "      <td>85.2</td>\n",
       "    </tr>\n",
       "    <tr>\n",
       "      <th>REFUSED_RATE_DOWN_PAYMENT_MAX</th>\n",
       "      <td>303648</td>\n",
       "      <td>85.2</td>\n",
       "    </tr>\n",
       "    <tr>\n",
       "      <th>REFUSED_APP_CREDIT_PERC_VAR</th>\n",
       "      <td>298034</td>\n",
       "      <td>83.7</td>\n",
       "    </tr>\n",
       "    <tr>\n",
       "      <th>CC_AMT_PAYMENT_CURRENT_VAR</th>\n",
       "      <td>284649</td>\n",
       "      <td>79.9</td>\n",
       "    </tr>\n",
       "    <tr>\n",
       "      <th>CC_AMT_DRAWINGS_OTHER_CURRENT_VAR</th>\n",
       "      <td>284559</td>\n",
       "      <td>79.9</td>\n",
       "    </tr>\n",
       "    <tr>\n",
       "      <th>CC_CNT_DRAWINGS_OTHER_CURRENT_VAR</th>\n",
       "      <td>284559</td>\n",
       "      <td>79.9</td>\n",
       "    </tr>\n",
       "    <tr>\n",
       "      <th>CC_CNT_DRAWINGS_POS_CURRENT_VAR</th>\n",
       "      <td>284559</td>\n",
       "      <td>79.9</td>\n",
       "    </tr>\n",
       "    <tr>\n",
       "      <th>CC_AMT_DRAWINGS_ATM_CURRENT_VAR</th>\n",
       "      <td>284559</td>\n",
       "      <td>79.9</td>\n",
       "    </tr>\n",
       "    <tr>\n",
       "      <th>CC_CNT_DRAWINGS_ATM_CURRENT_VAR</th>\n",
       "      <td>284559</td>\n",
       "      <td>79.9</td>\n",
       "    </tr>\n",
       "    <tr>\n",
       "      <th>CC_AMT_DRAWINGS_POS_CURRENT_VAR</th>\n",
       "      <td>284559</td>\n",
       "      <td>79.9</td>\n",
       "    </tr>\n",
       "    <tr>\n",
       "      <th>CC_AMT_PAYMENT_CURRENT_MIN</th>\n",
       "      <td>284131</td>\n",
       "      <td>79.8</td>\n",
       "    </tr>\n",
       "    <tr>\n",
       "      <th>CC_AMT_PAYMENT_CURRENT_MEAN</th>\n",
       "      <td>284131</td>\n",
       "      <td>79.8</td>\n",
       "    </tr>\n",
       "    <tr>\n",
       "      <th>CC_AMT_PAYMENT_CURRENT_MAX</th>\n",
       "      <td>284131</td>\n",
       "      <td>79.8</td>\n",
       "    </tr>\n",
       "    <tr>\n",
       "      <th>CC_CNT_DRAWINGS_OTHER_CURRENT_MIN</th>\n",
       "      <td>284057</td>\n",
       "      <td>79.7</td>\n",
       "    </tr>\n",
       "    <tr>\n",
       "      <th>CC_AMT_DRAWINGS_OTHER_CURRENT_MIN</th>\n",
       "      <td>284057</td>\n",
       "      <td>79.7</td>\n",
       "    </tr>\n",
       "    <tr>\n",
       "      <th>CC_AMT_DRAWINGS_POS_CURRENT_MAX</th>\n",
       "      <td>284057</td>\n",
       "      <td>79.7</td>\n",
       "    </tr>\n",
       "  </tbody>\n",
       "</table>\n",
       "</div>"
      ],
      "text/plain": [
       "                                   Missing Values  % of Total Values\n",
       "REFUSED_RATE_DOWN_PAYMENT_MIN              303648               85.2\n",
       "REFUSED_RATE_DOWN_PAYMENT_MEAN             303648               85.2\n",
       "REFUSED_AMT_DOWN_PAYMENT_MEAN              303648               85.2\n",
       "REFUSED_AMT_DOWN_PAYMENT_MAX               303648               85.2\n",
       "REFUSED_AMT_DOWN_PAYMENT_MIN               303648               85.2\n",
       "REFUSED_RATE_DOWN_PAYMENT_MAX              303648               85.2\n",
       "REFUSED_APP_CREDIT_PERC_VAR                298034               83.7\n",
       "CC_AMT_PAYMENT_CURRENT_VAR                 284649               79.9\n",
       "CC_AMT_DRAWINGS_OTHER_CURRENT_VAR          284559               79.9\n",
       "CC_CNT_DRAWINGS_OTHER_CURRENT_VAR          284559               79.9\n",
       "CC_CNT_DRAWINGS_POS_CURRENT_VAR            284559               79.9\n",
       "CC_AMT_DRAWINGS_ATM_CURRENT_VAR            284559               79.9\n",
       "CC_CNT_DRAWINGS_ATM_CURRENT_VAR            284559               79.9\n",
       "CC_AMT_DRAWINGS_POS_CURRENT_VAR            284559               79.9\n",
       "CC_AMT_PAYMENT_CURRENT_MIN                 284131               79.8\n",
       "CC_AMT_PAYMENT_CURRENT_MEAN                284131               79.8\n",
       "CC_AMT_PAYMENT_CURRENT_MAX                 284131               79.8\n",
       "CC_CNT_DRAWINGS_OTHER_CURRENT_MIN          284057               79.7\n",
       "CC_AMT_DRAWINGS_OTHER_CURRENT_MIN          284057               79.7\n",
       "CC_AMT_DRAWINGS_POS_CURRENT_MAX            284057               79.7"
      ]
     },
     "execution_count": 8,
     "metadata": {},
     "output_type": "execute_result"
    }
   ],
   "source": [
    "# Missing values statistics\n",
    "missing_values = missing_values_table(main_model_df)\n",
    "missing_values.head(20)"
   ]
  },
  {
   "cell_type": "code",
   "execution_count": 9,
   "id": "d2df54ce-9f8c-4e59-a1bc-cffb6fff4365",
   "metadata": {},
   "outputs": [
    {
     "data": {
      "text/html": [
       "<div>\n",
       "<style scoped>\n",
       "    .dataframe tbody tr th:only-of-type {\n",
       "        vertical-align: middle;\n",
       "    }\n",
       "\n",
       "    .dataframe tbody tr th {\n",
       "        vertical-align: top;\n",
       "    }\n",
       "\n",
       "    .dataframe thead th {\n",
       "        text-align: right;\n",
       "    }\n",
       "</style>\n",
       "<table border=\"1\" class=\"dataframe\">\n",
       "  <thead>\n",
       "    <tr style=\"text-align: right;\">\n",
       "      <th></th>\n",
       "      <th>Missing Values</th>\n",
       "      <th>% of Total Values</th>\n",
       "    </tr>\n",
       "  </thead>\n",
       "  <tbody>\n",
       "    <tr>\n",
       "      <th>WEEKDAY_APPR_PROCESS_START_SUNDAY</th>\n",
       "      <td>0</td>\n",
       "      <td>0.0</td>\n",
       "    </tr>\n",
       "    <tr>\n",
       "      <th>WEEKDAY_APPR_PROCESS_START_SATURDAY</th>\n",
       "      <td>0</td>\n",
       "      <td>0.0</td>\n",
       "    </tr>\n",
       "    <tr>\n",
       "      <th>WEEKDAY_APPR_PROCESS_START_MONDAY</th>\n",
       "      <td>0</td>\n",
       "      <td>0.0</td>\n",
       "    </tr>\n",
       "    <tr>\n",
       "      <th>WEEKDAY_APPR_PROCESS_START_FRIDAY</th>\n",
       "      <td>0</td>\n",
       "      <td>0.0</td>\n",
       "    </tr>\n",
       "    <tr>\n",
       "      <th>OCCUPATION_TYPE_Security staff</th>\n",
       "      <td>0</td>\n",
       "      <td>0.0</td>\n",
       "    </tr>\n",
       "    <tr>\n",
       "      <th>ORGANIZATION_TYPE_Business Entity Type 1</th>\n",
       "      <td>0</td>\n",
       "      <td>0.0</td>\n",
       "    </tr>\n",
       "    <tr>\n",
       "      <th>OCCUPATION_TYPE_Secretaries</th>\n",
       "      <td>0</td>\n",
       "      <td>0.0</td>\n",
       "    </tr>\n",
       "    <tr>\n",
       "      <th>WALLSMATERIAL_MODE_Others</th>\n",
       "      <td>0</td>\n",
       "      <td>0.0</td>\n",
       "    </tr>\n",
       "    <tr>\n",
       "      <th>OCCUPATION_TYPE_Realty agents</th>\n",
       "      <td>0</td>\n",
       "      <td>0.0</td>\n",
       "    </tr>\n",
       "    <tr>\n",
       "      <th>OCCUPATION_TYPE_Private service staff</th>\n",
       "      <td>0</td>\n",
       "      <td>0.0</td>\n",
       "    </tr>\n",
       "    <tr>\n",
       "      <th>OCCUPATION_TYPE_Medicine staff</th>\n",
       "      <td>0</td>\n",
       "      <td>0.0</td>\n",
       "    </tr>\n",
       "    <tr>\n",
       "      <th>OCCUPATION_TYPE_Managers</th>\n",
       "      <td>0</td>\n",
       "      <td>0.0</td>\n",
       "    </tr>\n",
       "    <tr>\n",
       "      <th>OCCUPATION_TYPE_Low-skill Laborers</th>\n",
       "      <td>0</td>\n",
       "      <td>0.0</td>\n",
       "    </tr>\n",
       "    <tr>\n",
       "      <th>OCCUPATION_TYPE_Laborers</th>\n",
       "      <td>0</td>\n",
       "      <td>0.0</td>\n",
       "    </tr>\n",
       "    <tr>\n",
       "      <th>OCCUPATION_TYPE_IT staff</th>\n",
       "      <td>0</td>\n",
       "      <td>0.0</td>\n",
       "    </tr>\n",
       "    <tr>\n",
       "      <th>ORGANIZATION_TYPE_Bank</th>\n",
       "      <td>0</td>\n",
       "      <td>0.0</td>\n",
       "    </tr>\n",
       "    <tr>\n",
       "      <th>ORGANIZATION_TYPE_Business Entity Type 2</th>\n",
       "      <td>0</td>\n",
       "      <td>0.0</td>\n",
       "    </tr>\n",
       "    <tr>\n",
       "      <th>index</th>\n",
       "      <td>0</td>\n",
       "      <td>0.0</td>\n",
       "    </tr>\n",
       "    <tr>\n",
       "      <th>ORGANIZATION_TYPE_Industry: type 11</th>\n",
       "      <td>0</td>\n",
       "      <td>0.0</td>\n",
       "    </tr>\n",
       "    <tr>\n",
       "      <th>ORGANIZATION_TYPE_Industry: type 8</th>\n",
       "      <td>0</td>\n",
       "      <td>0.0</td>\n",
       "    </tr>\n",
       "    <tr>\n",
       "      <th>ORGANIZATION_TYPE_Industry: type 7</th>\n",
       "      <td>0</td>\n",
       "      <td>0.0</td>\n",
       "    </tr>\n",
       "    <tr>\n",
       "      <th>ORGANIZATION_TYPE_Industry: type 6</th>\n",
       "      <td>0</td>\n",
       "      <td>0.0</td>\n",
       "    </tr>\n",
       "    <tr>\n",
       "      <th>ORGANIZATION_TYPE_Industry: type 5</th>\n",
       "      <td>0</td>\n",
       "      <td>0.0</td>\n",
       "    </tr>\n",
       "    <tr>\n",
       "      <th>ORGANIZATION_TYPE_Industry: type 4</th>\n",
       "      <td>0</td>\n",
       "      <td>0.0</td>\n",
       "    </tr>\n",
       "    <tr>\n",
       "      <th>ORGANIZATION_TYPE_Industry: type 3</th>\n",
       "      <td>0</td>\n",
       "      <td>0.0</td>\n",
       "    </tr>\n",
       "    <tr>\n",
       "      <th>ORGANIZATION_TYPE_Industry: type 2</th>\n",
       "      <td>0</td>\n",
       "      <td>0.0</td>\n",
       "    </tr>\n",
       "    <tr>\n",
       "      <th>ORGANIZATION_TYPE_Industry: type 13</th>\n",
       "      <td>0</td>\n",
       "      <td>0.0</td>\n",
       "    </tr>\n",
       "    <tr>\n",
       "      <th>ORGANIZATION_TYPE_Industry: type 12</th>\n",
       "      <td>0</td>\n",
       "      <td>0.0</td>\n",
       "    </tr>\n",
       "    <tr>\n",
       "      <th>ORGANIZATION_TYPE_Industry: type 10</th>\n",
       "      <td>0</td>\n",
       "      <td>0.0</td>\n",
       "    </tr>\n",
       "    <tr>\n",
       "      <th>ORGANIZATION_TYPE_Business Entity Type 3</th>\n",
       "      <td>0</td>\n",
       "      <td>0.0</td>\n",
       "    </tr>\n",
       "    <tr>\n",
       "      <th>ORGANIZATION_TYPE_Industry: type 1</th>\n",
       "      <td>0</td>\n",
       "      <td>0.0</td>\n",
       "    </tr>\n",
       "    <tr>\n",
       "      <th>ORGANIZATION_TYPE_Housing</th>\n",
       "      <td>0</td>\n",
       "      <td>0.0</td>\n",
       "    </tr>\n",
       "    <tr>\n",
       "      <th>ORGANIZATION_TYPE_Hotel</th>\n",
       "      <td>0</td>\n",
       "      <td>0.0</td>\n",
       "    </tr>\n",
       "    <tr>\n",
       "      <th>ORGANIZATION_TYPE_Government</th>\n",
       "      <td>0</td>\n",
       "      <td>0.0</td>\n",
       "    </tr>\n",
       "    <tr>\n",
       "      <th>ORGANIZATION_TYPE_Emergency</th>\n",
       "      <td>0</td>\n",
       "      <td>0.0</td>\n",
       "    </tr>\n",
       "    <tr>\n",
       "      <th>ORGANIZATION_TYPE_Electricity</th>\n",
       "      <td>0</td>\n",
       "      <td>0.0</td>\n",
       "    </tr>\n",
       "    <tr>\n",
       "      <th>ORGANIZATION_TYPE_Culture</th>\n",
       "      <td>0</td>\n",
       "      <td>0.0</td>\n",
       "    </tr>\n",
       "    <tr>\n",
       "      <th>ORGANIZATION_TYPE_Construction</th>\n",
       "      <td>0</td>\n",
       "      <td>0.0</td>\n",
       "    </tr>\n",
       "    <tr>\n",
       "      <th>ORGANIZATION_TYPE_Cleaning</th>\n",
       "      <td>0</td>\n",
       "      <td>0.0</td>\n",
       "    </tr>\n",
       "    <tr>\n",
       "      <th>Unnamed: 0</th>\n",
       "      <td>0</td>\n",
       "      <td>0.0</td>\n",
       "    </tr>\n",
       "  </tbody>\n",
       "</table>\n",
       "</div>"
      ],
      "text/plain": [
       "                                          Missing Values  % of Total Values\n",
       "WEEKDAY_APPR_PROCESS_START_SUNDAY                      0                0.0\n",
       "WEEKDAY_APPR_PROCESS_START_SATURDAY                    0                0.0\n",
       "WEEKDAY_APPR_PROCESS_START_MONDAY                      0                0.0\n",
       "WEEKDAY_APPR_PROCESS_START_FRIDAY                      0                0.0\n",
       "OCCUPATION_TYPE_Security staff                         0                0.0\n",
       "ORGANIZATION_TYPE_Business Entity Type 1               0                0.0\n",
       "OCCUPATION_TYPE_Secretaries                            0                0.0\n",
       "WALLSMATERIAL_MODE_Others                              0                0.0\n",
       "OCCUPATION_TYPE_Realty agents                          0                0.0\n",
       "OCCUPATION_TYPE_Private service staff                  0                0.0\n",
       "OCCUPATION_TYPE_Medicine staff                         0                0.0\n",
       "OCCUPATION_TYPE_Managers                               0                0.0\n",
       "OCCUPATION_TYPE_Low-skill Laborers                     0                0.0\n",
       "OCCUPATION_TYPE_Laborers                               0                0.0\n",
       "OCCUPATION_TYPE_IT staff                               0                0.0\n",
       "ORGANIZATION_TYPE_Bank                                 0                0.0\n",
       "ORGANIZATION_TYPE_Business Entity Type 2               0                0.0\n",
       "index                                                  0                0.0\n",
       "ORGANIZATION_TYPE_Industry: type 11                    0                0.0\n",
       "ORGANIZATION_TYPE_Industry: type 8                     0                0.0\n",
       "ORGANIZATION_TYPE_Industry: type 7                     0                0.0\n",
       "ORGANIZATION_TYPE_Industry: type 6                     0                0.0\n",
       "ORGANIZATION_TYPE_Industry: type 5                     0                0.0\n",
       "ORGANIZATION_TYPE_Industry: type 4                     0                0.0\n",
       "ORGANIZATION_TYPE_Industry: type 3                     0                0.0\n",
       "ORGANIZATION_TYPE_Industry: type 2                     0                0.0\n",
       "ORGANIZATION_TYPE_Industry: type 13                    0                0.0\n",
       "ORGANIZATION_TYPE_Industry: type 12                    0                0.0\n",
       "ORGANIZATION_TYPE_Industry: type 10                    0                0.0\n",
       "ORGANIZATION_TYPE_Business Entity Type 3               0                0.0\n",
       "ORGANIZATION_TYPE_Industry: type 1                     0                0.0\n",
       "ORGANIZATION_TYPE_Housing                              0                0.0\n",
       "ORGANIZATION_TYPE_Hotel                                0                0.0\n",
       "ORGANIZATION_TYPE_Government                           0                0.0\n",
       "ORGANIZATION_TYPE_Emergency                            0                0.0\n",
       "ORGANIZATION_TYPE_Electricity                          0                0.0\n",
       "ORGANIZATION_TYPE_Culture                              0                0.0\n",
       "ORGANIZATION_TYPE_Construction                         0                0.0\n",
       "ORGANIZATION_TYPE_Cleaning                             0                0.0\n",
       "Unnamed: 0                                             0                0.0"
      ]
     },
     "execution_count": 9,
     "metadata": {},
     "output_type": "execute_result"
    }
   ],
   "source": [
    "missing_values.tail(40)"
   ]
  },
  {
   "cell_type": "code",
   "execution_count": 6,
   "id": "7b78484a",
   "metadata": {},
   "outputs": [
    {
     "data": {
      "text/plain": [
       "numpy.int64"
      ]
     },
     "execution_count": 6,
     "metadata": {},
     "output_type": "execute_result"
    }
   ],
   "source": [
    "type(main_model_df['SK_ID_CURR'][0])"
   ]
  },
  {
   "cell_type": "code",
   "execution_count": null,
   "id": "e91dd4ab",
   "metadata": {},
   "outputs": [],
   "source": [
    "main_model_df"
   ]
  },
  {
   "cell_type": "markdown",
   "id": "ed9a55cf",
   "metadata": {},
   "source": [
    "# Modelling Start"
   ]
  },
  {
   "cell_type": "markdown",
   "id": "2be0817a",
   "metadata": {},
   "source": [
    "## Create my own cost function and divide into test / train"
   ]
  },
  {
   "cell_type": "code",
   "execution_count": 10,
   "id": "74e3506d",
   "metadata": {},
   "outputs": [],
   "source": [
    "import re\n",
    "\n",
    "# Divide in training/validation and test data\n",
    "main_model_df = main_model_df.rename(columns = lambda x:re.sub('[^A-Za-z0-9_]+', '', x))\n",
    "\n",
    "train_df = main_model_df[main_model_df['TARGET'].notnull()]\n",
    "test_df = main_model_df[main_model_df['TARGET'].isnull()]\n",
    "\n",
    "\n",
    "# Cross validation model\n",
    "#if stratified:\n",
    "#    folds = StratifiedKFold(n_splits= num_folds, shuffle=True, random_state=1001)\n",
    "#else:\n",
    "#    folds = KFold(n_splits= num_folds, shuffle=True, random_state=1001)\n",
    "    \n",
    "# Create arrays and dataframes to store results\n",
    "feats = [f for f in train_df.columns if f not in ['TARGET', 'Unnamed: 0', 'Unnamed0',\n",
    "                                                  'SK_ID_CURR','SK_ID_BUREAU','SK_ID_PREV','index']]\n",
    "\n",
    "# Sklearn stuff\n",
    "#from sklearn.datasets import load_breast_cancer\n",
    "from sklearn.model_selection import train_test_split\n",
    "\n",
    "# Load and split dataset\n",
    "#x, y = load_breast_cancer(return_X_y=True)\n",
    "\n",
    "x_train, x_test, y_train, y_test = train_test_split(train_df[feats], train_df['TARGET'], \n",
    "                                                    test_size=0.3, random_state = 22)\n",
    "\n"
   ]
  },
  {
   "cell_type": "code",
   "execution_count": 11,
   "id": "e877d66e",
   "metadata": {},
   "outputs": [
    {
     "data": {
      "text/plain": [
       "0"
      ]
     },
     "execution_count": 11,
     "metadata": {},
     "output_type": "execute_result"
    }
   ],
   "source": [
    "del test_df\n",
    "gc.collect()"
   ]
  },
  {
   "cell_type": "markdown",
   "id": "d6a31f6e",
   "metadata": {},
   "source": [
    "## Hyperparameter Search: from hyperopt"
   ]
  },
  {
   "cell_type": "code",
   "execution_count": 17,
   "id": "56738b97-2aba-432f-bf4f-779f4e9e8acd",
   "metadata": {},
   "outputs": [],
   "source": [
    "from sklearn.metrics import confusion_matrix\n",
    "import numpy as np\n",
    "\n",
    "def my_comp_score(y_true, y_pred):\n",
    "\n",
    "    tn, fp, fn, tp = confusion_matrix(y_true, y_pred).ravel()\n",
    "    \n",
    "    tn_weight = 1\n",
    "    fp_weight = 0\n",
    "    fn_weight = -10\n",
    "    tp_weight = 0\n",
    "\n",
    "    # gain function for company, true positives and false positives don't matter that much to us\n",
    "    # we want to penalise the false negatives, and we want to say yes to true negatives\n",
    "    gain = tp*(tp_weight) + tn*(tn_weight) + fp*(fp_weight) + fn*(fn_weight)\n",
    "    \n",
    "    # best represents scenario where there are no false negatives or false postives\n",
    "    # so all false positives would be correctly shown as negative\n",
    "    # and all false negatives would be correctly show as positive\n",
    "    best = (tn + fp) * tn_weight + (tp + fn) * tp_weight\n",
    "    \n",
    "    # baseline is a naive model that predicts non default(negative) for everyone\n",
    "    # but all true positives and false negatives would be incorrectly shown as negative\n",
    "    baseline = (tn + fp) * tn_weight + (tp + fn) * fn_weight\n",
    "    \n",
    "    score = (gain - baseline) / (best - baseline)\n",
    "    \n",
    "    return score\n",
    "\n",
    "\n",
    "\n",
    "def my_comp_score_probs(y_true, y_pred):\n",
    "    \n",
    "    # for now y_pred is the probability that the value is 1\n",
    "    y_use = [1 if i >= 0.3 else 0 for i in y_pred]\n",
    "    \n",
    "    y_use = pd.Series(y_use)\n",
    "\n",
    "    tn, fp, fn, tp = confusion_matrix(y_true, y_use).ravel()\n",
    "    \n",
    "    tn_weight = 1\n",
    "    fp_weight = 0\n",
    "    fn_weight = -10\n",
    "    tp_weight = 0\n",
    "\n",
    "    # gain function for company, true positives and false positives don't matter that much to us\n",
    "    # we want to penalise the false negatives, and we want to say yes to true negatives\n",
    "    gain = tp*(tp_weight) + tn*(tn_weight) + fp*(fp_weight) + fn*(fn_weight)\n",
    "    \n",
    "    # best represents scenario where there are no false negatives or false postives\n",
    "    # so all false positives would be correctly shown as negative\n",
    "    # and all false negatives would be correctly show as positive\n",
    "    best = (tn + fp) * tn_weight + (tp + fn) * tp_weight\n",
    "    \n",
    "    # baseline is a naive model that predicts non default(negative) for everyone\n",
    "    # but all true positives and false negatives would be incorrectly shown as negative\n",
    "    baseline = (tn + fp) * tn_weight + (tp + fn) * fn_weight\n",
    "    \n",
    "    score = ((gain - baseline) / (best - baseline))\n",
    "\n",
    "    return score"
   ]
  },
  {
   "cell_type": "code",
   "execution_count": 18,
   "id": "ac209a5f-6d1d-4f29-9f3d-eade0c65b360",
   "metadata": {},
   "outputs": [
    {
     "data": {
      "text/plain": [
       "make_scorer(my_comp_score)"
      ]
     },
     "execution_count": 18,
     "metadata": {},
     "output_type": "execute_result"
    }
   ],
   "source": [
    "from sklearn.metrics import fbeta_score, make_scorer\n",
    "make_scorer(my_comp_score)"
   ]
  },
  {
   "cell_type": "code",
   "execution_count": 19,
   "id": "08093868",
   "metadata": {},
   "outputs": [],
   "source": [
    "from hyperopt import fmin, tpe, hp, anneal, Trials\n",
    "\n",
    "# HyperOpt: Optimizer\n",
    "from hyperopt import tpe\n",
    "\n",
    "kf = KFold(n_splits = 5)"
   ]
  },
  {
   "cell_type": "code",
   "execution_count": 20,
   "id": "0f448778",
   "metadata": {},
   "outputs": [],
   "source": [
    "from sklearn.model_selection import cross_val_score\n",
    "from sklearn.model_selection import train_test_split\n",
    "from sklearn.metrics import mean_squared_error\n",
    "\n",
    "def gb_mse_cv(params, random_state = 22, cv = kf, X = x_train, y= y_train):\n",
    "    # the function gets a set of variable parameters in \"param\"\n",
    "    params = {'learning_rate': params['learning_rate'],\n",
    "              'num_leaves': int(params['num_leaves']),\n",
    "              'subsample' : params['subsample'],\n",
    "              'max_depth': int(params['max_depth']),\n",
    "              'reg_alpha' : params['reg_alpha'],\n",
    "              'reg_lambda' : params['reg_lambda'],\n",
    "              'min_data_in_leaf': int(params['min_data_in_leaf']),\n",
    "              'min_split_gain' :  params['min_split_gain']\n",
    "              }\n",
    "    \n",
    "    # we use this params to create a new LGBM Regressor\n",
    "    model = LGBMClassifier(random_state = random_state, **params)\n",
    "    \n",
    "    # and then conduct the cross validation with the same folds as before\n",
    "    score = -cross_val_score(model, X, y, cv=cv, scoring= make_scorer(my_comp_score_probs, needs_proba= True), \n",
    "                             n_jobs=-1).mean()\n",
    "\n",
    "    return score\n"
   ]
  },
  {
   "cell_type": "code",
   "execution_count": 21,
   "id": "26741db2",
   "metadata": {},
   "outputs": [
    {
     "name": "stdout",
     "output_type": "stream",
     "text": [
      "100%|██████████| 50/50 [1:19:08<00:00, 94.98s/trial, best loss: -0.16792958404274366] \n",
      "[LightGBM] [Warning] min_data_in_leaf is set=38, min_child_samples=20 will be ignored. Current value: min_data_in_leaf=38\n",
      "Best  -0.168 params {'learning_rate': 0.8000244061153212, 'max_depth': 3.0, 'min_data_in_leaf': 38.0, 'min_split_gain': 0.7135796499309978, 'num_leaves': 9.0, 'reg_alpha': 0.14115013635015627, 'reg_lambda': 0.07732219700093725, 'subsample': 0.49209951058450563}\n",
      "CPU times: user 58.8 s, sys: 44.2 s, total: 1min 42s\n",
      "Wall time: 1h 20min 56s\n"
     ]
    }
   ],
   "source": [
    "%%time\n",
    "\n",
    "n_iter = 50\n",
    "\n",
    "# possible values of parameters\n",
    "space = {'learning_rate': hp.loguniform('learning_rate', -5, 0),\n",
    "         'num_leaves' : hp.quniform('num_leaves', 2, 40, 1),\n",
    "         'subsample' : hp.loguniform('subsample', -4, 0),\n",
    "         'max_depth' : hp.quniform('max_depth', 2, 14, 1),\n",
    "         'reg_alpha' : hp.loguniform('reg_alpha', -4, 0),\n",
    "         'reg_lambda' : hp.loguniform('reg_lambda', -4, 0),\n",
    "         'min_data_in_leaf': hp.quniform('min_data_in_leaf', 2, 40, 1),\n",
    "         'min_split_gain' : hp.loguniform('min_split_gain', -4, 0)\n",
    "        }\n",
    "\n",
    "# trials will contain logging information\n",
    "trials = Trials()\n",
    "\n",
    "best=fmin(fn=gb_mse_cv, # function to optimize\n",
    "          space=space, \n",
    "          algo=tpe.suggest, # optimization algorithm, hyperotp will select its parameters automatically\n",
    "          max_evals=n_iter, # maximum number of iterations\n",
    "          trials=trials, # logging\n",
    "          rstate=np.random.RandomState(58) # fixing random state for the reproducibility\n",
    "         )\n",
    "\n",
    "# computing the score on the test set\n",
    "model = LGBMClassifier(random_state = 54,\n",
    "                       learning_rate = best['learning_rate'],\n",
    "                       num_leaves = int(best['num_leaves']), \n",
    "                       subsample = best['subsample'],\n",
    "                       max_depth = int(best['max_depth']),\n",
    "                       reg_alpha = best['reg_alpha'],\n",
    "                       reg_lambda = best['reg_lambda'],\n",
    "                       min_data_in_leaf = int(best['min_data_in_leaf']),\n",
    "                       min_split_gain = best['min_split_gain']\n",
    "                       )\n",
    "\n",
    "model.fit(x_train, y_train)\n",
    "\n",
    "print(\"Best  {:.3f} params {}\".format( gb_mse_cv(best), best))\n"
   ]
  },
  {
   "cell_type": "code",
   "execution_count": 22,
   "id": "9f52845b",
   "metadata": {},
   "outputs": [
    {
     "name": "stdout",
     "output_type": "stream",
     "text": [
      "Best  -0.168 params {'learning_rate': 0.8000244061153212, 'max_depth': 3.0, 'min_data_in_leaf': 38.0, 'min_split_gain': 0.7135796499309978, 'num_leaves': 9.0, 'reg_alpha': 0.14115013635015627, 'reg_lambda': 0.07732219700093725, 'subsample': 0.49209951058450563}\n"
     ]
    }
   ],
   "source": [
    "print(\"Best  {:.3f} params {}\".format( gb_mse_cv(best), best))"
   ]
  },
  {
   "cell_type": "code",
   "execution_count": 29,
   "id": "2a783e49",
   "metadata": {},
   "outputs": [
    {
     "data": {
      "text/plain": [
       "array([<AxesSubplot:>, <AxesSubplot:>, <AxesSubplot:>, <AxesSubplot:>,\n",
       "       <AxesSubplot:>, <AxesSubplot:>, <AxesSubplot:>, <AxesSubplot:>,\n",
       "       <AxesSubplot:>], dtype=object)"
      ]
     },
     "execution_count": 29,
     "metadata": {},
     "output_type": "execute_result"
    },
    {
     "data": {
      "image/png": "[encoded data removed]",
      "text/plain": [
       "<Figure size 720x720 with 9 Axes>"
      ]
     },
     "metadata": {
      "needs_background": "light"
     },
     "output_type": "display_data"
    }
   ],
   "source": [
    "#tpe_test_score=mean_squared_error(x_test, model.predict(y_test))\n",
    "\n",
    "tpe_results = np.array([[x['result']['loss'],\n",
    "                         x['misc']['vals']['learning_rate'][0],\n",
    "                       x['misc']['vals']['num_leaves'][0],\n",
    "                       x['misc']['vals']['subsample'][0],\n",
    "                       x['misc']['vals']['max_depth'][0],\n",
    "                         x['misc']['vals']['reg_alpha'][0],\n",
    "                       x['misc']['vals']['reg_lambda'][0],\n",
    "                       x['misc']['vals']['min_data_in_leaf'][0],\n",
    "                         x['misc']['vals']['min_split_gain'][0]] for x in trials.trials])\n",
    "\n",
    "tpe_results_df = pd.DataFrame(tpe_results,\n",
    "                           columns=['score', 'learning_rate', 'num_leaves',\n",
    "                                    'subsample',\n",
    "                                    'max_depth',\n",
    "                                    'reg_alpha',\n",
    "                                    'reg_lambda',\n",
    "                                    'min_data_in_leaf',\n",
    "                                    'min_split_gain'])\n",
    "                                    \n",
    "tpe_results_df.plot(subplots=True,figsize=(10, 10))"
   ]
  },
  {
   "cell_type": "code",
   "execution_count": null,
   "id": "c8475f51",
   "metadata": {},
   "outputs": [],
   "source": [
    "model"
   ]
  },
  {
   "cell_type": "code",
   "execution_count": 31,
   "id": "414b9983",
   "metadata": {},
   "outputs": [
    {
     "name": "stdout",
     "output_type": "stream",
     "text": [
      "====done saving into pickle using Joblib!====\n",
      "====done saving into pickle using Pickle!====\n"
     ]
    }
   ],
   "source": [
    "import pickle\n",
    "import joblib\n",
    "\n",
    "#+ \"/classification/models/\"\n",
    "#model, vectorizer_model = train_test_model(data[\"text\"], data[\"category\"])\n",
    "joblib.dump(model, \"../Models/hyperpar_search_lgbm_thresh03model.sav\")\n",
    "#joblib.dump(vectorizer_model, model_path+\"vectorizer.sav\")\n",
    "print (\"====done saving into pickle using Joblib!====\")\n",
    "\n",
    "pickle.dump(model, open(\"../Models/hyperpar_search_lgbm_thresh03model.pickle\", 'wb'))\n",
    "#pickle.dump(vectorizer_model, open(model_path+\"vectorizer.pickle\", \"wb\"))\n",
    "print (\"====done saving into pickle using Pickle!====\")"
   ]
  },
  {
   "cell_type": "code",
   "execution_count": null,
   "id": "f9d80826",
   "metadata": {},
   "outputs": [],
   "source": [
    "def loading_pickle(model_path):\n",
    "    #vectorizer = pickle.load(open(model_path+\"vectorizer.pickle\",'rb'))\n",
    "    model = pickle.load(open(model_path+\"model.pickle\",'rb'))\n",
    "    return model\n",
    "    #return vectorizer, model\n",
    "\n",
    "\n",
    "def loading_joblibPickle(model_path):\n",
    "    #vectorizer = joblib.load(model_path+\"vectorizer.sav\")\n",
    "    model = joblib.load(model_path+\"model.sav\")\n",
    "    return model \n",
    "    #return vectorizer, model"
   ]
  },
  {
   "cell_type": "code",
   "execution_count": null,
   "id": "0c0ea297",
   "metadata": {},
   "outputs": [],
   "source": [
    "loading_pickle(model_path)"
   ]
  },
  {
   "cell_type": "code",
   "execution_count": null,
   "id": "69b2eb31",
   "metadata": {},
   "outputs": [],
   "source": []
  },
  {
   "cell_type": "markdown",
   "id": "a454db91",
   "metadata": {},
   "source": [
    "## Launching the model"
   ]
  },
  {
   "cell_type": "code",
   "execution_count": null,
   "id": "b54d6f76",
   "metadata": {
    "tags": []
   },
   "outputs": [],
   "source": []
  },
  {
   "cell_type": "code",
   "execution_count": 23,
   "id": "048866c0",
   "metadata": {},
   "outputs": [],
   "source": [
    "from sklearn.metrics import confusion_matrix\n",
    "import numpy as np\n",
    "\n",
    "def my_comp_score_lgbm(y_true, y_pred):\n",
    "    \n",
    "    # for now y_pred is the probability that the value is 1\n",
    "    y_use = [1 if i >= 0.3 else 0 for i in y_pred]\n",
    "    \n",
    "    y_use = pd.Series(y_use)\n",
    "\n",
    "    tn, fp, fn, tp = confusion_matrix(y_true, y_use).ravel()\n",
    "    \n",
    "    tn_weight = 1\n",
    "    fp_weight = 0\n",
    "    fn_weight = -10\n",
    "    tp_weight = 0\n",
    "\n",
    "    # gain function for company, true positives and false positives don't matter that much to us\n",
    "    # we want to penalise the false negatives, and we want to say yes to true negatives\n",
    "    gain = tp*(tp_weight) + tn*(tn_weight) + fp*(fp_weight) + fn*(fn_weight)\n",
    "    \n",
    "    # best represents scenario where there are no false negatives or false postives\n",
    "    # so all false positives would be correctly shown as negative\n",
    "    # and all false negatives would be correctly show as positive\n",
    "    best = (tn + fp) * tn_weight + (tp + fn) * tp_weight\n",
    "    \n",
    "    # baseline is a naive model that predicts non default(negative) for everyone\n",
    "    # but all true positives and false negatives would be incorrectly shown as negative\n",
    "    baseline = (tn + fp) * tn_weight + (tp + fn) * fn_weight\n",
    "    \n",
    "    score = ((gain - baseline) / (best - baseline))\n",
    "\n",
    "    return 'my score', score, True"
   ]
  },
  {
   "cell_type": "code",
   "execution_count": 43,
   "id": "7bf70a9e-111b-4bcb-a6bf-59ac65b9f90b",
   "metadata": {},
   "outputs": [],
   "source": [
    "# Display/plot feature importance\n",
    "def display_importances(feature_importance_df_):\n",
    "    cols = feature_importance_df_[[\"feature\", \"importance\"]].groupby(\"feature\").mean().sort_values(by=\"importance\", ascending=False)[:40].index\n",
    "    best_features = feature_importance_df_.loc[feature_importance_df_.feature.isin(cols)]\n",
    "    plt.figure(figsize=(8, 10))\n",
    "    sns.barplot(x=\"importance\", y=\"feature\", data=best_features.sort_values(by=\"importance\", ascending=False))\n",
    "    plt.title('LightGBM Features (avg over folds)')\n",
    "    plt.tight_layout()\n",
    "    plt.savefig('../lgbm_importances02.png')"
   ]
  },
  {
   "cell_type": "code",
   "execution_count": 24,
   "id": "b91abd47",
   "metadata": {},
   "outputs": [],
   "source": [
    "#main_model_df\n"
   ]
  },
  {
   "cell_type": "code",
   "execution_count": 25,
   "id": "582125d8",
   "metadata": {},
   "outputs": [
    {
     "name": "stdout",
     "output_type": "stream",
     "text": [
      "Starting LightGBM. Train shape: (307507, 799), test shape: (48744, 799)\n"
     ]
    }
   ],
   "source": [
    "import re\n",
    "\n",
    "num_folds= 10\n",
    "stratified= False\n",
    "#debug= debug\n",
    "\n",
    "# Divide in training/validation and test data\n",
    "main_model_df = main_model_df.rename(columns = lambda x:re.sub('[^A-Za-z0-9_]+', '', x))\n",
    "\n",
    "train_df = main_model_df[main_model_df['TARGET'].notnull()]\n",
    "test_df = main_model_df[main_model_df['TARGET'].isnull()]\n",
    "print(\"Starting LightGBM. Train shape: {}, test shape: {}\".format(train_df.shape, test_df.shape))\n",
    "del main_model_df\n",
    "gc.collect()\n",
    "\n",
    "# Cross validation model\n",
    "if stratified:\n",
    "    folds = StratifiedKFold(n_splits= num_folds, shuffle=True, random_state=1001)\n",
    "else:\n",
    "    folds = KFold(n_splits= num_folds, shuffle=True, random_state=1001)\n",
    "    \n",
    "# Create arrays and dataframes to store results\n",
    "oof_preds = np.zeros(train_df.shape[0])\n",
    "sub_preds = np.zeros(test_df.shape[0])\n",
    "feature_importance_df = pd.DataFrame()\n",
    "\n",
    "# Create arrays and dataframes to store results\n",
    "feats = [f for f in train_df.columns if f not in ['TARGET', 'Unnamed: 0', 'Unnamed0',\n",
    "                                                  'SK_ID_CURR','SK_ID_BUREAU','SK_ID_PREV','index']]\n"
   ]
  },
  {
   "cell_type": "code",
   "execution_count": 26,
   "id": "66f684cc",
   "metadata": {},
   "outputs": [
    {
     "name": "stdout",
     "output_type": "stream",
     "text": [
      "Training until validation scores don't improve for 200 rounds\n",
      "[200]\ttraining's auc: 0.83912\ttraining's binary_logloss: 0.213561\tvalid_1's auc: 0.768353\tvalid_1's binary_logloss: 0.255688\n",
      "Early stopping, best iteration is:\n",
      "[31]\ttraining's auc: 0.785862\ttraining's binary_logloss: 0.236767\tvalid_1's auc: 0.771756\tvalid_1's binary_logloss: 0.24812\n",
      "[LightGBM] [Warning] num_threads is set with nthread=4, will be overridden by n_jobs=-1. Current value: num_threads=-1\n",
      "[LightGBM] [Warning] min_data_in_leaf is set=38, min_child_samples=20 will be ignored. Current value: min_data_in_leaf=38\n",
      "Training until validation scores don't improve for 200 rounds\n",
      "[200]\ttraining's auc: 0.839675\ttraining's binary_logloss: 0.213982\tvalid_1's auc: 0.77107\tvalid_1's binary_logloss: 0.249432\n",
      "Early stopping, best iteration is:\n",
      "[46]\ttraining's auc: 0.796327\ttraining's binary_logloss: 0.233465\tvalid_1's auc: 0.774286\tvalid_1's binary_logloss: 0.242732\n",
      "[LightGBM] [Warning] num_threads is set with nthread=4, will be overridden by n_jobs=-1. Current value: num_threads=-1\n",
      "[LightGBM] [Warning] min_data_in_leaf is set=38, min_child_samples=20 will be ignored. Current value: min_data_in_leaf=38\n",
      "Training until validation scores don't improve for 200 rounds\n",
      "[200]\ttraining's auc: 0.84124\ttraining's binary_logloss: 0.213262\tvalid_1's auc: 0.759889\tvalid_1's binary_logloss: 0.257141\n",
      "Early stopping, best iteration is:\n",
      "[48]\ttraining's auc: 0.797255\ttraining's binary_logloss: 0.232811\tvalid_1's auc: 0.765971\tvalid_1's binary_logloss: 0.248525\n",
      "[LightGBM] [Warning] num_threads is set with nthread=4, will be overridden by n_jobs=-1. Current value: num_threads=-1\n",
      "[LightGBM] [Warning] min_data_in_leaf is set=38, min_child_samples=20 will be ignored. Current value: min_data_in_leaf=38\n",
      "Training until validation scores don't improve for 200 rounds\n",
      "[200]\ttraining's auc: 0.839044\ttraining's binary_logloss: 0.21439\tvalid_1's auc: 0.766695\tvalid_1's binary_logloss: 0.249387\n",
      "Early stopping, best iteration is:\n",
      "[47]\ttraining's auc: 0.794189\ttraining's binary_logloss: 0.234251\tvalid_1's auc: 0.775623\tvalid_1's binary_logloss: 0.241938\n",
      "[LightGBM] [Warning] num_threads is set with nthread=4, will be overridden by n_jobs=-1. Current value: num_threads=-1\n",
      "[LightGBM] [Warning] min_data_in_leaf is set=38, min_child_samples=20 will be ignored. Current value: min_data_in_leaf=38\n",
      "Training until validation scores don't improve for 200 rounds\n",
      "[200]\ttraining's auc: 0.83867\ttraining's binary_logloss: 0.215321\tvalid_1's auc: 0.766876\tvalid_1's binary_logloss: 0.24379\n",
      "Early stopping, best iteration is:\n",
      "[55]\ttraining's auc: 0.798437\ttraining's binary_logloss: 0.233235\tvalid_1's auc: 0.776366\tvalid_1's binary_logloss: 0.235117\n",
      "[LightGBM] [Warning] num_threads is set with nthread=4, will be overridden by n_jobs=-1. Current value: num_threads=-1\n",
      "[LightGBM] [Warning] min_data_in_leaf is set=38, min_child_samples=20 will be ignored. Current value: min_data_in_leaf=38\n",
      "Training until validation scores don't improve for 200 rounds\n",
      "[200]\ttraining's auc: 0.839901\ttraining's binary_logloss: 0.213976\tvalid_1's auc: 0.750596\tvalid_1's binary_logloss: 0.257075\n",
      "Early stopping, best iteration is:\n",
      "[47]\ttraining's auc: 0.795739\ttraining's binary_logloss: 0.233852\tvalid_1's auc: 0.761711\tvalid_1's binary_logloss: 0.246631\n",
      "[LightGBM] [Warning] num_threads is set with nthread=4, will be overridden by n_jobs=-1. Current value: num_threads=-1\n",
      "[LightGBM] [Warning] min_data_in_leaf is set=38, min_child_samples=20 will be ignored. Current value: min_data_in_leaf=38\n",
      "Training until validation scores don't improve for 200 rounds\n",
      "[200]\ttraining's auc: 0.840389\ttraining's binary_logloss: 0.214101\tvalid_1's auc: 0.76328\tvalid_1's binary_logloss: 0.250421\n",
      "Early stopping, best iteration is:\n",
      "[37]\ttraining's auc: 0.79134\ttraining's binary_logloss: 0.235482\tvalid_1's auc: 0.768512\tvalid_1's binary_logloss: 0.242923\n",
      "[LightGBM] [Warning] num_threads is set with nthread=4, will be overridden by n_jobs=-1. Current value: num_threads=-1\n",
      "[LightGBM] [Warning] min_data_in_leaf is set=38, min_child_samples=20 will be ignored. Current value: min_data_in_leaf=38\n",
      "Training until validation scores don't improve for 200 rounds\n",
      "[200]\ttraining's auc: 0.839763\ttraining's binary_logloss: 0.213947\tvalid_1's auc: 0.760565\tvalid_1's binary_logloss: 0.255007\n",
      "Early stopping, best iteration is:\n",
      "[57]\ttraining's auc: 0.800587\ttraining's binary_logloss: 0.231386\tvalid_1's auc: 0.769353\tvalid_1's binary_logloss: 0.247038\n",
      "[LightGBM] [Warning] num_threads is set with nthread=4, will be overridden by n_jobs=-1. Current value: num_threads=-1\n",
      "[LightGBM] [Warning] min_data_in_leaf is set=38, min_child_samples=20 will be ignored. Current value: min_data_in_leaf=38\n",
      "Training until validation scores don't improve for 200 rounds\n",
      "[200]\ttraining's auc: 0.837294\ttraining's binary_logloss: 0.214835\tvalid_1's auc: 0.769594\tvalid_1's binary_logloss: 0.251904\n",
      "Early stopping, best iteration is:\n",
      "[43]\ttraining's auc: 0.791173\ttraining's binary_logloss: 0.235384\tvalid_1's auc: 0.772471\tvalid_1's binary_logloss: 0.246194\n",
      "[LightGBM] [Warning] num_threads is set with nthread=4, will be overridden by n_jobs=-1. Current value: num_threads=-1\n",
      "[LightGBM] [Warning] min_data_in_leaf is set=38, min_child_samples=20 will be ignored. Current value: min_data_in_leaf=38\n",
      "Training until validation scores don't improve for 200 rounds\n",
      "[200]\ttraining's auc: 0.840233\ttraining's binary_logloss: 0.214023\tvalid_1's auc: 0.763391\tvalid_1's binary_logloss: 0.250678\n",
      "Early stopping, best iteration is:\n",
      "[34]\ttraining's auc: 0.787721\ttraining's binary_logloss: 0.236657\tvalid_1's auc: 0.771535\tvalid_1's binary_logloss: 0.241989\n"
     ]
    }
   ],
   "source": [
    "#Best  -0.089 params {'learning_rate': 0.6558478063333454, 'max_depth': 5.0, 'min_data_in_leaf': 21.0, \n",
    "# 'n_estimators': 784.0, 'num_leaves': 33.0}\n",
    "\n",
    "for n_fold, (train_idx, valid_idx) in enumerate(folds.split(train_df[feats], train_df['TARGET'])):\n",
    "    train_x, train_y = train_df[feats].iloc[train_idx], train_df['TARGET'].iloc[train_idx]\n",
    "    valid_x, valid_y = train_df[feats].iloc[valid_idx], train_df['TARGET'].iloc[valid_idx]\n",
    "    \n",
    "    train_x.to_csv(\"../my_csv_files/MY_train_x.csv\")\n",
    "    valid_x.to_csv(\"../my_csv_files/MY_valid_x.csv\")\n",
    "    valid_y.to_csv(\"../my_csv_files/MY_valid_y.csv\")\n",
    "\n",
    "    # LightGBM parameters found by Bayesian optimization, Kaggle version\n",
    "    #clf = LGBMClassifier(\n",
    "    #    nthread=4,\n",
    "    #    n_estimators=10000,\n",
    "    #    learning_rate=0.02,\n",
    "    #    num_leaves=34,\n",
    "    #    colsample_bytree=0.9497036,\n",
    "    #    subsample=0.8715623,\n",
    "    #    max_depth=8,\n",
    "    #    reg_alpha=0.041545473,\n",
    "    #    reg_lambda=0.0735294,\n",
    "    #    min_split_gain=0.0222415,\n",
    "    #    min_child_weight=39.3259775,\n",
    "    #    silent=-1,\n",
    "    #    verbose=-1, )\n",
    "    \n",
    "    # Light GBM parameters found by my hyperparameter search\n",
    "    clf = LGBMClassifier(\n",
    "        nthread=4,\n",
    "        n_estimators=10000,\n",
    "        learning_rate = 0.8000244061153212,\n",
    "        num_leaves = 9,\n",
    "        max_depth = 3,\n",
    "        reg_alpha = 0.14115013635015627,\n",
    "        reg_lambda = 0.07732219700093725,\n",
    "        min_data_in_leaf = 38,\n",
    "        subsample = 0.49209951058450563,\n",
    "        min_split_gain = 0.7135796499309978,\n",
    "        silent=-1,\n",
    "        verbose=-1, )\n",
    "        \n",
    "        \n",
    "    clf.fit(train_x, train_y, eval_set=[(train_x, train_y), (valid_x, valid_y)], \n",
    "            verbose= 200, early_stopping_rounds= 200, eval_metric = \"auc\")\n",
    "            #my_comp_score_lgbm)\n",
    "\n",
    "    oof_preds[valid_idx] = clf.predict_proba(valid_x, num_iteration=clf.best_iteration_)[:, 1]\n",
    "    sub_preds += clf.predict_proba(test_df[feats], num_iteration=clf.best_iteration_)[:, 1] / folds.n_splits\n",
    "    \n",
    "    valid_preds = clf.predict(valid_x, num_iteration = clf.best_iteration_)\n",
    "    valid_preds_proba = clf.predict_proba(valid_x, num_iteration = clf.best_iteration_)\n",
    "\n",
    "    fold_importance_df = pd.DataFrame()\n",
    "    fold_importance_df[\"feature\"] = feats\n",
    "    fold_importance_df[\"importance\"] = clf.feature_importances_\n",
    "    fold_importance_df[\"fold\"] = n_fold + 1\n",
    "    feature_importance_df = pd.concat([feature_importance_df, fold_importance_df], axis = 0)\n",
    "    #print('Fold %2d AUC : %.6f' % (n_fold + 1, roc_auc_score(valid_y, oof_preds[valid_idx])))\n",
    "    #del clf, train_x, train_y, valid_x, valid_y\n",
    "    #gc.collect()\n"
   ]
  },
  {
   "cell_type": "code",
   "execution_count": 28,
   "id": "caab29b4",
   "metadata": {},
   "outputs": [
    {
     "data": {
      "text/plain": [
       "34"
      ]
     },
     "execution_count": 28,
     "metadata": {},
     "output_type": "execute_result"
    }
   ],
   "source": [
    "clf.best_iteration_"
   ]
  },
  {
   "cell_type": "code",
   "execution_count": 32,
   "id": "b30f62b2",
   "metadata": {},
   "outputs": [],
   "source": [
    "import pickle\n",
    "import joblib\n",
    "\n",
    "joblib.dump(clf, \"../Models/lgbm__trained_my_score03.sav\")\n",
    "pickle.dump(clf, open(\"../Models/lgbm_trained_my_score03.pickle\", 'wb'))\n"
   ]
  },
  {
   "cell_type": "code",
   "execution_count": null,
   "id": "186d4468",
   "metadata": {},
   "outputs": [],
   "source": [
    "# binary logloss version of LGBM\n",
    "\n",
    "import pickle\n",
    "import joblib\n",
    "\n",
    "model_lgbm = joblib.load(\"../Models/lgbm__trained_my_hypers_my_scorer1.sav\")\n"
   ]
  },
  {
   "cell_type": "code",
   "execution_count": null,
   "id": "7d687e06",
   "metadata": {},
   "outputs": [],
   "source": [
    "joblib.load(\"../Models/lgbm_my_hyperparsmodel.pickle\")"
   ]
  },
  {
   "cell_type": "code",
   "execution_count": null,
   "id": "fa0af9a2",
   "metadata": {},
   "outputs": [],
   "source": [
    "joblib.load('../Models/model_lgbm_my_hypers_my_scorer.pickle')"
   ]
  },
  {
   "cell_type": "code",
   "execution_count": null,
   "id": "56179daa-d7a9-4925-bb52-b60e3e466b61",
   "metadata": {},
   "outputs": [],
   "source": []
  },
  {
   "cell_type": "markdown",
   "id": "aa0c505a-5f36-4599-a2c4-020a01d51000",
   "metadata": {},
   "source": [
    "## Results from version with my hyperparameters optimized at 0.3 thresh \n",
    "Hyperparameter search model :\n",
    "\n",
    "hyperpar_search_lgbm_thresh03model.sav\n",
    "hyperpar_search_lgbm_thresh03model.pickle\n",
    "\n",
    "LGBM Trained:\n",
    "lgbm__trained_my_score03.sav\n",
    "lgbm__trained_my_score03.pickle\n",
    "\n",
    "Best  -0.168 params {'learning_rate': 0.8000244061153212, 'max_depth': 3.0, 'min_data_in_leaf': 38.0, 'min_split_gain': 0.7135796499309978, 'num_leaves': 9.0, 'reg_alpha': 0.14115013635015627, 'reg_lambda': 0.07732219700093725, 'subsample': 0.49209951058450563}\n",
    "\n"
   ]
  },
  {
   "cell_type": "code",
   "execution_count": 33,
   "id": "4131db93-c65c-4715-8374-28b496599bba",
   "metadata": {},
   "outputs": [
    {
     "data": {
      "text/plain": [
       "array([[28132,   165],\n",
       "       [ 2313,   140]])"
      ]
     },
     "execution_count": 33,
     "metadata": {},
     "output_type": "execute_result"
    }
   ],
   "source": [
    "from sklearn.metrics import confusion_matrix\n",
    "\n",
    "conf_lgm = confusion_matrix(valid_y, valid_preds)\n",
    "conf_lgm"
   ]
  },
  {
   "cell_type": "code",
   "execution_count": 34,
   "id": "c7a05d9a-a270-49bd-b17b-9838a508cce7",
   "metadata": {},
   "outputs": [
    {
     "data": {
      "text/plain": [
       "array([[27393,   904],\n",
       "       [ 1966,   487]])"
      ]
     },
     "execution_count": 34,
     "metadata": {},
     "output_type": "execute_result"
    }
   ],
   "source": [
    "# for now y_pred is the probability that the value is 1\n",
    "my_valids = [1 if i >= 0.3 else 0 for i in valid_preds_proba[:,1]]\n",
    "    \n",
    "my_valids = pd.Series(my_valids)\n",
    "\n",
    "confusion_matrix(valid_y, my_valids)"
   ]
  },
  {
   "cell_type": "code",
   "execution_count": 36,
   "id": "379621ea-000c-4b4b-b684-637af3510c3a",
   "metadata": {},
   "outputs": [
    {
     "data": {
      "text/plain": [
       "0.16167957602935182"
      ]
     },
     "execution_count": 36,
     "metadata": {},
     "output_type": "execute_result"
    }
   ],
   "source": [
    "tn, fp, fn, tp = confusion_matrix(valid_y, my_valids).ravel()\n",
    "\n",
    "tn_weight = 1\n",
    "fp_weight = 0\n",
    "fn_weight = -10\n",
    "tp_weight = 0\n",
    "# gain function for company, true positives and false positives don't matter that much to us\n",
    "# we want to penalise the false negatives, and we want to say yes to true negatives\n",
    "gain = tp*(tp_weight) + tn*(tn_weight) + fp*(fp_weight) + fn*(fn_weight)\n",
    "\n",
    "# best represents scenario where there are no false negatives or false postives\n",
    "# so all false positives would be correctly shown as negative\n",
    "# and all false negatives would be correctly show as positive\n",
    "best = (tn + fp) * tn_weight + (tp + fn) * tp_weight\n",
    "\n",
    "# baseline is a naive model that predicts non default(negative) for everyone\n",
    "# but all true positives and false negatives would be incorrectly shown as negative\n",
    "baseline = (tn + fp) * tn_weight + (tp + fn) * fn_weight\n",
    "\n",
    "score = (gain - baseline) / (best - baseline)\n",
    "\n",
    "score"
   ]
  },
  {
   "cell_type": "code",
   "execution_count": 44,
   "id": "3c37317e-f751-48cc-ad22-f79ae4117250",
   "metadata": {},
   "outputs": [
    {
     "data": {
      "image/png": "[encoded data removed]",
      "text/plain": [
       "<Figure size 576x720 with 1 Axes>"
      ]
     },
     "metadata": {
      "needs_background": "light"
     },
     "output_type": "display_data"
    }
   ],
   "source": [
    "display_importances(feature_importance_df)"
   ]
  },
  {
   "cell_type": "code",
   "execution_count": 48,
   "id": "485ba0ee-668b-4e2b-ad38-17b56314a478",
   "metadata": {},
   "outputs": [
    {
     "data": {
      "text/plain": [
       "Index(['EXT_SOURCE_3', 'EXT_SOURCE_2', 'PAYMENT_RATE', 'EXT_SOURCE_1',\n",
       "       'DAYS_BIRTH', 'ACTIVE_DAYS_CREDIT_MAX', 'APPROVED_CNT_PAYMENT_MEAN',\n",
       "       'INSTAL_AMT_PAYMENT_SUM', 'DAYS_EMPLOYED', 'AMT_CREDIT', 'AMT_ANNUITY',\n",
       "       'AMT_GOODS_PRICE', 'INSTAL_DPD_MEAN', 'PREV_CNT_PAYMENT_MEAN',\n",
       "       'OWN_CAR_AGE', 'INSTAL_DAYS_ENTRY_PAYMENT_MAX',\n",
       "       'PREV_NAME_CONTRACT_STATUS_Refused_MEAN', 'ANNUITY_INCOME_PERC',\n",
       "       'DAYS_ID_PUBLISH', 'CC_CNT_DRAWINGS_ATM_CURRENT_MEAN', 'CODE_GENDER',\n",
       "       'BURO_CREDIT_TYPE_Microloan_MEAN', 'ACTIVE_DAYS_CREDIT_ENDDATE_MIN',\n",
       "       'ACTIVE_AMT_CREDIT_MAX_OVERDUE_MEAN', 'REGION_RATING_CLIENT_W_CITY',\n",
       "       'BURO_AMT_CREDIT_MAX_OVERDUE_MEAN', 'BURO_AMT_CREDIT_SUM_DEBT_MEAN',\n",
       "       'ACTIVE_AMT_CREDIT_SUM_LIMIT_MEAN', 'BURO_AMT_CREDIT_SUM_SUM',\n",
       "       'POS_SK_DPD_DEF_MAX', 'ACTIVE_DAYS_CREDIT_ENDDATE_MAX',\n",
       "       'POS_SK_DPD_DEF_MEAN', 'ACTIVE_AMT_CREDIT_SUM_SUM',\n",
       "       'NAME_FAMILY_STATUS_Married', 'ACTIVE_DAYS_CREDIT_ENDDATE_MEAN',\n",
       "       'BURO_DAYS_CREDIT_ENDDATE_MAX', 'DAYS_REGISTRATION',\n",
       "       'INSTAL_AMT_INSTALMENT_MAX', 'POS_MONTHS_BALANCE_SIZE',\n",
       "       'CLOSED_AMT_CREDIT_SUM_MEAN'],\n",
       "      dtype='object', name='feature')"
      ]
     },
     "execution_count": 48,
     "metadata": {},
     "output_type": "execute_result"
    }
   ],
   "source": [
    "cols = feature_importance_df[[\"feature\", \"importance\"]].groupby(\"feature\").mean().sort_values(by=\"importance\", ascending=False)[:40].index\n",
    "cols"
   ]
  },
  {
   "cell_type": "code",
   "execution_count": 51,
   "id": "8ef1926d-afe0-49b0-ad50-28982ccce297",
   "metadata": {},
   "outputs": [
    {
     "data": {
      "text/html": [
       "<div>\n",
       "<style scoped>\n",
       "    .dataframe tbody tr th:only-of-type {\n",
       "        vertical-align: middle;\n",
       "    }\n",
       "\n",
       "    .dataframe tbody tr th {\n",
       "        vertical-align: top;\n",
       "    }\n",
       "\n",
       "    .dataframe thead th {\n",
       "        text-align: right;\n",
       "    }\n",
       "</style>\n",
       "<table border=\"1\" class=\"dataframe\">\n",
       "  <thead>\n",
       "    <tr style=\"text-align: right;\">\n",
       "      <th></th>\n",
       "      <th>feature</th>\n",
       "      <th>importance</th>\n",
       "      <th>fold</th>\n",
       "    </tr>\n",
       "  </thead>\n",
       "  <tbody>\n",
       "    <tr>\n",
       "      <th>612</th>\n",
       "      <td>POS_MONTHS_BALANCE_SIZE</td>\n",
       "      <td>0</td>\n",
       "      <td>5</td>\n",
       "    </tr>\n",
       "    <tr>\n",
       "      <th>643</th>\n",
       "      <td>INSTAL_AMT_INSTALMENT_MAX</td>\n",
       "      <td>0</td>\n",
       "      <td>10</td>\n",
       "    </tr>\n",
       "    <tr>\n",
       "      <th>250</th>\n",
       "      <td>BURO_DAYS_CREDIT_ENDDATE_MAX</td>\n",
       "      <td>0</td>\n",
       "      <td>7</td>\n",
       "    </tr>\n",
       "    <tr>\n",
       "      <th>615</th>\n",
       "      <td>POS_SK_DPD_DEF_MAX</td>\n",
       "      <td>0</td>\n",
       "      <td>5</td>\n",
       "    </tr>\n",
       "    <tr>\n",
       "      <th>250</th>\n",
       "      <td>BURO_DAYS_CREDIT_ENDDATE_MAX</td>\n",
       "      <td>0</td>\n",
       "      <td>10</td>\n",
       "    </tr>\n",
       "    <tr>\n",
       "      <th>...</th>\n",
       "      <td>...</td>\n",
       "      <td>...</td>\n",
       "      <td>...</td>\n",
       "    </tr>\n",
       "    <tr>\n",
       "      <th>32</th>\n",
       "      <td>EXT_SOURCE_3</td>\n",
       "      <td>20</td>\n",
       "      <td>2</td>\n",
       "    </tr>\n",
       "    <tr>\n",
       "      <th>244</th>\n",
       "      <td>PAYMENT_RATE</td>\n",
       "      <td>20</td>\n",
       "      <td>5</td>\n",
       "    </tr>\n",
       "    <tr>\n",
       "      <th>32</th>\n",
       "      <td>EXT_SOURCE_3</td>\n",
       "      <td>20</td>\n",
       "      <td>6</td>\n",
       "    </tr>\n",
       "    <tr>\n",
       "      <th>32</th>\n",
       "      <td>EXT_SOURCE_3</td>\n",
       "      <td>20</td>\n",
       "      <td>8</td>\n",
       "    </tr>\n",
       "    <tr>\n",
       "      <th>32</th>\n",
       "      <td>EXT_SOURCE_3</td>\n",
       "      <td>21</td>\n",
       "      <td>5</td>\n",
       "    </tr>\n",
       "  </tbody>\n",
       "</table>\n",
       "<p>400 rows × 3 columns</p>\n",
       "</div>"
      ],
      "text/plain": [
       "                          feature  importance  fold\n",
       "612       POS_MONTHS_BALANCE_SIZE           0     5\n",
       "643     INSTAL_AMT_INSTALMENT_MAX           0    10\n",
       "250  BURO_DAYS_CREDIT_ENDDATE_MAX           0     7\n",
       "615            POS_SK_DPD_DEF_MAX           0     5\n",
       "250  BURO_DAYS_CREDIT_ENDDATE_MAX           0    10\n",
       "..                            ...         ...   ...\n",
       "32                   EXT_SOURCE_3          20     2\n",
       "244                  PAYMENT_RATE          20     5\n",
       "32                   EXT_SOURCE_3          20     6\n",
       "32                   EXT_SOURCE_3          20     8\n",
       "32                   EXT_SOURCE_3          21     5\n",
       "\n",
       "[400 rows x 3 columns]"
      ]
     },
     "execution_count": 51,
     "metadata": {},
     "output_type": "execute_result"
    }
   ],
   "source": [
    "#best_features = \n",
    "feature_importance_df.loc[feature_importance_df.feature.isin(cols)].sort_values(by = 'importance')"
   ]
  },
  {
   "cell_type": "code",
   "execution_count": null,
   "id": "1a885399-37fe-4956-8529-c6d861717853",
   "metadata": {},
   "outputs": [],
   "source": []
  },
  {
   "cell_type": "markdown",
   "id": "ac761e4c-4e9e-4a2f-a075-a109560a1f8b",
   "metadata": {},
   "source": [
    "## Results from version with my hyperparameters optimized at 0.4 thresh \n",
    "Hyperparameter search model :\n",
    "\n",
    "hyperpar_search_lgbm_thresh04model.pickle\n",
    "\n",
    "Best  -0.124 params {'learning_rate': 0.7647979850346045, 'max_depth': 7.0, 'min_data_in_leaf': 35.0, 'min_split_gain': 0.10084477620937958, 'num_leaves': 32.0, 'reg_lambda': 0.8748371874180665, 'subsample': 0.5685052618291946}\n"
   ]
  },
  {
   "cell_type": "code",
   "execution_count": 62,
   "id": "9c291d64-a8b3-4d91-97a5-7f4531238753",
   "metadata": {},
   "outputs": [
    {
     "data": {
      "text/plain": [
       "array([[28059,   238],\n",
       "       [ 2289,   164]])"
      ]
     },
     "execution_count": 62,
     "metadata": {},
     "output_type": "execute_result"
    }
   ],
   "source": [
    "from sklearn.metrics import confusion_matrix\n",
    "\n",
    "conf_lgm = confusion_matrix(valid_y, valid_preds)\n",
    "conf_lgm"
   ]
  },
  {
   "cell_type": "code",
   "execution_count": 63,
   "id": "b521eb71-1821-4fb6-a794-b163845284be",
   "metadata": {},
   "outputs": [
    {
     "data": {
      "text/plain": [
       "array([[27279,  1018],\n",
       "       [ 1982,   471]])"
      ]
     },
     "execution_count": 63,
     "metadata": {},
     "output_type": "execute_result"
    }
   ],
   "source": [
    "# for now y_pred is the probability that the value is 1\n",
    "my_valids = [1 if i >= 0.3 else 0 for i in valid_preds_proba[:,1]]\n",
    "    \n",
    "my_valids = pd.Series(my_valids)\n",
    "\n",
    "confusion_matrix(valid_y, my_valids)"
   ]
  },
  {
   "cell_type": "code",
   "execution_count": null,
   "id": "243cb8f1-a3fd-40e3-8e4f-d21ae76a6133",
   "metadata": {},
   "outputs": [],
   "source": []
  },
  {
   "cell_type": "markdown",
   "id": "58327524-d1fd-4c2c-9982-7a714935f965",
   "metadata": {},
   "source": [
    "## Results from Kaggle version + Auc\n"
   ]
  },
  {
   "cell_type": "code",
   "execution_count": null,
   "id": "bbba3fae-65be-41ab-8fec-dfa2b4478b28",
   "metadata": {},
   "outputs": [],
   "source": [
    "joblib.dump(clf, \"../Models/lgbm__trained_kaggle_auc.sav\")\n",
    "pickle.dump(clf, open(\"../Models/lgbm_trained_kaggle_auc.pickle\", 'wb'))\n",
    "\n"
   ]
  },
  {
   "cell_type": "code",
   "execution_count": 16,
   "id": "1d6c50bf-0cf6-4567-9c07-9b3f79a57dc7",
   "metadata": {},
   "outputs": [
    {
     "data": {
      "text/plain": [
       "array([[28208,    89],\n",
       "       [ 2308,   145]])"
      ]
     },
     "execution_count": 16,
     "metadata": {},
     "output_type": "execute_result"
    }
   ],
   "source": [
    "from sklearn.metrics import confusion_matrix\n",
    "\n",
    "conf_lgm = confusion_matrix(valid_y, valid_preds)\n",
    "conf_lgm"
   ]
  },
  {
   "cell_type": "code",
   "execution_count": 64,
   "id": "6e92f840-d124-457b-9c20-945d1dbf8ba4",
   "metadata": {},
   "outputs": [
    {
     "data": {
      "text/plain": [
       "0.05715450468813697"
      ]
     },
     "execution_count": 64,
     "metadata": {},
     "output_type": "execute_result"
    }
   ],
   "source": [
    "tn, fp, fn, tp = confusion_matrix(valid_y, valid_preds).ravel()\n",
    "\n",
    "tn_weight = 1\n",
    "fp_weight = 0\n",
    "fn_weight = -10\n",
    "tp_weight = 0\n",
    "# gain function for company, true positives and false positives don't matter that much to us\n",
    "# we want to penalise the false negatives, and we want to say yes to true negatives\n",
    "gain = tp*(tp_weight) + tn*(tn_weight) + fp*(fp_weight) + fn*(fn_weight)\n",
    "\n",
    "# best represents scenario where there are no false negatives or false postives\n",
    "# so all false positives would be correctly shown as negative\n",
    "# and all false negatives would be correctly show as positive\n",
    "best = (tn + fp) * tn_weight + (tp + fn) * tp_weight\n",
    "\n",
    "# baseline is a naive model that predicts non default(negative) for everyone\n",
    "# but all true positives and false negatives would be incorrectly shown as negative\n",
    "baseline = (tn + fp) * tn_weight + (tp + fn) * fn_weight\n",
    "\n",
    "score = (gain - baseline) / (best - baseline)\n",
    "\n",
    "score"
   ]
  },
  {
   "cell_type": "markdown",
   "id": "f086d499-f52a-4468-a8c6-b770aae16343",
   "metadata": {},
   "source": [
    "##### Changing threshold after the training rounds"
   ]
  },
  {
   "cell_type": "code",
   "execution_count": 17,
   "id": "0d4914d1-7f54-4425-9c6f-3505d03eac59",
   "metadata": {},
   "outputs": [
    {
     "data": {
      "text/plain": [
       "array([[28014,   283],\n",
       "       [ 2176,   277]])"
      ]
     },
     "execution_count": 17,
     "metadata": {},
     "output_type": "execute_result"
    }
   ],
   "source": [
    "# for now y_pred is the probability that the value is 1\n",
    "my_valids = [1 if i >= 0.4 else 0 for i in valid_preds_proba[:,1]]\n",
    "    \n",
    "my_valids = pd.Series(my_valids)\n",
    "\n",
    "confusion_matrix(valid_y, my_valids)"
   ]
  },
  {
   "cell_type": "code",
   "execution_count": 65,
   "id": "cff93036-5e85-42cd-bc90-c64d907ef25e",
   "metadata": {},
   "outputs": [
    {
     "data": {
      "text/plain": [
       "0.15050958010599266"
      ]
     },
     "execution_count": 65,
     "metadata": {},
     "output_type": "execute_result"
    }
   ],
   "source": [
    "tn, fp, fn, tp = confusion_matrix(valid_y, my_valids).ravel()\n",
    "\n",
    "tn_weight = 1\n",
    "fp_weight = 0\n",
    "fn_weight = -10\n",
    "tp_weight = 0\n",
    "# gain function for company, true positives and false positives don't matter that much to us\n",
    "# we want to penalise the false negatives, and we want to say yes to true negatives\n",
    "gain = tp*(tp_weight) + tn*(tn_weight) + fp*(fp_weight) + fn*(fn_weight)\n",
    "\n",
    "# best represents scenario where there are no false negatives or false postives\n",
    "# so all false positives would be correctly shown as negative\n",
    "# and all false negatives would be correctly show as positive\n",
    "best = (tn + fp) * tn_weight + (tp + fn) * tp_weight\n",
    "\n",
    "# baseline is a naive model that predicts non default(negative) for everyone\n",
    "# but all true positives and false negatives would be incorrectly shown as negative\n",
    "baseline = (tn + fp) * tn_weight + (tp + fn) * fn_weight\n",
    "\n",
    "score = (gain - baseline) / (best - baseline)\n",
    "\n",
    "score"
   ]
  },
  {
   "cell_type": "code",
   "execution_count": null,
   "id": "3f46ccb7-3b80-4089-a363-5e8d8644e293",
   "metadata": {},
   "outputs": [],
   "source": []
  },
  {
   "cell_type": "markdown",
   "id": "f11b914e",
   "metadata": {},
   "source": [
    "## Results from Hyperparameter search + My scorer\n",
    "Best  -0.095 params {'learning_rate': 0.7647979850346045, 'max_depth': 7.0, 'min_data_in_leaf': 35.0, 'min_split_gain': 0.10084477620937958, 'num_leaves': 32.0, 'reg_lambda': 0.8748371874180665, 'subsample': 0.5685052618291946}"
   ]
  },
  {
   "cell_type": "code",
   "execution_count": null,
   "id": "517d376a-c3a5-422e-a616-9a2d5ba16213",
   "metadata": {},
   "outputs": [],
   "source": [
    "joblib.dump(clf, \"../Models/lgbm__trained_kaggle_auc.sav\")\n",
    "pickle.dump(clf, open(\"../Models/lgbm_trained_kaggle_auc.pickle\", 'wb'))\n",
    "\n"
   ]
  },
  {
   "cell_type": "code",
   "execution_count": null,
   "id": "6289889c-2535-4189-b9c3-984ab7900494",
   "metadata": {},
   "outputs": [],
   "source": [
    "#model = pickle.load(open(\"../Models/lgbm_trained_my_hypers_my_scorer1.pickle\",'rb'))\n",
    "#model = joblib.load(\"../Models/lgbm__trained_my_hypers_my_scorer1.sav\")\n",
    "\n",
    "# hyperpar_search_output_lgbmmodel.pickle\n",
    "# hyperpar_search_output_lgbmmodel.sav\n"
   ]
  },
  {
   "cell_type": "code",
   "execution_count": null,
   "id": "6506652c",
   "metadata": {},
   "outputs": [],
   "source": [
    "from sklearn.metrics import confusion_matrix\n",
    "\n",
    "conf_lgm = confusion_matrix(valid_y, valid_preds)\n",
    "conf_lgm"
   ]
  },
  {
   "cell_type": "code",
   "execution_count": 18,
   "id": "3fc49372-dfa4-44a4-a857-c9ebfde8c708",
   "metadata": {},
   "outputs": [
    {
     "data": {
      "text/plain": [
       "0.055483081940481044"
      ]
     },
     "execution_count": 18,
     "metadata": {},
     "output_type": "execute_result"
    }
   ],
   "source": [
    "tn, fp, fn, tp = confusion_matrix(valid_y, valid_preds).ravel()\n",
    "\n",
    "tn_weight = 1\n",
    "fp_weight = 0\n",
    "fn_weight = -10\n",
    "tp_weight = 0\n",
    "# gain function for company, true positives and false positives don't matter that much to us\n",
    "# we want to penalise the false negatives, and we want to say yes to true negatives\n",
    "gain = tp*(tp_weight) + tn*(tn_weight) + fp*(fp_weight) + fn*(fn_weight)\n",
    "\n",
    "# best represents scenario where there are no false negatives or false postives\n",
    "# so all false positives would be correctly shown as negative\n",
    "# and all false negatives would be correctly show as positive\n",
    "best = (tn + fp) * tn_weight + (tp + fn) * tp_weight\n",
    "\n",
    "# baseline is a naive model that predicts non default(negative) for everyone\n",
    "# but all true positives and false negatives would be incorrectly shown as negative\n",
    "baseline = (tn + fp) * tn_weight + (tp + fn) * fn_weight\n",
    "\n",
    "score = (gain - baseline) / (best - baseline)\n",
    "\n",
    "score"
   ]
  },
  {
   "cell_type": "markdown",
   "id": "ebda2173",
   "metadata": {},
   "source": [
    "##### Changing threshold after the training rounds"
   ]
  },
  {
   "cell_type": "code",
   "execution_count": null,
   "id": "e067ec72",
   "metadata": {},
   "outputs": [],
   "source": [
    "# for now y_pred is the probability that the value is 1\n",
    "my_valids = [1 if i >= 0.4 else 0 for i in valid_preds_proba[:,1]]\n",
    "    \n",
    "my_valids = pd.Series(my_valids)\n",
    "\n",
    "confusion_matrix(valid_y, my_valids)"
   ]
  },
  {
   "cell_type": "code",
   "execution_count": 19,
   "id": "cce76214-eb4b-498d-9e52-0bd2ce2c88d7",
   "metadata": {},
   "outputs": [
    {
     "data": {
      "text/plain": [
       "0.10138605788830005"
      ]
     },
     "execution_count": 19,
     "metadata": {},
     "output_type": "execute_result"
    }
   ],
   "source": [
    "tn, fp, fn, tp = confusion_matrix(valid_y, my_valids).ravel()\n",
    "\n",
    "tn_weight = 1\n",
    "fp_weight = 0\n",
    "fn_weight = -10\n",
    "tp_weight = 0\n",
    "# gain function for company, true positives and false positives don't matter that much to us\n",
    "# we want to penalise the false negatives, and we want to say yes to true negatives\n",
    "gain = tp*(tp_weight) + tn*(tn_weight) + fp*(fp_weight) + fn*(fn_weight)\n",
    "\n",
    "# best represents scenario where there are no false negatives or false postives\n",
    "# so all false positives would be correctly shown as negative\n",
    "# and all false negatives would be correctly show as positive\n",
    "best = (tn + fp) * tn_weight + (tp + fn) * tp_weight\n",
    "\n",
    "# baseline is a naive model that predicts non default(negative) for everyone\n",
    "# but all true positives and false negatives would be incorrectly shown as negative\n",
    "baseline = (tn + fp) * tn_weight + (tp + fn) * fn_weight\n",
    "\n",
    "score = (gain - baseline) / (best - baseline)\n",
    "\n",
    "score"
   ]
  },
  {
   "cell_type": "code",
   "execution_count": null,
   "id": "dbe13958-0999-47ac-9352-1749a7ec02ec",
   "metadata": {},
   "outputs": [],
   "source": []
  },
  {
   "cell_type": "code",
   "execution_count": null,
   "id": "2c546389-a47b-48fd-b379-be0ba389736f",
   "metadata": {},
   "outputs": [],
   "source": []
  },
  {
   "cell_type": "markdown",
   "id": "df402f2e",
   "metadata": {},
   "source": [
    "##### Testing Lime/ Shap"
   ]
  },
  {
   "cell_type": "code",
   "execution_count": null,
   "id": "69d84f9d",
   "metadata": {},
   "outputs": [],
   "source": [
    "import shap\n",
    "shap.initjs()\n",
    "\n",
    "shap_explainer = shap.TreeExplainer(model)\n",
    "shap_values = shap_explainer.shap_values(train_x)\n",
    "\n",
    "shap.force_plot(shap_explainer.expected_value, shap_values[1, :], test_1)"
   ]
  },
  {
   "cell_type": "code",
   "execution_count": null,
   "id": "c46d952f",
   "metadata": {},
   "outputs": [],
   "source": [
    "shap_explainer.expected_value"
   ]
  },
  {
   "cell_type": "code",
   "execution_count": null,
   "id": "919050df",
   "metadata": {},
   "outputs": [],
   "source": [
    "pd.DataFrame(shap_values)"
   ]
  },
  {
   "cell_type": "code",
   "execution_count": null,
   "id": "c1591a7b",
   "metadata": {},
   "outputs": [],
   "source": [
    "shap_values"
   ]
  },
  {
   "cell_type": "code",
   "execution_count": null,
   "id": "e6dfe893",
   "metadata": {},
   "outputs": [],
   "source": [
    "shap_values[1, :]"
   ]
  },
  {
   "cell_type": "code",
   "execution_count": null,
   "id": "ad01b5f8",
   "metadata": {},
   "outputs": [],
   "source": []
  },
  {
   "cell_type": "code",
   "execution_count": null,
   "id": "8eec26cf",
   "metadata": {},
   "outputs": [],
   "source": [
    "import lime\n",
    "from lime import lime_tabular"
   ]
  },
  {
   "cell_type": "code",
   "execution_count": null,
   "id": "d7f658f6",
   "metadata": {},
   "outputs": [],
   "source": [
    "valid_x.iloc[1]"
   ]
  },
  {
   "cell_type": "code",
   "execution_count": null,
   "id": "2e8a52ef",
   "metadata": {},
   "outputs": [],
   "source": [
    "np.all(np.isfinite(train_x))"
   ]
  },
  {
   "cell_type": "code",
   "execution_count": null,
   "id": "8110e83e",
   "metadata": {},
   "outputs": [],
   "source": [
    "(~np.isfinite(train_x)).sum()"
   ]
  },
  {
   "cell_type": "code",
   "execution_count": null,
   "id": "492e7386",
   "metadata": {},
   "outputs": [],
   "source": [
    "train_x[\"CC_NAME_CONTRACT_STATUS_nan_MEAN\"].sort_values().tail(198500)"
   ]
  },
  {
   "cell_type": "code",
   "execution_count": null,
   "id": "87a593df",
   "metadata": {},
   "outputs": [],
   "source": [
    "lime_explainer = lime_tabular.LimeTabularExplainer(\n",
    "    training_data=np.array(train_x),\n",
    "    feature_names= train_x.columns,\n",
    "    class_names=['bad', 'good'],\n",
    "    mode='classification'\n",
    ")\n",
    "\n",
    "test_1 = valid_x.iloc[1]\n",
    "\n",
    "lime_exp = lime_explainer.explain_instance(\n",
    "    data_row=test_1,\n",
    "    predict_fn=model.predict_proba\n",
    ")\n",
    "\n",
    "lime_exp.show_in_notebook(show_table=True)"
   ]
  },
  {
   "cell_type": "code",
   "execution_count": null,
   "id": "c25e3bd9",
   "metadata": {},
   "outputs": [],
   "source": []
  },
  {
   "cell_type": "markdown",
   "id": "fc7d770a",
   "metadata": {},
   "source": [
    "## Results from my parameters Take 2 + my scorer \n",
    "LGBMClassifier(learning_rate=0.7329004336954504, max_depth=13,\n",
    "               min_data_in_leaf=37, num_leaves=36, random_state=54)\n"
   ]
  },
  {
   "cell_type": "code",
   "execution_count": null,
   "id": "9ff97071",
   "metadata": {},
   "outputs": [],
   "source": [
    "valid_preds_proba.shape"
   ]
  },
  {
   "cell_type": "code",
   "execution_count": null,
   "id": "fadd407f",
   "metadata": {},
   "outputs": [],
   "source": [
    "valid_preds_proba"
   ]
  },
  {
   "cell_type": "code",
   "execution_count": null,
   "id": "93f8bc66",
   "metadata": {},
   "outputs": [],
   "source": [
    "valid_preds_proba[:,1]"
   ]
  },
  {
   "cell_type": "code",
   "execution_count": null,
   "id": "3388e75e",
   "metadata": {},
   "outputs": [],
   "source": [
    "valid_preds.shape"
   ]
  },
  {
   "cell_type": "code",
   "execution_count": null,
   "id": "dd31e007",
   "metadata": {},
   "outputs": [],
   "source": [
    "from sklearn.metrics import confusion_matrix\n",
    "\n",
    "conf_lgm = confusion_matrix(valid_y, valid_preds)\n",
    "conf_lgm"
   ]
  },
  {
   "cell_type": "markdown",
   "id": "d6568c1b",
   "metadata": {},
   "source": [
    "##### Changing threshold after the training rounds"
   ]
  },
  {
   "cell_type": "code",
   "execution_count": null,
   "id": "fa47000a",
   "metadata": {},
   "outputs": [],
   "source": [
    "# for now y_pred is the probability that the value is 1\n",
    "my_valids = [1 if i >= 0.4 else 0 for i in valid_preds_proba[:,1]]\n",
    "    \n",
    "my_valids = pd.Series(my_valids)\n",
    "\n",
    "confusion_matrix(valid_y, my_valids)\n"
   ]
  },
  {
   "cell_type": "code",
   "execution_count": null,
   "id": "fe34850d",
   "metadata": {},
   "outputs": [],
   "source": [
    "tn, fp, fn, tp = confusion_matrix(valid_y, valid_preds).ravel()\n",
    "\n",
    "tn_weight = 1\n",
    "fp_weight = 0\n",
    "fn_weight = -10\n",
    "tp_weight = 0\n",
    "# gain function for company, true positives and false positives don't matter that much to us\n",
    "# we want to penalise the false negatives, and we want to say yes to true negatives\n",
    "gain = tp*(tp_weight) + tn*(tn_weight) + fp*(fp_weight) + fn*(fn_weight)\n",
    "\n",
    "# best represents scenario where there are no false negatives or false postives\n",
    "# so all false positives would be correctly shown as negative\n",
    "# and all false negatives would be correctly show as positive\n",
    "best = (tn + fp) * tn_weight + (tp + fn) * tp_weight\n",
    "\n",
    "# baseline is a naive model that predicts non default(negative) for everyone\n",
    "# but all true positives and false negatives would be incorrectly shown as negative\n",
    "baseline = (tn + fp) * tn_weight + (tp + fn) * fn_weight\n",
    "\n",
    "score = (gain - baseline) / (best - baseline)"
   ]
  },
  {
   "cell_type": "code",
   "execution_count": null,
   "id": "37e5edad",
   "metadata": {},
   "outputs": [],
   "source": []
  },
  {
   "cell_type": "code",
   "execution_count": null,
   "id": "b531f592",
   "metadata": {},
   "outputs": [],
   "source": []
  },
  {
   "cell_type": "markdown",
   "id": "5451c0a8",
   "metadata": {},
   "source": [
    "## Results from my parameters Take 2\n"
   ]
  },
  {
   "cell_type": "code",
   "execution_count": null,
   "id": "226b8463",
   "metadata": {},
   "outputs": [],
   "source": [
    "best_clf_pred_prob = clf.predict_proba(valid_x, num_iteration=clf.best_iteration_)"
   ]
  },
  {
   "cell_type": "code",
   "execution_count": null,
   "id": "429826c2",
   "metadata": {},
   "outputs": [],
   "source": [
    "best_clf_pred_prob.shape"
   ]
  },
  {
   "cell_type": "code",
   "execution_count": null,
   "id": "bd0b4349",
   "metadata": {},
   "outputs": [],
   "source": [
    "valid_preds"
   ]
  },
  {
   "cell_type": "code",
   "execution_count": null,
   "id": "7b6f0ea4",
   "metadata": {},
   "outputs": [],
   "source": [
    "oof_preds.shape"
   ]
  },
  {
   "cell_type": "code",
   "execution_count": null,
   "id": "6bd3cddb",
   "metadata": {},
   "outputs": [],
   "source": [
    "sub_preds"
   ]
  },
  {
   "cell_type": "code",
   "execution_count": null,
   "id": "d41140bb",
   "metadata": {},
   "outputs": [],
   "source": [
    "from sklearn.metrics import confusion_matrix\n",
    "\n",
    "conf_lgm = confusion_matrix(valid_y, valid_preds)\n",
    "conf_lgm"
   ]
  },
  {
   "cell_type": "code",
   "execution_count": null,
   "id": "4f2bcb6a-a6e1-4386-800a-a4857e6ab24c",
   "metadata": {},
   "outputs": [],
   "source": [
    "display_importances(feature_importance_df)"
   ]
  },
  {
   "cell_type": "code",
   "execution_count": null,
   "id": "2eda81e9",
   "metadata": {},
   "outputs": [],
   "source": []
  },
  {
   "cell_type": "code",
   "execution_count": null,
   "id": "93c96349",
   "metadata": {},
   "outputs": [],
   "source": []
  },
  {
   "cell_type": "code",
   "execution_count": null,
   "id": "b56232a9",
   "metadata": {},
   "outputs": [],
   "source": []
  },
  {
   "cell_type": "markdown",
   "id": "a9675900",
   "metadata": {},
   "source": [
    "## Results from my parameters with binary log loss during Training"
   ]
  },
  {
   "cell_type": "code",
   "execution_count": null,
   "id": "df984bc9",
   "metadata": {},
   "outputs": [],
   "source": [
    "model_lgbm.best_iteration_"
   ]
  },
  {
   "cell_type": "code",
   "execution_count": null,
   "id": "6fea885a",
   "metadata": {},
   "outputs": [],
   "source": [
    "best_clf_pred_prob = clf.predict_proba(valid_x, num_iteration=clf.best_iteration_)"
   ]
  },
  {
   "cell_type": "code",
   "execution_count": null,
   "id": "2d8f2b55",
   "metadata": {},
   "outputs": [],
   "source": [
    "best_clf_pred_prob.shape"
   ]
  },
  {
   "cell_type": "code",
   "execution_count": null,
   "id": "83cd11bc",
   "metadata": {},
   "outputs": [],
   "source": [
    "type(best_clf_pred_prob)"
   ]
  },
  {
   "cell_type": "code",
   "execution_count": null,
   "id": "99445643",
   "metadata": {},
   "outputs": [],
   "source": [
    "valid_preds.shape"
   ]
  },
  {
   "cell_type": "code",
   "execution_count": null,
   "id": "cf6a778e",
   "metadata": {},
   "outputs": [],
   "source": [
    "type(valid_preds)"
   ]
  },
  {
   "cell_type": "code",
   "execution_count": null,
   "id": "58f0f0bd",
   "metadata": {},
   "outputs": [],
   "source": [
    "oof_preds.shape"
   ]
  },
  {
   "cell_type": "code",
   "execution_count": null,
   "id": "45ab290d",
   "metadata": {},
   "outputs": [],
   "source": [
    "307507 / 30750"
   ]
  },
  {
   "cell_type": "code",
   "execution_count": null,
   "id": "b578284a",
   "metadata": {},
   "outputs": [],
   "source": [
    "from sklearn.metrics import confusion_matrix\n",
    "\n",
    "conf_lgm = confusion_matrix(valid_y, valid_preds)\n",
    "conf_lgm"
   ]
  },
  {
   "cell_type": "code",
   "execution_count": null,
   "id": "f7b931c1",
   "metadata": {},
   "outputs": [],
   "source": [
    "pd.crosstab(valid_y, valid_preds)"
   ]
  },
  {
   "cell_type": "code",
   "execution_count": null,
   "id": "1cb6475d",
   "metadata": {},
   "outputs": [],
   "source": []
  },
  {
   "cell_type": "markdown",
   "id": "20c4b9f2",
   "metadata": {},
   "source": [
    "## Old Results from Kaggle model Hyperparameters (not using my scorer)"
   ]
  },
  {
   "cell_type": "code",
   "execution_count": null,
   "id": "95a5d652",
   "metadata": {},
   "outputs": [],
   "source": [
    "valid_y.shape"
   ]
  },
  {
   "cell_type": "code",
   "execution_count": null,
   "id": "934ee367",
   "metadata": {},
   "outputs": [],
   "source": [
    "valid_preds.shape"
   ]
  },
  {
   "cell_type": "code",
   "execution_count": null,
   "id": "bdcc52e1",
   "metadata": {},
   "outputs": [],
   "source": [
    "from sklearn.metrics import confusion_matrix\n",
    "\n",
    "conf_lgm = confusion_matrix(valid_y, valid_preds)\n",
    "conf_lgm"
   ]
  },
  {
   "cell_type": "code",
   "execution_count": null,
   "id": "87bace8a",
   "metadata": {},
   "outputs": [],
   "source": [
    "pd.crosstab(valid_y, valid_preds)"
   ]
  },
  {
   "cell_type": "code",
   "execution_count": null,
   "id": "fcb77d84",
   "metadata": {},
   "outputs": [],
   "source": [
    "tn, fp, fn, tp = confusion_matrix(valid_y, valid_preds).ravel()"
   ]
  },
  {
   "cell_type": "code",
   "execution_count": null,
   "id": "e472fd40",
   "metadata": {},
   "outputs": [],
   "source": [
    "tn"
   ]
  },
  {
   "cell_type": "code",
   "execution_count": null,
   "id": "acbe975c",
   "metadata": {},
   "outputs": [],
   "source": [
    "fp"
   ]
  },
  {
   "cell_type": "code",
   "execution_count": null,
   "id": "cff1319d",
   "metadata": {},
   "outputs": [],
   "source": [
    "fn"
   ]
  },
  {
   "cell_type": "code",
   "execution_count": null,
   "id": "381ac0fa",
   "metadata": {},
   "outputs": [],
   "source": [
    "tp"
   ]
  },
  {
   "cell_type": "code",
   "execution_count": null,
   "id": "bde066ed",
   "metadata": {},
   "outputs": [],
   "source": []
  },
  {
   "cell_type": "code",
   "execution_count": null,
   "id": "ea2da468",
   "metadata": {},
   "outputs": [],
   "source": []
  },
  {
   "cell_type": "markdown",
   "id": "c0653d78",
   "metadata": {},
   "source": [
    "# Function Version"
   ]
  },
  {
   "cell_type": "code",
   "execution_count": null,
   "id": "ccd514db",
   "metadata": {},
   "outputs": [],
   "source": [
    "    with timer(\"Run LightGBM with kfold\"):\n",
    "            submission_file_name = \"../my_csv_files/submission_kernel02.csv\"\n",
    "        feat_importance = kfold_lightgbm(df, num_folds= 10, stratified= False, debug= debug)"
   ]
  },
  {
   "cell_type": "code",
   "execution_count": null,
   "id": "a9eee3cb",
   "metadata": {},
   "outputs": [],
   "source": [
    "\n",
    "\n",
    "def kfold_lightgbm(df, num_folds, stratified = False, debug= False):\n",
    "\n",
    "    # Write submission file and plot feature importance\n",
    "    if not debug:\n",
    "        test_df['TARGET'] = sub_preds\n",
    "        test_df[['SK_ID_CURR', 'TARGET']].to_csv(submission_file_name, index= False)\n",
    "    display_importances(feature_importance_df)\n",
    "    return feature_importance_df"
   ]
  },
  {
   "cell_type": "code",
   "execution_count": null,
   "id": "da1eb58c",
   "metadata": {},
   "outputs": [],
   "source": []
  }
 ],
 "metadata": {
  "interpreter": {
   "hash": "de1a9a2c80f41e5479edf454b14dc10e863c499e31bedab0f38b7e44aee28084"
  },
  "kernelspec": {
   "display_name": "Python 3",
   "language": "python",
   "name": "python3"
  },
  "language_info": {
   "codemirror_mode": {
    "name": "ipython",
    "version": 3
   },
   "file_extension": ".py",
   "mimetype": "text/x-python",
   "name": "python",
   "nbconvert_exporter": "python",
   "pygments_lexer": "ipython3",
   "version": "3.9.6"
  }
 },
 "nbformat": 4,
 "nbformat_minor": 5
}
