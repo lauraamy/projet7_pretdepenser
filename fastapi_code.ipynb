{
 "cells": [
  {
   "cell_type": "code",
   "execution_count": null,
   "id": "d86c52f0-56ac-41b3-aaa0-da7f9ef63b00",
   "metadata": {},
   "outputs": [],
   "source": [
    "import joblib\n",
    "import re\n",
    "from fastapi import FastAPI\n",
    "\n",
    "app = FastAPI()"
   ]
  },
  {
   "cell_type": "code",
   "execution_count": null,
   "id": "f986f6e8-9d9a-4832-be23-34e0f51701d4",
   "metadata": {},
   "outputs": [],
   "source": [
    "@app.get('/')\n",
    "def get_root():\n",
    "    return {'message': 'Welcome to the spam detection API'}"
   ]
  },
  {
   "cell_type": "code",
   "execution_count": null,
   "id": "816c4fc4-0f8d-4a53-88cf-03cc8816b920",
   "metadata": {},
   "outputs": [],
   "source": []
  },
  {
   "cell_type": "code",
   "execution_count": null,
   "id": "c1f27a11-63fd-427d-9c43-a9f341cdd75e",
   "metadata": {},
   "outputs": [],
   "source": []
  }
 ],
 "metadata": {
  "kernelspec": {
   "display_name": "Python 3",
   "language": "python",
   "name": "python3"
  },
  "language_info": {
   "codemirror_mode": {
    "name": "ipython",
    "version": 3
   },
   "file_extension": ".py",
   "mimetype": "text/x-python",
   "name": "python",
   "nbconvert_exporter": "python",
   "pygments_lexer": "ipython3",
   "version": "3.9.5"
  }
 },
 "nbformat": 4,
 "nbformat_minor": 5
}