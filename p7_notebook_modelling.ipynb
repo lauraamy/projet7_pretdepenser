{
 "cells": [
  {
   "cell_type": "markdown",
   "id": "6d8fbe37-bab5-4e9a-abd7-9d40d0e9325c",
   "metadata": {},
   "source": [
    "# Modelling Notebook"
   ]
  },
  {
   "cell_type": "code",
   "execution_count": 13,
   "id": "a5e97dcd-08e9-4d54-8b6f-5c509c9f93c4",
   "metadata": {},
   "outputs": [],
   "source": [
    "import pandas as pd\n",
    "import numpy as np\n",
    "import matplotlib.pyplot as plt\n",
    "%matplotlib inline\n",
    "\n",
    "import seaborn as sns\n",
    "\n",
    "import gc\n",
    "import warnings\n",
    "import os\n",
    "import timeit\n",
    "\n",
    "from lightgbm import LGBMClassifier\n",
    "from sklearn.metrics import roc_auc_score, roc_curve\n",
    "from sklearn.model_selection import KFold, StratifiedKFold"
   ]
  },
  {
   "cell_type": "markdown",
   "id": "2a859088-f80d-47f7-a208-41026752e16f",
   "metadata": {},
   "source": [
    "## Testing & Using Selected Features"
   ]
  },
  {
   "cell_type": "code",
   "execution_count": 14,
   "id": "680fda36-b928-426a-a2f0-99705d43f7b3",
   "metadata": {},
   "outputs": [],
   "source": [
    "# read in data & selected features from p7_notebook_exploration.ipynb\n",
    "feats_importance = pd.read_csv('../my_csv_files/feats_lgbm_mergedcsv_good.csv')"
   ]
  },
  {
   "cell_type": "code",
   "execution_count": 15,
   "id": "5f13b1c9-5bbd-4bb7-a5bd-8bea077282ec",
   "metadata": {},
   "outputs": [],
   "source": [
    "# add TARGET and SK ID CURR to the selected features\n",
    "feats_for_modelling = list(feats_importance[\"feature\"]) + ['TARGET', 'SK_ID_CURR']"
   ]
  },
  {
   "cell_type": "code",
   "execution_count": 3,
   "id": "8b347676-683f-4072-811c-e2a5a4cf5c32",
   "metadata": {},
   "outputs": [],
   "source": [
    "#final_selected_feats = feats_importance[feats_importance[\"feature\"].isin(feats_miss_under30[\"name\"])]\n",
    "#final_selected_feats = final_selected_feats.reset_index(drop=True)"
   ]
  },
  {
   "cell_type": "code",
   "execution_count": 72,
   "id": "d87803d8-5643-43ec-bbc5-4a36ee6a1e37",
   "metadata": {},
   "outputs": [
    {
     "data": {
      "text/plain": [
       "True"
      ]
     },
     "execution_count": 72,
     "metadata": {},
     "output_type": "execute_result"
    }
   ],
   "source": [
    "# the code below is from a previous run, to show that final_selected_feats is equal to feats_combined\n",
    "# from the csv file : ('../my_csv_files/feats_import_combined_lgbm128_mssing.csv')\n",
    "# we will overwrite that file in the cell below\n",
    "#feats_combined.equals(final_selected_feats)"
   ]
  },
  {
   "cell_type": "markdown",
   "id": "2181a948-5828-4e15-ac34-e9f12022a3e3",
   "metadata": {},
   "source": [
    "# Undersampling \n",
    "#### (SMOTE did not improve results in exploration phase, see p7_notebook_pycaret.ipynb) "
   ]
  },
  {
   "cell_type": "code",
   "execution_count": 16,
   "id": "d15becd0-3a31-42c7-ba7e-00835ec01dd4",
   "metadata": {},
   "outputs": [],
   "source": [
    "# read in csv file from p7_notebook_exploration.ipynb\n",
    "merged_all_files_csv = pd.read_csv('../my_csv_files/MY_merged_all_files.csv')"
   ]
  },
  {
   "cell_type": "code",
   "execution_count": 17,
   "id": "7a439a3e-875c-4ef7-b063-60444125ca7b",
   "metadata": {},
   "outputs": [
    {
     "data": {
      "text/html": [
       "<div>\n",
       "<style scoped>\n",
       "    .dataframe tbody tr th:only-of-type {\n",
       "        vertical-align: middle;\n",
       "    }\n",
       "\n",
       "    .dataframe tbody tr th {\n",
       "        vertical-align: top;\n",
       "    }\n",
       "\n",
       "    .dataframe thead th {\n",
       "        text-align: right;\n",
       "    }\n",
       "</style>\n",
       "<table border=\"1\" class=\"dataframe\">\n",
       "  <thead>\n",
       "    <tr style=\"text-align: right;\">\n",
       "      <th></th>\n",
       "      <th>Unnamed: 0</th>\n",
       "      <th>index</th>\n",
       "      <th>SK_ID_CURR</th>\n",
       "      <th>TARGET</th>\n",
       "      <th>CODE_GENDER</th>\n",
       "      <th>FLAG_OWN_CAR</th>\n",
       "      <th>FLAG_OWN_REALTY</th>\n",
       "      <th>CNT_CHILDREN</th>\n",
       "      <th>AMT_INCOME_TOTAL</th>\n",
       "      <th>AMT_CREDIT</th>\n",
       "      <th>...</th>\n",
       "      <th>CC_NAME_CONTRACT_STATUS_Signed_MAX</th>\n",
       "      <th>CC_NAME_CONTRACT_STATUS_Signed_MEAN</th>\n",
       "      <th>CC_NAME_CONTRACT_STATUS_Signed_SUM</th>\n",
       "      <th>CC_NAME_CONTRACT_STATUS_Signed_VAR</th>\n",
       "      <th>CC_NAME_CONTRACT_STATUS_nan_MIN</th>\n",
       "      <th>CC_NAME_CONTRACT_STATUS_nan_MAX</th>\n",
       "      <th>CC_NAME_CONTRACT_STATUS_nan_MEAN</th>\n",
       "      <th>CC_NAME_CONTRACT_STATUS_nan_SUM</th>\n",
       "      <th>CC_NAME_CONTRACT_STATUS_nan_VAR</th>\n",
       "      <th>CC_COUNT</th>\n",
       "    </tr>\n",
       "  </thead>\n",
       "  <tbody>\n",
       "    <tr>\n",
       "      <th>0</th>\n",
       "      <td>0</td>\n",
       "      <td>0</td>\n",
       "      <td>100002</td>\n",
       "      <td>1.0</td>\n",
       "      <td>0</td>\n",
       "      <td>0</td>\n",
       "      <td>0</td>\n",
       "      <td>0</td>\n",
       "      <td>202500.0</td>\n",
       "      <td>406597.5</td>\n",
       "      <td>...</td>\n",
       "      <td>NaN</td>\n",
       "      <td>NaN</td>\n",
       "      <td>NaN</td>\n",
       "      <td>NaN</td>\n",
       "      <td>NaN</td>\n",
       "      <td>NaN</td>\n",
       "      <td>NaN</td>\n",
       "      <td>NaN</td>\n",
       "      <td>NaN</td>\n",
       "      <td>NaN</td>\n",
       "    </tr>\n",
       "    <tr>\n",
       "      <th>1</th>\n",
       "      <td>1</td>\n",
       "      <td>1</td>\n",
       "      <td>100003</td>\n",
       "      <td>0.0</td>\n",
       "      <td>1</td>\n",
       "      <td>0</td>\n",
       "      <td>1</td>\n",
       "      <td>0</td>\n",
       "      <td>270000.0</td>\n",
       "      <td>1293502.5</td>\n",
       "      <td>...</td>\n",
       "      <td>NaN</td>\n",
       "      <td>NaN</td>\n",
       "      <td>NaN</td>\n",
       "      <td>NaN</td>\n",
       "      <td>NaN</td>\n",
       "      <td>NaN</td>\n",
       "      <td>NaN</td>\n",
       "      <td>NaN</td>\n",
       "      <td>NaN</td>\n",
       "      <td>NaN</td>\n",
       "    </tr>\n",
       "    <tr>\n",
       "      <th>2</th>\n",
       "      <td>2</td>\n",
       "      <td>2</td>\n",
       "      <td>100004</td>\n",
       "      <td>0.0</td>\n",
       "      <td>0</td>\n",
       "      <td>1</td>\n",
       "      <td>0</td>\n",
       "      <td>0</td>\n",
       "      <td>67500.0</td>\n",
       "      <td>135000.0</td>\n",
       "      <td>...</td>\n",
       "      <td>NaN</td>\n",
       "      <td>NaN</td>\n",
       "      <td>NaN</td>\n",
       "      <td>NaN</td>\n",
       "      <td>NaN</td>\n",
       "      <td>NaN</td>\n",
       "      <td>NaN</td>\n",
       "      <td>NaN</td>\n",
       "      <td>NaN</td>\n",
       "      <td>NaN</td>\n",
       "    </tr>\n",
       "    <tr>\n",
       "      <th>3</th>\n",
       "      <td>3</td>\n",
       "      <td>3</td>\n",
       "      <td>100006</td>\n",
       "      <td>0.0</td>\n",
       "      <td>1</td>\n",
       "      <td>0</td>\n",
       "      <td>0</td>\n",
       "      <td>0</td>\n",
       "      <td>135000.0</td>\n",
       "      <td>312682.5</td>\n",
       "      <td>...</td>\n",
       "      <td>0.0</td>\n",
       "      <td>0.0</td>\n",
       "      <td>0.0</td>\n",
       "      <td>0.0</td>\n",
       "      <td>0.0</td>\n",
       "      <td>0.0</td>\n",
       "      <td>0.0</td>\n",
       "      <td>0.0</td>\n",
       "      <td>0.0</td>\n",
       "      <td>6.0</td>\n",
       "    </tr>\n",
       "    <tr>\n",
       "      <th>4</th>\n",
       "      <td>4</td>\n",
       "      <td>4</td>\n",
       "      <td>100007</td>\n",
       "      <td>0.0</td>\n",
       "      <td>0</td>\n",
       "      <td>0</td>\n",
       "      <td>0</td>\n",
       "      <td>0</td>\n",
       "      <td>121500.0</td>\n",
       "      <td>513000.0</td>\n",
       "      <td>...</td>\n",
       "      <td>NaN</td>\n",
       "      <td>NaN</td>\n",
       "      <td>NaN</td>\n",
       "      <td>NaN</td>\n",
       "      <td>NaN</td>\n",
       "      <td>NaN</td>\n",
       "      <td>NaN</td>\n",
       "      <td>NaN</td>\n",
       "      <td>NaN</td>\n",
       "      <td>NaN</td>\n",
       "    </tr>\n",
       "    <tr>\n",
       "      <th>...</th>\n",
       "      <td>...</td>\n",
       "      <td>...</td>\n",
       "      <td>...</td>\n",
       "      <td>...</td>\n",
       "      <td>...</td>\n",
       "      <td>...</td>\n",
       "      <td>...</td>\n",
       "      <td>...</td>\n",
       "      <td>...</td>\n",
       "      <td>...</td>\n",
       "      <td>...</td>\n",
       "      <td>...</td>\n",
       "      <td>...</td>\n",
       "      <td>...</td>\n",
       "      <td>...</td>\n",
       "      <td>...</td>\n",
       "      <td>...</td>\n",
       "      <td>...</td>\n",
       "      <td>...</td>\n",
       "      <td>...</td>\n",
       "      <td>...</td>\n",
       "    </tr>\n",
       "    <tr>\n",
       "      <th>356246</th>\n",
       "      <td>356250</td>\n",
       "      <td>48739</td>\n",
       "      <td>456221</td>\n",
       "      <td>NaN</td>\n",
       "      <td>1</td>\n",
       "      <td>0</td>\n",
       "      <td>0</td>\n",
       "      <td>0</td>\n",
       "      <td>121500.0</td>\n",
       "      <td>412560.0</td>\n",
       "      <td>...</td>\n",
       "      <td>NaN</td>\n",
       "      <td>NaN</td>\n",
       "      <td>NaN</td>\n",
       "      <td>NaN</td>\n",
       "      <td>NaN</td>\n",
       "      <td>NaN</td>\n",
       "      <td>NaN</td>\n",
       "      <td>NaN</td>\n",
       "      <td>NaN</td>\n",
       "      <td>NaN</td>\n",
       "    </tr>\n",
       "    <tr>\n",
       "      <th>356247</th>\n",
       "      <td>356251</td>\n",
       "      <td>48740</td>\n",
       "      <td>456222</td>\n",
       "      <td>NaN</td>\n",
       "      <td>1</td>\n",
       "      <td>0</td>\n",
       "      <td>1</td>\n",
       "      <td>2</td>\n",
       "      <td>157500.0</td>\n",
       "      <td>622413.0</td>\n",
       "      <td>...</td>\n",
       "      <td>NaN</td>\n",
       "      <td>NaN</td>\n",
       "      <td>NaN</td>\n",
       "      <td>NaN</td>\n",
       "      <td>NaN</td>\n",
       "      <td>NaN</td>\n",
       "      <td>NaN</td>\n",
       "      <td>NaN</td>\n",
       "      <td>NaN</td>\n",
       "      <td>NaN</td>\n",
       "    </tr>\n",
       "    <tr>\n",
       "      <th>356248</th>\n",
       "      <td>356252</td>\n",
       "      <td>48741</td>\n",
       "      <td>456223</td>\n",
       "      <td>NaN</td>\n",
       "      <td>1</td>\n",
       "      <td>1</td>\n",
       "      <td>0</td>\n",
       "      <td>1</td>\n",
       "      <td>202500.0</td>\n",
       "      <td>315000.0</td>\n",
       "      <td>...</td>\n",
       "      <td>NaN</td>\n",
       "      <td>NaN</td>\n",
       "      <td>NaN</td>\n",
       "      <td>NaN</td>\n",
       "      <td>NaN</td>\n",
       "      <td>NaN</td>\n",
       "      <td>NaN</td>\n",
       "      <td>NaN</td>\n",
       "      <td>NaN</td>\n",
       "      <td>NaN</td>\n",
       "    </tr>\n",
       "    <tr>\n",
       "      <th>356249</th>\n",
       "      <td>356253</td>\n",
       "      <td>48742</td>\n",
       "      <td>456224</td>\n",
       "      <td>NaN</td>\n",
       "      <td>0</td>\n",
       "      <td>0</td>\n",
       "      <td>1</td>\n",
       "      <td>0</td>\n",
       "      <td>225000.0</td>\n",
       "      <td>450000.0</td>\n",
       "      <td>...</td>\n",
       "      <td>NaN</td>\n",
       "      <td>NaN</td>\n",
       "      <td>NaN</td>\n",
       "      <td>NaN</td>\n",
       "      <td>NaN</td>\n",
       "      <td>NaN</td>\n",
       "      <td>NaN</td>\n",
       "      <td>NaN</td>\n",
       "      <td>NaN</td>\n",
       "      <td>NaN</td>\n",
       "    </tr>\n",
       "    <tr>\n",
       "      <th>356250</th>\n",
       "      <td>356254</td>\n",
       "      <td>48743</td>\n",
       "      <td>456250</td>\n",
       "      <td>NaN</td>\n",
       "      <td>1</td>\n",
       "      <td>1</td>\n",
       "      <td>1</td>\n",
       "      <td>0</td>\n",
       "      <td>135000.0</td>\n",
       "      <td>312768.0</td>\n",
       "      <td>...</td>\n",
       "      <td>0.0</td>\n",
       "      <td>0.0</td>\n",
       "      <td>0.0</td>\n",
       "      <td>0.0</td>\n",
       "      <td>0.0</td>\n",
       "      <td>0.0</td>\n",
       "      <td>0.0</td>\n",
       "      <td>0.0</td>\n",
       "      <td>0.0</td>\n",
       "      <td>12.0</td>\n",
       "    </tr>\n",
       "  </tbody>\n",
       "</table>\n",
       "<p>356251 rows × 799 columns</p>\n",
       "</div>"
      ],
      "text/plain": [
       "        Unnamed: 0  index  SK_ID_CURR  TARGET  CODE_GENDER  FLAG_OWN_CAR  \\\n",
       "0                0      0      100002     1.0            0             0   \n",
       "1                1      1      100003     0.0            1             0   \n",
       "2                2      2      100004     0.0            0             1   \n",
       "3                3      3      100006     0.0            1             0   \n",
       "4                4      4      100007     0.0            0             0   \n",
       "...            ...    ...         ...     ...          ...           ...   \n",
       "356246      356250  48739      456221     NaN            1             0   \n",
       "356247      356251  48740      456222     NaN            1             0   \n",
       "356248      356252  48741      456223     NaN            1             1   \n",
       "356249      356253  48742      456224     NaN            0             0   \n",
       "356250      356254  48743      456250     NaN            1             1   \n",
       "\n",
       "        FLAG_OWN_REALTY  CNT_CHILDREN  AMT_INCOME_TOTAL  AMT_CREDIT  ...  \\\n",
       "0                     0             0          202500.0    406597.5  ...   \n",
       "1                     1             0          270000.0   1293502.5  ...   \n",
       "2                     0             0           67500.0    135000.0  ...   \n",
       "3                     0             0          135000.0    312682.5  ...   \n",
       "4                     0             0          121500.0    513000.0  ...   \n",
       "...                 ...           ...               ...         ...  ...   \n",
       "356246                0             0          121500.0    412560.0  ...   \n",
       "356247                1             2          157500.0    622413.0  ...   \n",
       "356248                0             1          202500.0    315000.0  ...   \n",
       "356249                1             0          225000.0    450000.0  ...   \n",
       "356250                1             0          135000.0    312768.0  ...   \n",
       "\n",
       "        CC_NAME_CONTRACT_STATUS_Signed_MAX  \\\n",
       "0                                      NaN   \n",
       "1                                      NaN   \n",
       "2                                      NaN   \n",
       "3                                      0.0   \n",
       "4                                      NaN   \n",
       "...                                    ...   \n",
       "356246                                 NaN   \n",
       "356247                                 NaN   \n",
       "356248                                 NaN   \n",
       "356249                                 NaN   \n",
       "356250                                 0.0   \n",
       "\n",
       "        CC_NAME_CONTRACT_STATUS_Signed_MEAN  \\\n",
       "0                                       NaN   \n",
       "1                                       NaN   \n",
       "2                                       NaN   \n",
       "3                                       0.0   \n",
       "4                                       NaN   \n",
       "...                                     ...   \n",
       "356246                                  NaN   \n",
       "356247                                  NaN   \n",
       "356248                                  NaN   \n",
       "356249                                  NaN   \n",
       "356250                                  0.0   \n",
       "\n",
       "        CC_NAME_CONTRACT_STATUS_Signed_SUM  \\\n",
       "0                                      NaN   \n",
       "1                                      NaN   \n",
       "2                                      NaN   \n",
       "3                                      0.0   \n",
       "4                                      NaN   \n",
       "...                                    ...   \n",
       "356246                                 NaN   \n",
       "356247                                 NaN   \n",
       "356248                                 NaN   \n",
       "356249                                 NaN   \n",
       "356250                                 0.0   \n",
       "\n",
       "        CC_NAME_CONTRACT_STATUS_Signed_VAR  CC_NAME_CONTRACT_STATUS_nan_MIN  \\\n",
       "0                                      NaN                              NaN   \n",
       "1                                      NaN                              NaN   \n",
       "2                                      NaN                              NaN   \n",
       "3                                      0.0                              0.0   \n",
       "4                                      NaN                              NaN   \n",
       "...                                    ...                              ...   \n",
       "356246                                 NaN                              NaN   \n",
       "356247                                 NaN                              NaN   \n",
       "356248                                 NaN                              NaN   \n",
       "356249                                 NaN                              NaN   \n",
       "356250                                 0.0                              0.0   \n",
       "\n",
       "        CC_NAME_CONTRACT_STATUS_nan_MAX  CC_NAME_CONTRACT_STATUS_nan_MEAN  \\\n",
       "0                                   NaN                               NaN   \n",
       "1                                   NaN                               NaN   \n",
       "2                                   NaN                               NaN   \n",
       "3                                   0.0                               0.0   \n",
       "4                                   NaN                               NaN   \n",
       "...                                 ...                               ...   \n",
       "356246                              NaN                               NaN   \n",
       "356247                              NaN                               NaN   \n",
       "356248                              NaN                               NaN   \n",
       "356249                              NaN                               NaN   \n",
       "356250                              0.0                               0.0   \n",
       "\n",
       "        CC_NAME_CONTRACT_STATUS_nan_SUM  CC_NAME_CONTRACT_STATUS_nan_VAR  \\\n",
       "0                                   NaN                              NaN   \n",
       "1                                   NaN                              NaN   \n",
       "2                                   NaN                              NaN   \n",
       "3                                   0.0                              0.0   \n",
       "4                                   NaN                              NaN   \n",
       "...                                 ...                              ...   \n",
       "356246                              NaN                              NaN   \n",
       "356247                              NaN                              NaN   \n",
       "356248                              NaN                              NaN   \n",
       "356249                              NaN                              NaN   \n",
       "356250                              0.0                              0.0   \n",
       "\n",
       "        CC_COUNT  \n",
       "0            NaN  \n",
       "1            NaN  \n",
       "2            NaN  \n",
       "3            6.0  \n",
       "4            NaN  \n",
       "...          ...  \n",
       "356246       NaN  \n",
       "356247       NaN  \n",
       "356248       NaN  \n",
       "356249       NaN  \n",
       "356250      12.0  \n",
       "\n",
       "[356251 rows x 799 columns]"
      ]
     },
     "execution_count": 17,
     "metadata": {},
     "output_type": "execute_result"
    }
   ],
   "source": [
    "merged_all_files_csv"
   ]
  },
  {
   "cell_type": "code",
   "execution_count": 18,
   "id": "0d4d7014-2e0f-4f23-ac33-9d72a7ab442e",
   "metadata": {},
   "outputs": [],
   "source": [
    "# use only the rows where TARGET is not null, and remove any inf values\n",
    "merged_all_files = merged_all_files_csv.iloc[:,1:]\n",
    "merged_with_target = merged_all_files[merged_all_files['TARGET'].notnull()]\n",
    "merged_no_inf = merged_with_target[~merged_with_target.isin([np.inf, -np.inf]).any(1)]"
   ]
  },
  {
   "cell_type": "code",
   "execution_count": 19,
   "id": "fddaeeac-dc6b-4b80-a5fe-b5ec29e8a9b2",
   "metadata": {},
   "outputs": [
    {
     "data": {
      "text/html": [
       "<div>\n",
       "<style scoped>\n",
       "    .dataframe tbody tr th:only-of-type {\n",
       "        vertical-align: middle;\n",
       "    }\n",
       "\n",
       "    .dataframe tbody tr th {\n",
       "        vertical-align: top;\n",
       "    }\n",
       "\n",
       "    .dataframe thead th {\n",
       "        text-align: right;\n",
       "    }\n",
       "</style>\n",
       "<table border=\"1\" class=\"dataframe\">\n",
       "  <thead>\n",
       "    <tr style=\"text-align: right;\">\n",
       "      <th></th>\n",
       "      <th>index</th>\n",
       "      <th>SK_ID_CURR</th>\n",
       "      <th>TARGET</th>\n",
       "      <th>CODE_GENDER</th>\n",
       "      <th>FLAG_OWN_CAR</th>\n",
       "      <th>FLAG_OWN_REALTY</th>\n",
       "      <th>CNT_CHILDREN</th>\n",
       "      <th>AMT_INCOME_TOTAL</th>\n",
       "      <th>AMT_CREDIT</th>\n",
       "      <th>AMT_ANNUITY</th>\n",
       "      <th>...</th>\n",
       "      <th>CC_NAME_CONTRACT_STATUS_Signed_MAX</th>\n",
       "      <th>CC_NAME_CONTRACT_STATUS_Signed_MEAN</th>\n",
       "      <th>CC_NAME_CONTRACT_STATUS_Signed_SUM</th>\n",
       "      <th>CC_NAME_CONTRACT_STATUS_Signed_VAR</th>\n",
       "      <th>CC_NAME_CONTRACT_STATUS_nan_MIN</th>\n",
       "      <th>CC_NAME_CONTRACT_STATUS_nan_MAX</th>\n",
       "      <th>CC_NAME_CONTRACT_STATUS_nan_MEAN</th>\n",
       "      <th>CC_NAME_CONTRACT_STATUS_nan_SUM</th>\n",
       "      <th>CC_NAME_CONTRACT_STATUS_nan_VAR</th>\n",
       "      <th>CC_COUNT</th>\n",
       "    </tr>\n",
       "  </thead>\n",
       "  <tbody>\n",
       "    <tr>\n",
       "      <th>0</th>\n",
       "      <td>0</td>\n",
       "      <td>100002</td>\n",
       "      <td>1.0</td>\n",
       "      <td>0</td>\n",
       "      <td>0</td>\n",
       "      <td>0</td>\n",
       "      <td>0</td>\n",
       "      <td>202500.0</td>\n",
       "      <td>406597.5</td>\n",
       "      <td>24700.5</td>\n",
       "      <td>...</td>\n",
       "      <td>NaN</td>\n",
       "      <td>NaN</td>\n",
       "      <td>NaN</td>\n",
       "      <td>NaN</td>\n",
       "      <td>NaN</td>\n",
       "      <td>NaN</td>\n",
       "      <td>NaN</td>\n",
       "      <td>NaN</td>\n",
       "      <td>NaN</td>\n",
       "      <td>NaN</td>\n",
       "    </tr>\n",
       "    <tr>\n",
       "      <th>1</th>\n",
       "      <td>1</td>\n",
       "      <td>100003</td>\n",
       "      <td>0.0</td>\n",
       "      <td>1</td>\n",
       "      <td>0</td>\n",
       "      <td>1</td>\n",
       "      <td>0</td>\n",
       "      <td>270000.0</td>\n",
       "      <td>1293502.5</td>\n",
       "      <td>35698.5</td>\n",
       "      <td>...</td>\n",
       "      <td>NaN</td>\n",
       "      <td>NaN</td>\n",
       "      <td>NaN</td>\n",
       "      <td>NaN</td>\n",
       "      <td>NaN</td>\n",
       "      <td>NaN</td>\n",
       "      <td>NaN</td>\n",
       "      <td>NaN</td>\n",
       "      <td>NaN</td>\n",
       "      <td>NaN</td>\n",
       "    </tr>\n",
       "    <tr>\n",
       "      <th>2</th>\n",
       "      <td>2</td>\n",
       "      <td>100004</td>\n",
       "      <td>0.0</td>\n",
       "      <td>0</td>\n",
       "      <td>1</td>\n",
       "      <td>0</td>\n",
       "      <td>0</td>\n",
       "      <td>67500.0</td>\n",
       "      <td>135000.0</td>\n",
       "      <td>6750.0</td>\n",
       "      <td>...</td>\n",
       "      <td>NaN</td>\n",
       "      <td>NaN</td>\n",
       "      <td>NaN</td>\n",
       "      <td>NaN</td>\n",
       "      <td>NaN</td>\n",
       "      <td>NaN</td>\n",
       "      <td>NaN</td>\n",
       "      <td>NaN</td>\n",
       "      <td>NaN</td>\n",
       "      <td>NaN</td>\n",
       "    </tr>\n",
       "    <tr>\n",
       "      <th>3</th>\n",
       "      <td>3</td>\n",
       "      <td>100006</td>\n",
       "      <td>0.0</td>\n",
       "      <td>1</td>\n",
       "      <td>0</td>\n",
       "      <td>0</td>\n",
       "      <td>0</td>\n",
       "      <td>135000.0</td>\n",
       "      <td>312682.5</td>\n",
       "      <td>29686.5</td>\n",
       "      <td>...</td>\n",
       "      <td>0.0</td>\n",
       "      <td>0.0</td>\n",
       "      <td>0.0</td>\n",
       "      <td>0.0</td>\n",
       "      <td>0.0</td>\n",
       "      <td>0.0</td>\n",
       "      <td>0.0</td>\n",
       "      <td>0.0</td>\n",
       "      <td>0.0</td>\n",
       "      <td>6.0</td>\n",
       "    </tr>\n",
       "    <tr>\n",
       "      <th>4</th>\n",
       "      <td>4</td>\n",
       "      <td>100007</td>\n",
       "      <td>0.0</td>\n",
       "      <td>0</td>\n",
       "      <td>0</td>\n",
       "      <td>0</td>\n",
       "      <td>0</td>\n",
       "      <td>121500.0</td>\n",
       "      <td>513000.0</td>\n",
       "      <td>21865.5</td>\n",
       "      <td>...</td>\n",
       "      <td>NaN</td>\n",
       "      <td>NaN</td>\n",
       "      <td>NaN</td>\n",
       "      <td>NaN</td>\n",
       "      <td>NaN</td>\n",
       "      <td>NaN</td>\n",
       "      <td>NaN</td>\n",
       "      <td>NaN</td>\n",
       "      <td>NaN</td>\n",
       "      <td>NaN</td>\n",
       "    </tr>\n",
       "    <tr>\n",
       "      <th>...</th>\n",
       "      <td>...</td>\n",
       "      <td>...</td>\n",
       "      <td>...</td>\n",
       "      <td>...</td>\n",
       "      <td>...</td>\n",
       "      <td>...</td>\n",
       "      <td>...</td>\n",
       "      <td>...</td>\n",
       "      <td>...</td>\n",
       "      <td>...</td>\n",
       "      <td>...</td>\n",
       "      <td>...</td>\n",
       "      <td>...</td>\n",
       "      <td>...</td>\n",
       "      <td>...</td>\n",
       "      <td>...</td>\n",
       "      <td>...</td>\n",
       "      <td>...</td>\n",
       "      <td>...</td>\n",
       "      <td>...</td>\n",
       "      <td>...</td>\n",
       "    </tr>\n",
       "    <tr>\n",
       "      <th>307502</th>\n",
       "      <td>307506</td>\n",
       "      <td>456251</td>\n",
       "      <td>0.0</td>\n",
       "      <td>0</td>\n",
       "      <td>0</td>\n",
       "      <td>1</td>\n",
       "      <td>0</td>\n",
       "      <td>157500.0</td>\n",
       "      <td>254700.0</td>\n",
       "      <td>27558.0</td>\n",
       "      <td>...</td>\n",
       "      <td>NaN</td>\n",
       "      <td>NaN</td>\n",
       "      <td>NaN</td>\n",
       "      <td>NaN</td>\n",
       "      <td>NaN</td>\n",
       "      <td>NaN</td>\n",
       "      <td>NaN</td>\n",
       "      <td>NaN</td>\n",
       "      <td>NaN</td>\n",
       "      <td>NaN</td>\n",
       "    </tr>\n",
       "    <tr>\n",
       "      <th>307503</th>\n",
       "      <td>307507</td>\n",
       "      <td>456252</td>\n",
       "      <td>0.0</td>\n",
       "      <td>1</td>\n",
       "      <td>0</td>\n",
       "      <td>0</td>\n",
       "      <td>0</td>\n",
       "      <td>72000.0</td>\n",
       "      <td>269550.0</td>\n",
       "      <td>12001.5</td>\n",
       "      <td>...</td>\n",
       "      <td>NaN</td>\n",
       "      <td>NaN</td>\n",
       "      <td>NaN</td>\n",
       "      <td>NaN</td>\n",
       "      <td>NaN</td>\n",
       "      <td>NaN</td>\n",
       "      <td>NaN</td>\n",
       "      <td>NaN</td>\n",
       "      <td>NaN</td>\n",
       "      <td>NaN</td>\n",
       "    </tr>\n",
       "    <tr>\n",
       "      <th>307504</th>\n",
       "      <td>307508</td>\n",
       "      <td>456253</td>\n",
       "      <td>0.0</td>\n",
       "      <td>1</td>\n",
       "      <td>0</td>\n",
       "      <td>0</td>\n",
       "      <td>0</td>\n",
       "      <td>153000.0</td>\n",
       "      <td>677664.0</td>\n",
       "      <td>29979.0</td>\n",
       "      <td>...</td>\n",
       "      <td>NaN</td>\n",
       "      <td>NaN</td>\n",
       "      <td>NaN</td>\n",
       "      <td>NaN</td>\n",
       "      <td>NaN</td>\n",
       "      <td>NaN</td>\n",
       "      <td>NaN</td>\n",
       "      <td>NaN</td>\n",
       "      <td>NaN</td>\n",
       "      <td>NaN</td>\n",
       "    </tr>\n",
       "    <tr>\n",
       "      <th>307505</th>\n",
       "      <td>307509</td>\n",
       "      <td>456254</td>\n",
       "      <td>1.0</td>\n",
       "      <td>1</td>\n",
       "      <td>0</td>\n",
       "      <td>0</td>\n",
       "      <td>0</td>\n",
       "      <td>171000.0</td>\n",
       "      <td>370107.0</td>\n",
       "      <td>20205.0</td>\n",
       "      <td>...</td>\n",
       "      <td>NaN</td>\n",
       "      <td>NaN</td>\n",
       "      <td>NaN</td>\n",
       "      <td>NaN</td>\n",
       "      <td>NaN</td>\n",
       "      <td>NaN</td>\n",
       "      <td>NaN</td>\n",
       "      <td>NaN</td>\n",
       "      <td>NaN</td>\n",
       "      <td>NaN</td>\n",
       "    </tr>\n",
       "    <tr>\n",
       "      <th>307506</th>\n",
       "      <td>307510</td>\n",
       "      <td>456255</td>\n",
       "      <td>0.0</td>\n",
       "      <td>1</td>\n",
       "      <td>0</td>\n",
       "      <td>1</td>\n",
       "      <td>0</td>\n",
       "      <td>157500.0</td>\n",
       "      <td>675000.0</td>\n",
       "      <td>49117.5</td>\n",
       "      <td>...</td>\n",
       "      <td>NaN</td>\n",
       "      <td>NaN</td>\n",
       "      <td>NaN</td>\n",
       "      <td>NaN</td>\n",
       "      <td>NaN</td>\n",
       "      <td>NaN</td>\n",
       "      <td>NaN</td>\n",
       "      <td>NaN</td>\n",
       "      <td>NaN</td>\n",
       "      <td>NaN</td>\n",
       "    </tr>\n",
       "  </tbody>\n",
       "</table>\n",
       "<p>307488 rows × 798 columns</p>\n",
       "</div>"
      ],
      "text/plain": [
       "         index  SK_ID_CURR  TARGET  CODE_GENDER  FLAG_OWN_CAR  \\\n",
       "0            0      100002     1.0            0             0   \n",
       "1            1      100003     0.0            1             0   \n",
       "2            2      100004     0.0            0             1   \n",
       "3            3      100006     0.0            1             0   \n",
       "4            4      100007     0.0            0             0   \n",
       "...        ...         ...     ...          ...           ...   \n",
       "307502  307506      456251     0.0            0             0   \n",
       "307503  307507      456252     0.0            1             0   \n",
       "307504  307508      456253     0.0            1             0   \n",
       "307505  307509      456254     1.0            1             0   \n",
       "307506  307510      456255     0.0            1             0   \n",
       "\n",
       "        FLAG_OWN_REALTY  CNT_CHILDREN  AMT_INCOME_TOTAL  AMT_CREDIT  \\\n",
       "0                     0             0          202500.0    406597.5   \n",
       "1                     1             0          270000.0   1293502.5   \n",
       "2                     0             0           67500.0    135000.0   \n",
       "3                     0             0          135000.0    312682.5   \n",
       "4                     0             0          121500.0    513000.0   \n",
       "...                 ...           ...               ...         ...   \n",
       "307502                1             0          157500.0    254700.0   \n",
       "307503                0             0           72000.0    269550.0   \n",
       "307504                0             0          153000.0    677664.0   \n",
       "307505                0             0          171000.0    370107.0   \n",
       "307506                1             0          157500.0    675000.0   \n",
       "\n",
       "        AMT_ANNUITY  ...  CC_NAME_CONTRACT_STATUS_Signed_MAX  \\\n",
       "0           24700.5  ...                                 NaN   \n",
       "1           35698.5  ...                                 NaN   \n",
       "2            6750.0  ...                                 NaN   \n",
       "3           29686.5  ...                                 0.0   \n",
       "4           21865.5  ...                                 NaN   \n",
       "...             ...  ...                                 ...   \n",
       "307502      27558.0  ...                                 NaN   \n",
       "307503      12001.5  ...                                 NaN   \n",
       "307504      29979.0  ...                                 NaN   \n",
       "307505      20205.0  ...                                 NaN   \n",
       "307506      49117.5  ...                                 NaN   \n",
       "\n",
       "        CC_NAME_CONTRACT_STATUS_Signed_MEAN  \\\n",
       "0                                       NaN   \n",
       "1                                       NaN   \n",
       "2                                       NaN   \n",
       "3                                       0.0   \n",
       "4                                       NaN   \n",
       "...                                     ...   \n",
       "307502                                  NaN   \n",
       "307503                                  NaN   \n",
       "307504                                  NaN   \n",
       "307505                                  NaN   \n",
       "307506                                  NaN   \n",
       "\n",
       "        CC_NAME_CONTRACT_STATUS_Signed_SUM  \\\n",
       "0                                      NaN   \n",
       "1                                      NaN   \n",
       "2                                      NaN   \n",
       "3                                      0.0   \n",
       "4                                      NaN   \n",
       "...                                    ...   \n",
       "307502                                 NaN   \n",
       "307503                                 NaN   \n",
       "307504                                 NaN   \n",
       "307505                                 NaN   \n",
       "307506                                 NaN   \n",
       "\n",
       "        CC_NAME_CONTRACT_STATUS_Signed_VAR  CC_NAME_CONTRACT_STATUS_nan_MIN  \\\n",
       "0                                      NaN                              NaN   \n",
       "1                                      NaN                              NaN   \n",
       "2                                      NaN                              NaN   \n",
       "3                                      0.0                              0.0   \n",
       "4                                      NaN                              NaN   \n",
       "...                                    ...                              ...   \n",
       "307502                                 NaN                              NaN   \n",
       "307503                                 NaN                              NaN   \n",
       "307504                                 NaN                              NaN   \n",
       "307505                                 NaN                              NaN   \n",
       "307506                                 NaN                              NaN   \n",
       "\n",
       "        CC_NAME_CONTRACT_STATUS_nan_MAX  CC_NAME_CONTRACT_STATUS_nan_MEAN  \\\n",
       "0                                   NaN                               NaN   \n",
       "1                                   NaN                               NaN   \n",
       "2                                   NaN                               NaN   \n",
       "3                                   0.0                               0.0   \n",
       "4                                   NaN                               NaN   \n",
       "...                                 ...                               ...   \n",
       "307502                              NaN                               NaN   \n",
       "307503                              NaN                               NaN   \n",
       "307504                              NaN                               NaN   \n",
       "307505                              NaN                               NaN   \n",
       "307506                              NaN                               NaN   \n",
       "\n",
       "        CC_NAME_CONTRACT_STATUS_nan_SUM  CC_NAME_CONTRACT_STATUS_nan_VAR  \\\n",
       "0                                   NaN                              NaN   \n",
       "1                                   NaN                              NaN   \n",
       "2                                   NaN                              NaN   \n",
       "3                                   0.0                              0.0   \n",
       "4                                   NaN                              NaN   \n",
       "...                                 ...                              ...   \n",
       "307502                              NaN                              NaN   \n",
       "307503                              NaN                              NaN   \n",
       "307504                              NaN                              NaN   \n",
       "307505                              NaN                              NaN   \n",
       "307506                              NaN                              NaN   \n",
       "\n",
       "        CC_COUNT  \n",
       "0            NaN  \n",
       "1            NaN  \n",
       "2            NaN  \n",
       "3            6.0  \n",
       "4            NaN  \n",
       "...          ...  \n",
       "307502       NaN  \n",
       "307503       NaN  \n",
       "307504       NaN  \n",
       "307505       NaN  \n",
       "307506       NaN  \n",
       "\n",
       "[307488 rows x 798 columns]"
      ]
     },
     "execution_count": 19,
     "metadata": {},
     "output_type": "execute_result"
    }
   ],
   "source": [
    "merged_no_inf"
   ]
  },
  {
   "cell_type": "code",
   "execution_count": 20,
   "id": "c090cad6-0f0b-4473-b90c-8460ca5d89c4",
   "metadata": {},
   "outputs": [
    {
     "data": {
      "text/plain": [
       "118"
      ]
     },
     "execution_count": 20,
     "metadata": {},
     "output_type": "execute_result"
    }
   ],
   "source": [
    "len(feats_for_modelling)"
   ]
  },
  {
   "cell_type": "code",
   "execution_count": 38,
   "id": "8c55df38-bd88-4660-a006-280c296050d0",
   "metadata": {},
   "outputs": [
    {
     "data": {
      "text/plain": [
       "0                       EXT_SOURCE_2\n",
       "1                       EXT_SOURCE_3\n",
       "2                    INSTAL_DPD_MEAN\n",
       "3                 DAYS_EMPLOYED_PERC\n",
       "4                        AMT_ANNUITY\n",
       "                   ...              \n",
       "79    BURO_CREDIT_ACTIVE_Closed_MEAN\n",
       "80        APPROVED_DAYS_DECISION_MAX\n",
       "81           ACTIVE_DAYS_CREDIT_MEAN\n",
       "82          APPROVED_AMT_ANNUITY_MAX\n",
       "83    ACTIVE_AMT_CREDIT_SUM_DEBT_SUM\n",
       "Name: feature, Length: 84, dtype: object"
      ]
     },
     "execution_count": 38,
     "metadata": {},
     "output_type": "execute_result"
    }
   ],
   "source": [
    "final_selected_feats[\"feature\"]"
   ]
  },
  {
   "cell_type": "code",
   "execution_count": 21,
   "id": "a977730e-f15b-47e1-8c47-cc83d954c138",
   "metadata": {},
   "outputs": [],
   "source": [
    "# keep only features in the feature selection list\n",
    "data_select_feats = merged_no_inf[feats_for_modelling]\n",
    "\n",
    "# use to keep all features \n",
    "#data_select_feats = merged_no_inf"
   ]
  },
  {
   "cell_type": "code",
   "execution_count": 22,
   "id": "e4ba1758-147d-45f9-ac00-56537cc3ed80",
   "metadata": {},
   "outputs": [],
   "source": [
    "import re\n",
    "\n",
    "# rename columns if needed\n",
    "data_select_feats = data_select_feats.rename(columns = lambda x:re.sub('[^A-Za-z0-9_]+', '', x))\n"
   ]
  },
  {
   "cell_type": "code",
   "execution_count": 23,
   "id": "d765aa04-b61a-4218-b342-1cd3c39d7d77",
   "metadata": {},
   "outputs": [],
   "source": [
    "# Function to calculate missing values by column\n",
    "def missing_values_table(df):\n",
    "        \"\"\"\n",
    "        df : data for which you want to know the missing values\n",
    "        \n",
    "        Returns: a table with the missing value for each feature and the percentage of missing values\n",
    "        \"\"\"\n",
    "        # Total missing values\n",
    "        mis_val = df.isnull().sum()\n",
    "        \n",
    "        # Percentage of missing values\n",
    "        mis_val_percent = 100 * df.isnull().sum() / len(df)\n",
    "        \n",
    "        # Make a table with the results\n",
    "        mis_val_table = pd.concat([mis_val, mis_val_percent], axis=1)\n",
    "        \n",
    "        # Rename the columns\n",
    "        mis_val_table_ren_columns = mis_val_table.rename(\n",
    "        columns = {0 : 'Missing Values', 1 : '% of Total Values'})\n",
    "        \n",
    "        # Sort the table by percentage of missing descending\n",
    "        mis_val_table_ren_columns = mis_val_table_ren_columns.sort_values('% of Total Values', \n",
    "                                                                          ascending=False).round(1)\n",
    "        #mis_val_table_ren_columns = mis_val_table_ren_columns[\n",
    "        #    mis_val_table_ren_columns.iloc[:,1] != 0].sort_values(\n",
    "        #'% of Total Values', ascending=False).round(1)\n",
    "        \n",
    "        # Print some summary information\n",
    "        print (\"Your selected dataframe has \" + str(df.shape[1]) + \" columns.\\n\"      \n",
    "               \"There are \" + str(mis_val_table_ren_columns[mis_val_table_ren_columns.iloc[:,1] != 0].shape[0]) +\n",
    "               \" columns that have missing values.\")\n",
    "        \n",
    "        #print (\"Your selected dataframe has \" + str(df.shape[1]) + \" columns.\\n\"      \n",
    "        #    \"There are \" + str(mis_val_table_ren_columns.shape[0]) +\n",
    "        #      \" columns that have missing values.\")\n",
    "        \n",
    "        # Return the dataframe with missing information\n",
    "        return mis_val_table_ren_columns\n",
    "    "
   ]
  },
  {
   "cell_type": "code",
   "execution_count": 14,
   "id": "890a13c5-67b8-4d85-85df-65700bca9675",
   "metadata": {},
   "outputs": [
    {
     "name": "stdout",
     "output_type": "stream",
     "text": [
      "Your selected dataframe has 118 columns.\n",
      "There are 103 columns that have missing values.\n"
     ]
    },
    {
     "data": {
      "text/html": [
       "<div>\n",
       "<style scoped>\n",
       "    .dataframe tbody tr th:only-of-type {\n",
       "        vertical-align: middle;\n",
       "    }\n",
       "\n",
       "    .dataframe tbody tr th {\n",
       "        vertical-align: top;\n",
       "    }\n",
       "\n",
       "    .dataframe thead th {\n",
       "        text-align: right;\n",
       "    }\n",
       "</style>\n",
       "<table border=\"1\" class=\"dataframe\">\n",
       "  <thead>\n",
       "    <tr style=\"text-align: right;\">\n",
       "      <th></th>\n",
       "      <th>Missing Values</th>\n",
       "      <th>% of Total Values</th>\n",
       "    </tr>\n",
       "  </thead>\n",
       "  <tbody>\n",
       "    <tr>\n",
       "      <th>CC_CNT_DRAWINGS_ATM_CURRENT_MEAN</th>\n",
       "      <td>246350</td>\n",
       "      <td>80.1</td>\n",
       "    </tr>\n",
       "    <tr>\n",
       "      <th>CLOSED_MONTHS_BALANCE_MAX_MAX</th>\n",
       "      <td>226757</td>\n",
       "      <td>73.7</td>\n",
       "    </tr>\n",
       "    <tr>\n",
       "      <th>CC_AMT_RECIVABLE_VAR</th>\n",
       "      <td>221220</td>\n",
       "      <td>71.9</td>\n",
       "    </tr>\n",
       "    <tr>\n",
       "      <th>CC_AMT_RECEIVABLE_PRINCIPAL_VAR</th>\n",
       "      <td>221220</td>\n",
       "      <td>71.9</td>\n",
       "    </tr>\n",
       "    <tr>\n",
       "      <th>CC_CNT_DRAWINGS_CURRENT_VAR</th>\n",
       "      <td>221220</td>\n",
       "      <td>71.9</td>\n",
       "    </tr>\n",
       "    <tr>\n",
       "      <th>CC_AMT_CREDIT_LIMIT_ACTUAL_MEAN</th>\n",
       "      <td>220588</td>\n",
       "      <td>71.7</td>\n",
       "    </tr>\n",
       "    <tr>\n",
       "      <th>CC_AMT_PAYMENT_TOTAL_CURRENT_MAX</th>\n",
       "      <td>220588</td>\n",
       "      <td>71.7</td>\n",
       "    </tr>\n",
       "    <tr>\n",
       "      <th>CC_AMT_CREDIT_LIMIT_ACTUAL_SUM</th>\n",
       "      <td>220588</td>\n",
       "      <td>71.7</td>\n",
       "    </tr>\n",
       "    <tr>\n",
       "      <th>CC_CNT_DRAWINGS_CURRENT_MAX</th>\n",
       "      <td>220588</td>\n",
       "      <td>71.7</td>\n",
       "    </tr>\n",
       "    <tr>\n",
       "      <th>CC_AMT_RECIVABLE_MIN</th>\n",
       "      <td>220588</td>\n",
       "      <td>71.7</td>\n",
       "    </tr>\n",
       "    <tr>\n",
       "      <th>CC_CNT_DRAWINGS_CURRENT_MEAN</th>\n",
       "      <td>220588</td>\n",
       "      <td>71.7</td>\n",
       "    </tr>\n",
       "    <tr>\n",
       "      <th>REFUSED_AMT_ANNUITY_MIN</th>\n",
       "      <td>215929</td>\n",
       "      <td>70.2</td>\n",
       "    </tr>\n",
       "    <tr>\n",
       "      <th>LIVINGAPARTMENTS_MODE</th>\n",
       "      <td>210182</td>\n",
       "      <td>68.4</td>\n",
       "    </tr>\n",
       "    <tr>\n",
       "      <th>REFUSED_DAYS_DECISION_MAX</th>\n",
       "      <td>207205</td>\n",
       "      <td>67.4</td>\n",
       "    </tr>\n",
       "    <tr>\n",
       "      <th>YEARS_BUILD_MODE</th>\n",
       "      <td>204470</td>\n",
       "      <td>66.5</td>\n",
       "    </tr>\n",
       "    <tr>\n",
       "      <th>OWN_CAR_AGE</th>\n",
       "      <td>202915</td>\n",
       "      <td>66.0</td>\n",
       "    </tr>\n",
       "    <tr>\n",
       "      <th>ACTIVE_AMT_CREDIT_MAX_OVERDUE_MEAN</th>\n",
       "      <td>191453</td>\n",
       "      <td>62.3</td>\n",
       "    </tr>\n",
       "    <tr>\n",
       "      <th>EXT_SOURCE_1</th>\n",
       "      <td>173359</td>\n",
       "      <td>56.4</td>\n",
       "    </tr>\n",
       "    <tr>\n",
       "      <th>NONLIVINGAREA_MODE</th>\n",
       "      <td>169665</td>\n",
       "      <td>55.2</td>\n",
       "    </tr>\n",
       "    <tr>\n",
       "      <th>CLOSED_AMT_CREDIT_MAX_OVERDUE_MEAN</th>\n",
       "      <td>160957</td>\n",
       "      <td>52.3</td>\n",
       "    </tr>\n",
       "  </tbody>\n",
       "</table>\n",
       "</div>"
      ],
      "text/plain": [
       "                                    Missing Values  % of Total Values\n",
       "CC_CNT_DRAWINGS_ATM_CURRENT_MEAN            246350               80.1\n",
       "CLOSED_MONTHS_BALANCE_MAX_MAX               226757               73.7\n",
       "CC_AMT_RECIVABLE_VAR                        221220               71.9\n",
       "CC_AMT_RECEIVABLE_PRINCIPAL_VAR             221220               71.9\n",
       "CC_CNT_DRAWINGS_CURRENT_VAR                 221220               71.9\n",
       "CC_AMT_CREDIT_LIMIT_ACTUAL_MEAN             220588               71.7\n",
       "CC_AMT_PAYMENT_TOTAL_CURRENT_MAX            220588               71.7\n",
       "CC_AMT_CREDIT_LIMIT_ACTUAL_SUM              220588               71.7\n",
       "CC_CNT_DRAWINGS_CURRENT_MAX                 220588               71.7\n",
       "CC_AMT_RECIVABLE_MIN                        220588               71.7\n",
       "CC_CNT_DRAWINGS_CURRENT_MEAN                220588               71.7\n",
       "REFUSED_AMT_ANNUITY_MIN                     215929               70.2\n",
       "LIVINGAPARTMENTS_MODE                       210182               68.4\n",
       "REFUSED_DAYS_DECISION_MAX                   207205               67.4\n",
       "YEARS_BUILD_MODE                            204470               66.5\n",
       "OWN_CAR_AGE                                 202915               66.0\n",
       "ACTIVE_AMT_CREDIT_MAX_OVERDUE_MEAN          191453               62.3\n",
       "EXT_SOURCE_1                                173359               56.4\n",
       "NONLIVINGAREA_MODE                          169665               55.2\n",
       "CLOSED_AMT_CREDIT_MAX_OVERDUE_MEAN          160957               52.3"
      ]
     },
     "execution_count": 14,
     "metadata": {},
     "output_type": "execute_result"
    }
   ],
   "source": [
    "missing_values_table(data_select_feats).head(20)"
   ]
  },
  {
   "cell_type": "code",
   "execution_count": 24,
   "id": "afe57fdd-7ed5-4c95-bc49-2c7ec4e5bad9",
   "metadata": {},
   "outputs": [],
   "source": [
    "# when a feature has few missing values, remove the individuals for which the value is missing\n",
    "# (if under 0.5% of the rows)\n",
    "\n",
    "data_select_feats = data_select_feats[data_select_feats['AMT_GOODS_PRICE'].notnull()]\n",
    "data_select_feats = data_select_feats[data_select_feats['EXT_SOURCE_2'].notnull()]\n",
    "data_select_feats = data_select_feats[data_select_feats['DEF_30_CNT_SOCIAL_CIRCLE'].notnull()]\n",
    "#data_select_feats = data_select_feats[data_select_feats['DEF_60_CNT_SOCIAL_CIRCLE'].notnull()]\n",
    "#data_select_feats = data_select_feats[data_select_feats['OBS_30_CNT_SOCIAL_CIRCLE'].notnull()]\n",
    "data_select_feats = data_select_feats[data_select_feats['ANNUITY_INCOME_PERC'].notnull()]\n",
    "data_select_feats = data_select_feats[data_select_feats['AMT_ANNUITY'].notnull()]\n",
    "data_select_feats = data_select_feats[data_select_feats['PAYMENT_RATE'].notnull()]"
   ]
  },
  {
   "cell_type": "code",
   "execution_count": 25,
   "id": "43caaa90-8870-44ac-923d-73b4e49c06e4",
   "metadata": {},
   "outputs": [
    {
     "data": {
      "text/plain": [
       "(305522, 118)"
      ]
     },
     "execution_count": 25,
     "metadata": {},
     "output_type": "execute_result"
    }
   ],
   "source": [
    "# check shape before undersampling\n",
    "data_select_feats.shape"
   ]
  },
  {
   "cell_type": "code",
   "execution_count": 26,
   "id": "cf300066-48ad-4233-8801-95888cd61a7a",
   "metadata": {},
   "outputs": [
    {
     "data": {
      "text/plain": [
       "0.0    280808\n",
       "1.0     24714\n",
       "Name: TARGET, dtype: int64"
      ]
     },
     "execution_count": 26,
     "metadata": {},
     "output_type": "execute_result"
    }
   ],
   "source": [
    "# check the balance between classes of the TARGET feature\n",
    "data_select_feats[\"TARGET\"].value_counts()"
   ]
  },
  {
   "cell_type": "code",
   "execution_count": 27,
   "id": "764406b3-e76d-4759-ade0-70fe9f4b3998",
   "metadata": {},
   "outputs": [],
   "source": [
    "# get random indices of individuals for which TARGET == 0\n",
    "random_indices = np.random.choice(list(data_select_feats.\\\n",
    "                                       TARGET[data_select_feats[\"TARGET\"] == 0.0].index),\n",
    "                                   23600, replace=False)"
   ]
  },
  {
   "cell_type": "code",
   "execution_count": 28,
   "id": "7a0ce970-8c66-4764-bd8e-da1e21fc9ab8",
   "metadata": {},
   "outputs": [
    {
     "data": {
      "text/plain": [
       "23600"
      ]
     },
     "execution_count": 28,
     "metadata": {},
     "output_type": "execute_result"
    }
   ],
   "source": [
    "len(random_indices)"
   ]
  },
  {
   "cell_type": "code",
   "execution_count": 29,
   "id": "95d2cfae-cd65-44a1-8307-31a1d4374577",
   "metadata": {},
   "outputs": [],
   "source": [
    "# combine the rows we kept for which TARGET == 0 , and all the TARGET == 1 rows\n",
    "df_ft_selec_underbal = pd.concat([data_select_feats.loc[list(random_indices)], \n",
    "                                  data_select_feats[data_select_feats[\"TARGET\"] == 1.0]])"
   ]
  },
  {
   "cell_type": "code",
   "execution_count": 30,
   "id": "f7c7854c-2fe1-4074-b752-b850b0dc0426",
   "metadata": {},
   "outputs": [
    {
     "data": {
      "text/html": [
       "<div>\n",
       "<style scoped>\n",
       "    .dataframe tbody tr th:only-of-type {\n",
       "        vertical-align: middle;\n",
       "    }\n",
       "\n",
       "    .dataframe tbody tr th {\n",
       "        vertical-align: top;\n",
       "    }\n",
       "\n",
       "    .dataframe thead th {\n",
       "        text-align: right;\n",
       "    }\n",
       "</style>\n",
       "<table border=\"1\" class=\"dataframe\">\n",
       "  <thead>\n",
       "    <tr style=\"text-align: right;\">\n",
       "      <th></th>\n",
       "      <th>EXT_SOURCE_2</th>\n",
       "      <th>EXT_SOURCE_3</th>\n",
       "      <th>EXT_SOURCE_1</th>\n",
       "      <th>INSTAL_DPD_MEAN</th>\n",
       "      <th>DAYS_EMPLOYED_PERC</th>\n",
       "      <th>AMT_ANNUITY</th>\n",
       "      <th>DAYS_EMPLOYED</th>\n",
       "      <th>PAYMENT_RATE</th>\n",
       "      <th>ACTIVE_DAYS_CREDIT_MAX</th>\n",
       "      <th>APPROVED_CNT_PAYMENT_MEAN</th>\n",
       "      <th>...</th>\n",
       "      <th>APPROVED_CNT_PAYMENT_SUM</th>\n",
       "      <th>BURO_CREDIT_ACTIVE_Closed_MEAN</th>\n",
       "      <th>APPROVED_DAYS_DECISION_MAX</th>\n",
       "      <th>ACTIVE_AMT_CREDIT_MAX_OVERDUE_MEAN</th>\n",
       "      <th>ACTIVE_DAYS_CREDIT_ENDDATE_MIN</th>\n",
       "      <th>ACTIVE_DAYS_CREDIT_MEAN</th>\n",
       "      <th>APPROVED_AMT_ANNUITY_MAX</th>\n",
       "      <th>ACTIVE_AMT_CREDIT_SUM_DEBT_SUM</th>\n",
       "      <th>TARGET</th>\n",
       "      <th>SK_ID_CURR</th>\n",
       "    </tr>\n",
       "  </thead>\n",
       "  <tbody>\n",
       "    <tr>\n",
       "      <th>14880</th>\n",
       "      <td>0.424602</td>\n",
       "      <td>0.379100</td>\n",
       "      <td>0.586698</td>\n",
       "      <td>0.000000</td>\n",
       "      <td>0.309128</td>\n",
       "      <td>40878.0</td>\n",
       "      <td>-3976.0</td>\n",
       "      <td>0.077386</td>\n",
       "      <td>-178.0</td>\n",
       "      <td>5.500000</td>\n",
       "      <td>...</td>\n",
       "      <td>22.0</td>\n",
       "      <td>0.909091</td>\n",
       "      <td>-561.0</td>\n",
       "      <td>NaN</td>\n",
       "      <td>218.0</td>\n",
       "      <td>-383.500000</td>\n",
       "      <td>14315.175</td>\n",
       "      <td>917952.660</td>\n",
       "      <td>0.0</td>\n",
       "      <td>117368</td>\n",
       "    </tr>\n",
       "    <tr>\n",
       "      <th>106300</th>\n",
       "      <td>0.701145</td>\n",
       "      <td>0.746300</td>\n",
       "      <td>NaN</td>\n",
       "      <td>0.000000</td>\n",
       "      <td>NaN</td>\n",
       "      <td>25033.5</td>\n",
       "      <td>NaN</td>\n",
       "      <td>0.029390</td>\n",
       "      <td>-372.0</td>\n",
       "      <td>21.000000</td>\n",
       "      <td>...</td>\n",
       "      <td>42.0</td>\n",
       "      <td>0.666667</td>\n",
       "      <td>-549.0</td>\n",
       "      <td>NaN</td>\n",
       "      <td>1454.0</td>\n",
       "      <td>-372.000000</td>\n",
       "      <td>13245.210</td>\n",
       "      <td>365116.500</td>\n",
       "      <td>0.0</td>\n",
       "      <td>223332</td>\n",
       "    </tr>\n",
       "    <tr>\n",
       "      <th>195919</th>\n",
       "      <td>0.669285</td>\n",
       "      <td>0.602386</td>\n",
       "      <td>0.862177</td>\n",
       "      <td>0.472222</td>\n",
       "      <td>0.237527</td>\n",
       "      <td>42790.5</td>\n",
       "      <td>-3799.0</td>\n",
       "      <td>0.042496</td>\n",
       "      <td>-1442.0</td>\n",
       "      <td>17.000000</td>\n",
       "      <td>...</td>\n",
       "      <td>119.0</td>\n",
       "      <td>0.727273</td>\n",
       "      <td>-545.0</td>\n",
       "      <td>NaN</td>\n",
       "      <td>-575.0</td>\n",
       "      <td>-1580.666667</td>\n",
       "      <td>25600.500</td>\n",
       "      <td>226003.995</td>\n",
       "      <td>0.0</td>\n",
       "      <td>327175</td>\n",
       "    </tr>\n",
       "    <tr>\n",
       "      <th>167059</th>\n",
       "      <td>0.539212</td>\n",
       "      <td>0.689479</td>\n",
       "      <td>0.212856</td>\n",
       "      <td>0.000000</td>\n",
       "      <td>0.102976</td>\n",
       "      <td>25321.5</td>\n",
       "      <td>-1249.0</td>\n",
       "      <td>0.099417</td>\n",
       "      <td>-154.0</td>\n",
       "      <td>24.000000</td>\n",
       "      <td>...</td>\n",
       "      <td>24.0</td>\n",
       "      <td>0.750000</td>\n",
       "      <td>-561.0</td>\n",
       "      <td>NaN</td>\n",
       "      <td>NaN</td>\n",
       "      <td>-154.000000</td>\n",
       "      <td>12686.490</td>\n",
       "      <td>0.000</td>\n",
       "      <td>0.0</td>\n",
       "      <td>293670</td>\n",
       "    </tr>\n",
       "    <tr>\n",
       "      <th>116077</th>\n",
       "      <td>0.447987</td>\n",
       "      <td>0.481249</td>\n",
       "      <td>NaN</td>\n",
       "      <td>0.000000</td>\n",
       "      <td>NaN</td>\n",
       "      <td>19107.0</td>\n",
       "      <td>NaN</td>\n",
       "      <td>0.099578</td>\n",
       "      <td>-417.0</td>\n",
       "      <td>8.000000</td>\n",
       "      <td>...</td>\n",
       "      <td>8.0</td>\n",
       "      <td>0.000000</td>\n",
       "      <td>-620.0</td>\n",
       "      <td>NaN</td>\n",
       "      <td>672.0</td>\n",
       "      <td>-417.000000</td>\n",
       "      <td>16351.290</td>\n",
       "      <td>48784.500</td>\n",
       "      <td>0.0</td>\n",
       "      <td>234613</td>\n",
       "    </tr>\n",
       "    <tr>\n",
       "      <th>...</th>\n",
       "      <td>...</td>\n",
       "      <td>...</td>\n",
       "      <td>...</td>\n",
       "      <td>...</td>\n",
       "      <td>...</td>\n",
       "      <td>...</td>\n",
       "      <td>...</td>\n",
       "      <td>...</td>\n",
       "      <td>...</td>\n",
       "      <td>...</td>\n",
       "      <td>...</td>\n",
       "      <td>...</td>\n",
       "      <td>...</td>\n",
       "      <td>...</td>\n",
       "      <td>...</td>\n",
       "      <td>...</td>\n",
       "      <td>...</td>\n",
       "      <td>...</td>\n",
       "      <td>...</td>\n",
       "      <td>...</td>\n",
       "      <td>...</td>\n",
       "    </tr>\n",
       "    <tr>\n",
       "      <th>307444</th>\n",
       "      <td>0.329708</td>\n",
       "      <td>0.360613</td>\n",
       "      <td>0.073452</td>\n",
       "      <td>0.000000</td>\n",
       "      <td>0.307320</td>\n",
       "      <td>32746.5</td>\n",
       "      <td>-3048.0</td>\n",
       "      <td>0.072770</td>\n",
       "      <td>-227.0</td>\n",
       "      <td>9.000000</td>\n",
       "      <td>...</td>\n",
       "      <td>18.0</td>\n",
       "      <td>0.636364</td>\n",
       "      <td>-410.0</td>\n",
       "      <td>8123.085</td>\n",
       "      <td>869.0</td>\n",
       "      <td>-355.250000</td>\n",
       "      <td>5364.945</td>\n",
       "      <td>4728279.015</td>\n",
       "      <td>1.0</td>\n",
       "      <td>456186</td>\n",
       "    </tr>\n",
       "    <tr>\n",
       "      <th>307471</th>\n",
       "      <td>0.583214</td>\n",
       "      <td>0.424130</td>\n",
       "      <td>0.634729</td>\n",
       "      <td>0.172589</td>\n",
       "      <td>0.179264</td>\n",
       "      <td>46809.0</td>\n",
       "      <td>-2405.0</td>\n",
       "      <td>0.035919</td>\n",
       "      <td>-170.0</td>\n",
       "      <td>17.777778</td>\n",
       "      <td>...</td>\n",
       "      <td>160.0</td>\n",
       "      <td>0.600000</td>\n",
       "      <td>-894.0</td>\n",
       "      <td>28342.500</td>\n",
       "      <td>1299.0</td>\n",
       "      <td>-477.750000</td>\n",
       "      <td>50106.735</td>\n",
       "      <td>747031.500</td>\n",
       "      <td>1.0</td>\n",
       "      <td>456215</td>\n",
       "    </tr>\n",
       "    <tr>\n",
       "      <th>307477</th>\n",
       "      <td>0.713524</td>\n",
       "      <td>0.511892</td>\n",
       "      <td>NaN</td>\n",
       "      <td>6.522843</td>\n",
       "      <td>0.152441</td>\n",
       "      <td>19975.5</td>\n",
       "      <td>-3147.0</td>\n",
       "      <td>0.067258</td>\n",
       "      <td>-354.0</td>\n",
       "      <td>30.000000</td>\n",
       "      <td>...</td>\n",
       "      <td>60.0</td>\n",
       "      <td>0.333333</td>\n",
       "      <td>-942.0</td>\n",
       "      <td>NaN</td>\n",
       "      <td>-925.0</td>\n",
       "      <td>-879.500000</td>\n",
       "      <td>17900.910</td>\n",
       "      <td>2797449.840</td>\n",
       "      <td>1.0</td>\n",
       "      <td>456225</td>\n",
       "    </tr>\n",
       "    <tr>\n",
       "      <th>307485</th>\n",
       "      <td>0.615261</td>\n",
       "      <td>0.397946</td>\n",
       "      <td>NaN</td>\n",
       "      <td>0.035714</td>\n",
       "      <td>0.017364</td>\n",
       "      <td>23089.5</td>\n",
       "      <td>-286.0</td>\n",
       "      <td>0.044294</td>\n",
       "      <td>-203.0</td>\n",
       "      <td>6.000000</td>\n",
       "      <td>...</td>\n",
       "      <td>12.0</td>\n",
       "      <td>0.000000</td>\n",
       "      <td>-307.0</td>\n",
       "      <td>0.000</td>\n",
       "      <td>528.0</td>\n",
       "      <td>-203.000000</td>\n",
       "      <td>9115.560</td>\n",
       "      <td>223943.895</td>\n",
       "      <td>1.0</td>\n",
       "      <td>456233</td>\n",
       "    </tr>\n",
       "    <tr>\n",
       "      <th>307505</th>\n",
       "      <td>0.514163</td>\n",
       "      <td>0.661024</td>\n",
       "      <td>NaN</td>\n",
       "      <td>0.000000</td>\n",
       "      <td>0.400134</td>\n",
       "      <td>20205.0</td>\n",
       "      <td>-4786.0</td>\n",
       "      <td>0.054592</td>\n",
       "      <td>NaN</td>\n",
       "      <td>15.000000</td>\n",
       "      <td>...</td>\n",
       "      <td>30.0</td>\n",
       "      <td>1.000000</td>\n",
       "      <td>-277.0</td>\n",
       "      <td>NaN</td>\n",
       "      <td>NaN</td>\n",
       "      <td>NaN</td>\n",
       "      <td>19065.825</td>\n",
       "      <td>NaN</td>\n",
       "      <td>1.0</td>\n",
       "      <td>456254</td>\n",
       "    </tr>\n",
       "  </tbody>\n",
       "</table>\n",
       "<p>48314 rows × 118 columns</p>\n",
       "</div>"
      ],
      "text/plain": [
       "        EXT_SOURCE_2  EXT_SOURCE_3  EXT_SOURCE_1  INSTAL_DPD_MEAN  \\\n",
       "14880       0.424602      0.379100      0.586698         0.000000   \n",
       "106300      0.701145      0.746300           NaN         0.000000   \n",
       "195919      0.669285      0.602386      0.862177         0.472222   \n",
       "167059      0.539212      0.689479      0.212856         0.000000   \n",
       "116077      0.447987      0.481249           NaN         0.000000   \n",
       "...              ...           ...           ...              ...   \n",
       "307444      0.329708      0.360613      0.073452         0.000000   \n",
       "307471      0.583214      0.424130      0.634729         0.172589   \n",
       "307477      0.713524      0.511892           NaN         6.522843   \n",
       "307485      0.615261      0.397946           NaN         0.035714   \n",
       "307505      0.514163      0.661024           NaN         0.000000   \n",
       "\n",
       "        DAYS_EMPLOYED_PERC  AMT_ANNUITY  DAYS_EMPLOYED  PAYMENT_RATE  \\\n",
       "14880             0.309128      40878.0        -3976.0      0.077386   \n",
       "106300                 NaN      25033.5            NaN      0.029390   \n",
       "195919            0.237527      42790.5        -3799.0      0.042496   \n",
       "167059            0.102976      25321.5        -1249.0      0.099417   \n",
       "116077                 NaN      19107.0            NaN      0.099578   \n",
       "...                    ...          ...            ...           ...   \n",
       "307444            0.307320      32746.5        -3048.0      0.072770   \n",
       "307471            0.179264      46809.0        -2405.0      0.035919   \n",
       "307477            0.152441      19975.5        -3147.0      0.067258   \n",
       "307485            0.017364      23089.5         -286.0      0.044294   \n",
       "307505            0.400134      20205.0        -4786.0      0.054592   \n",
       "\n",
       "        ACTIVE_DAYS_CREDIT_MAX  APPROVED_CNT_PAYMENT_MEAN  ...  \\\n",
       "14880                   -178.0                   5.500000  ...   \n",
       "106300                  -372.0                  21.000000  ...   \n",
       "195919                 -1442.0                  17.000000  ...   \n",
       "167059                  -154.0                  24.000000  ...   \n",
       "116077                  -417.0                   8.000000  ...   \n",
       "...                        ...                        ...  ...   \n",
       "307444                  -227.0                   9.000000  ...   \n",
       "307471                  -170.0                  17.777778  ...   \n",
       "307477                  -354.0                  30.000000  ...   \n",
       "307485                  -203.0                   6.000000  ...   \n",
       "307505                     NaN                  15.000000  ...   \n",
       "\n",
       "        APPROVED_CNT_PAYMENT_SUM  BURO_CREDIT_ACTIVE_Closed_MEAN  \\\n",
       "14880                       22.0                        0.909091   \n",
       "106300                      42.0                        0.666667   \n",
       "195919                     119.0                        0.727273   \n",
       "167059                      24.0                        0.750000   \n",
       "116077                       8.0                        0.000000   \n",
       "...                          ...                             ...   \n",
       "307444                      18.0                        0.636364   \n",
       "307471                     160.0                        0.600000   \n",
       "307477                      60.0                        0.333333   \n",
       "307485                      12.0                        0.000000   \n",
       "307505                      30.0                        1.000000   \n",
       "\n",
       "        APPROVED_DAYS_DECISION_MAX  ACTIVE_AMT_CREDIT_MAX_OVERDUE_MEAN  \\\n",
       "14880                       -561.0                                 NaN   \n",
       "106300                      -549.0                                 NaN   \n",
       "195919                      -545.0                                 NaN   \n",
       "167059                      -561.0                                 NaN   \n",
       "116077                      -620.0                                 NaN   \n",
       "...                            ...                                 ...   \n",
       "307444                      -410.0                            8123.085   \n",
       "307471                      -894.0                           28342.500   \n",
       "307477                      -942.0                                 NaN   \n",
       "307485                      -307.0                               0.000   \n",
       "307505                      -277.0                                 NaN   \n",
       "\n",
       "        ACTIVE_DAYS_CREDIT_ENDDATE_MIN  ACTIVE_DAYS_CREDIT_MEAN  \\\n",
       "14880                            218.0              -383.500000   \n",
       "106300                          1454.0              -372.000000   \n",
       "195919                          -575.0             -1580.666667   \n",
       "167059                             NaN              -154.000000   \n",
       "116077                           672.0              -417.000000   \n",
       "...                                ...                      ...   \n",
       "307444                           869.0              -355.250000   \n",
       "307471                          1299.0              -477.750000   \n",
       "307477                          -925.0              -879.500000   \n",
       "307485                           528.0              -203.000000   \n",
       "307505                             NaN                      NaN   \n",
       "\n",
       "        APPROVED_AMT_ANNUITY_MAX  ACTIVE_AMT_CREDIT_SUM_DEBT_SUM  TARGET  \\\n",
       "14880                  14315.175                      917952.660     0.0   \n",
       "106300                 13245.210                      365116.500     0.0   \n",
       "195919                 25600.500                      226003.995     0.0   \n",
       "167059                 12686.490                           0.000     0.0   \n",
       "116077                 16351.290                       48784.500     0.0   \n",
       "...                          ...                             ...     ...   \n",
       "307444                  5364.945                     4728279.015     1.0   \n",
       "307471                 50106.735                      747031.500     1.0   \n",
       "307477                 17900.910                     2797449.840     1.0   \n",
       "307485                  9115.560                      223943.895     1.0   \n",
       "307505                 19065.825                             NaN     1.0   \n",
       "\n",
       "        SK_ID_CURR  \n",
       "14880       117368  \n",
       "106300      223332  \n",
       "195919      327175  \n",
       "167059      293670  \n",
       "116077      234613  \n",
       "...            ...  \n",
       "307444      456186  \n",
       "307471      456215  \n",
       "307477      456225  \n",
       "307485      456233  \n",
       "307505      456254  \n",
       "\n",
       "[48314 rows x 118 columns]"
      ]
     },
     "execution_count": 30,
     "metadata": {},
     "output_type": "execute_result"
    }
   ],
   "source": [
    "df_ft_selec_underbal"
   ]
  },
  {
   "cell_type": "code",
   "execution_count": 31,
   "id": "a4153588-76a2-4fff-ab3e-5096f17ef93e",
   "metadata": {},
   "outputs": [],
   "source": [
    "feats = [f for f in data_select_feats.columns if f not in ['TARGET', 'Unnamed: 0', 'Unnamed0',\n",
    "                                                           'SK_ID_CURR','SK_ID_BUREAU','SK_ID_PREV',\n",
    "                                                           'index']]\n",
    "\n",
    "from sklearn.model_selection import train_test_split\n",
    "# Divide the data into training/validation and test data\n",
    "x_train, x_test, y_train, y_test = train_test_split(df_ft_selec_underbal[feats], \n",
    "                                                    df_ft_selec_underbal['TARGET'], \n",
    "                                                    test_size = 0.2, random_state = 22)"
   ]
  },
  {
   "cell_type": "code",
   "execution_count": 32,
   "id": "67742dff-26a0-4e66-b9b3-509875daf072",
   "metadata": {},
   "outputs": [],
   "source": [
    "#keep_track = pd.DataFrame(index = ['No Feature Selection, Undersampling', 'Feature Selection, Undersampling'], \n",
    "#                  columns=['Accuracy', 'ROC AUC', 'Recall', 'Precision', 'My Scorer'])\n",
    "#keep_track"
   ]
  },
  {
   "cell_type": "code",
   "execution_count": 258,
   "id": "c7fc8709-3235-4fa0-96f9-e1f6a8c8b0e2",
   "metadata": {},
   "outputs": [],
   "source": [
    "keep_track_trained_threshs = pd.DataFrame(index = ['Undersampling, threshold : 0.5', \n",
    "                                           'Undersampling, threshold : 0.49',\n",
    "                                           'Undersampling, threshold : 0.48',\n",
    "                                           'Undersampling, threshold : 0.47',\n",
    "                                           'Undersampling, threshold : 0.46',\n",
    "                                           'Undersampling, threshold : 0.45'], \n",
    "                                  columns=['Accuracy', 'ROC AUC', 'Recall', 'Precision', 'My Scorer'])"
   ]
  },
  {
   "cell_type": "markdown",
   "id": "65cb3dae-6a40-4a55-918b-aafae2a7c87c",
   "metadata": {},
   "source": [
    "# SMOTE \n",
    "See tries in :  p7_notebook_pycaret.ipynb"
   ]
  },
  {
   "cell_type": "markdown",
   "id": "94b24d2b-d739-413f-a8dc-2d667b1064ad",
   "metadata": {},
   "source": [
    "# Hyperparameter Search with hyperopt"
   ]
  },
  {
   "cell_type": "code",
   "execution_count": 315,
   "id": "ce648ba0-e1cf-4c9b-ac44-fb2765b08d99",
   "metadata": {},
   "outputs": [],
   "source": [
    "from sklearn.metrics import confusion_matrix\n",
    "\n",
    "def my_comp_score(y_true, y_pred):\n",
    "    \n",
    "    \"\"\"\n",
    "    df : data for which you want to know the missing values\n",
    "        \n",
    "    Returns: a table with the missing value for each feature and the percentage of missing values\n",
    "    \"\"\"\n",
    "\n",
    "    tn, fp, fn, tp = confusion_matrix(y_true, y_pred).ravel()\n",
    "    \n",
    "    tn_weight = 1\n",
    "    fp_weight = 0\n",
    "    fn_weight = -10\n",
    "    tp_weight = 0\n",
    "\n",
    "    # gain function for company, true positives and false positives don't matter that much to us\n",
    "    # we want to penalise the false negatives, and we want to say yes to true negatives\n",
    "    gain = tp*(tp_weight) + tn*(tn_weight) + fp*(fp_weight) + fn*(fn_weight)\n",
    "    \n",
    "    # best represents scenario where there are no false negatives or false postives\n",
    "    # so all false positives would be correctly shown as negative\n",
    "    # and all false negatives would be correctly show as positive\n",
    "    best = (tn + fp) * tn_weight + (tp + fn) * tp_weight\n",
    "    \n",
    "    # baseline is a naive model that predicts non default(negative) for everyone\n",
    "    # but all true positives and false negatives would be incorrectly shown as negative\n",
    "    baseline = (tn + fp) * tn_weight + (tp + fn) * fn_weight\n",
    "    \n",
    "    score = (gain - baseline) / (best - baseline)\n",
    "    \n",
    "    return score\n",
    "    \n",
    "def get_adjust_probs(y_pred, thresh):\n",
    "    # for now y_pred is the probability that the value is 1\n",
    "    y_use = [1 if i >= thresh else 0 for i in y_pred]\n",
    "    \n",
    "    y_use = pd.Series(y_use)\n",
    "    \n",
    "    return y_use\n",
    "    \n",
    "def my_comp_score_probs(y_true, y_use):\n",
    "    \n",
    "    tn, fp, fn, tp = confusion_matrix(y_true, y_use).ravel()\n",
    "    \n",
    "    conf_lgm = confusion_matrix(y_true, y_use)\n",
    "    print(conf_lgm)\n",
    "    \n",
    "    tn_weight = 1\n",
    "    fp_weight = 0\n",
    "    fn_weight = -10\n",
    "    tp_weight = 0\n",
    "\n",
    "    # gain function for company, true positives and false positives don't matter that much to us\n",
    "    # we want to penalise the false negatives, and we want to say yes to true negatives\n",
    "    gain = tp*(tp_weight) + tn*(tn_weight) + fp*(fp_weight) + fn*(fn_weight)\n",
    "    \n",
    "    # best represents scenario where there are no false negatives or false postives\n",
    "    # so all false positives would be correctly shown as negative\n",
    "    # and all false negatives would be correctly show as positive\n",
    "    best = (tn + fp) * tn_weight + (tp + fn) * tp_weight\n",
    "    \n",
    "    # baseline is a naive model that predicts non default(negative) for everyone\n",
    "    # so all true positives and false negatives would be incorrectly shown as negative\n",
    "    baseline = (tn + fp) * tn_weight + (tp + fn) * fn_weight\n",
    "    \n",
    "    score = ((gain - baseline) / (best - baseline))\n",
    "\n",
    "    return score\n",
    "\n"
   ]
  },
  {
   "cell_type": "code",
   "execution_count": 316,
   "id": "8fa3cccc-0295-4604-8277-e1aa8dbec2aa",
   "metadata": {},
   "outputs": [],
   "source": [
    "def my_comp_score_probs_hyps(y_true, y_pred):\n",
    "    \n",
    "    y_use = [1 if i >= 0.525 else 0 for i in y_pred]\n",
    "    \n",
    "    y_use = pd.Series(y_use)\n",
    "    \n",
    "    tn, fp, fn, tp = confusion_matrix(y_true, y_use).ravel()\n",
    "    \n",
    "    conf_lgm = confusion_matrix(y_true, y_use)\n",
    "    print(conf_lgm)\n",
    "    \n",
    "    tn_weight = 1\n",
    "    fp_weight = 0\n",
    "    fn_weight = -10\n",
    "    tp_weight = 0\n",
    "\n",
    "    # gain function for company, true positives and false positives don't matter that much to us\n",
    "    # we want to penalise the false negatives, and we want to say yes to true negatives\n",
    "    gain = tp*(tp_weight) + tn*(tn_weight) + fp*(fp_weight) + fn*(fn_weight)\n",
    "    \n",
    "    # best represents scenario where there are no false negatives or false postives\n",
    "    # so all false positives would be correctly shown as negative\n",
    "    # and all false negatives would be correctly show as positive\n",
    "    best = (tn + fp) * tn_weight + (tp + fn) * tp_weight\n",
    "    \n",
    "    # baseline is a naive model that predicts non default(negative) for everyone\n",
    "    # so all true positives and false negatives would be incorrectly shown as negative\n",
    "    baseline = (tn + fp) * tn_weight + (tp + fn) * fn_weight\n",
    "    \n",
    "    score = ((gain - baseline) / (best - baseline))\n",
    "\n",
    "    return score"
   ]
  },
  {
   "cell_type": "code",
   "execution_count": 317,
   "id": "457dbdc7-422f-414f-b1ca-a47796b65b7a",
   "metadata": {},
   "outputs": [],
   "source": [
    "from sklearn.metrics import fbeta_score, make_scorer\n",
    "from hyperopt import fmin, tpe, hp, anneal, Trials\n",
    "from hyperopt import tpe\n",
    "from sklearn.model_selection import cross_val_score\n",
    "from sklearn.model_selection import train_test_split\n",
    "from sklearn.metrics import mean_squared_error"
   ]
  },
  {
   "cell_type": "code",
   "execution_count": 318,
   "id": "3f100958-457f-4328-acda-ef161eaa85b0",
   "metadata": {},
   "outputs": [],
   "source": [
    "kf = KFold(n_splits = 5)\n",
    "\n",
    "def gb_mse_cv(params, random_state = 22, cv = kf, X = x_train, y= y_train):\n",
    "    # the function gets a set of variable parameters in \"param\"\n",
    "    params = {'learning_rate': params['learning_rate'],\n",
    "              'num_leaves': int(params['num_leaves']),\n",
    "              'subsample' : params['subsample'],\n",
    "              'max_depth': int(params['max_depth']),\n",
    "              'reg_alpha' : params['reg_alpha'],\n",
    "              'reg_lambda' : params['reg_lambda'],\n",
    "              'min_child_weight': params['min_child_weight'],\n",
    "              'min_split_gain' :  params['min_split_gain'],\n",
    "              }\n",
    "    # 'min_data_in_leaf': int(params['min_data_in_leaf'])         \n",
    "    \n",
    "    # we use this params to create a new LGBM Regressor\n",
    "    model = LGBMClassifier(random_state = random_state, **params)\n",
    "    \n",
    "    # and then conduct the cross validation with the same folds as before\n",
    "    score = -cross_val_score(model, X, y, cv=cv, \n",
    "                             scoring= make_scorer(my_comp_score_probs_hyps, \n",
    "                                                                      needs_proba= True), \n",
    "                             n_jobs=-1).mean()\n",
    "\n",
    "    return score"
   ]
  },
  {
   "cell_type": "code",
   "execution_count": null,
   "id": "fa7dc330-22ff-47d5-8cf1-7acf02c2abb2",
   "metadata": {},
   "outputs": [],
   "source": [
    "%%time\n",
    "\n",
    "n_iter = 50\n",
    "\n",
    "# possible values of parameters\n",
    "space = {'learning_rate': hp.loguniform('learning_rate', -4, 0),\n",
    "         'num_leaves' : hp.quniform('num_leaves', 2, 40, 1),\n",
    "         'subsample' : hp.loguniform('subsample', -4, 0),\n",
    "         'max_depth' : hp.quniform('max_depth', 2, 14, 1),\n",
    "         'reg_alpha' : hp.loguniform('reg_alpha', -4, 0),\n",
    "         'reg_lambda' : hp.loguniform('reg_lambda', -4, 0),\n",
    "         'min_child_weight': hp.loguniform('min_child_weight', -4, 4),\n",
    "         'min_split_gain' : hp.loguniform('min_split_gain', -4, 0),\n",
    "        }\n",
    "\n",
    "#  'min_child_weight': hp.choice('min_child_weight', np.arange(1, 8, 1, dtype=int)),\n",
    "#  \"min_child_weight\": hp.quniform('min_child_weight', 2, 50, 2),\n",
    "#  'min_data_in_leaf': hp.quniform('min_data_in_leaf', 2, 40, 1)\n",
    "#  'colsample_bytree': hp.choice('colsample_bytree', np.arange(0.3, 1, 0.1)),\n",
    "\n",
    "# trials will contain logging information\n",
    "trials = Trials()\n",
    "\n",
    "best=fmin(fn=gb_mse_cv, # function to optimize\n",
    "          space=space, \n",
    "          algo=tpe.suggest, # optimization algorithm, hyperotp will select its parameters automatically\n",
    "          max_evals=n_iter, # maximum number of iterations\n",
    "          trials=trials, # logging\n",
    "          rstate=np.random.RandomState(58) # fixing random state for the reproducibility\n",
    "         )\n",
    "\n",
    "# computing the score on the test set\n",
    "model = LGBMClassifier(random_state = 54,\n",
    "                       learning_rate = best['learning_rate'],\n",
    "                       num_leaves = int(best['num_leaves']), \n",
    "                       subsample = best['subsample'],\n",
    "                       max_depth = int(best['max_depth']),\n",
    "                       reg_alpha = best['reg_alpha'],\n",
    "                       reg_lambda = best['reg_lambda'],\n",
    "                       min_child_weight = best['min_child_weight'],\n",
    "                       min_split_gain = best['min_split_gain'],\n",
    "                       )\n",
    "# min_data_in_leaf = int(best['min_data_in_leaf'])\n",
    "\n",
    "model.fit(x_train, y_train)\n",
    "\n",
    "print(\"Best  {:.3f} params {}\".format( gb_mse_cv(best), best))\n"
   ]
  },
  {
   "cell_type": "code",
   "execution_count": 320,
   "id": "b2e19d20-d511-42c5-914a-766d99964a90",
   "metadata": {},
   "outputs": [],
   "source": [
    "valid_preds = model.predict(x_test)\n",
    "valid_preds_proba = model.predict_proba(x_test)\n",
    "valid_preds_proba = pd.DataFrame(valid_preds_proba)\n",
    "valid_preds_proba.columns = [\"proba of 0\", \"proba of 1\"]"
   ]
  },
  {
   "cell_type": "code",
   "execution_count": 321,
   "id": "64bb0092-4d15-41cf-ba04-af75854bfbe4",
   "metadata": {},
   "outputs": [
    {
     "data": {
      "text/plain": [
       "array([<AxesSubplot:>, <AxesSubplot:>, <AxesSubplot:>, <AxesSubplot:>,\n",
       "       <AxesSubplot:>, <AxesSubplot:>, <AxesSubplot:>, <AxesSubplot:>,\n",
       "       <AxesSubplot:>], dtype=object)"
      ]
     },
     "execution_count": 321,
     "metadata": {},
     "output_type": "execute_result"
    },
    {
     "data": {
      "image/png": "[encoded data removed]",
      "text/plain": [
       "<Figure size 720x720 with 9 Axes>"
      ]
     },
     "metadata": {
      "needs_background": "light"
     },
     "output_type": "display_data"
    }
   ],
   "source": [
    "#tpe_test_score=mean_squared_error(x_test, model.predict(y_test))\n",
    "\n",
    "tpe_results = np.array([[x['result']['loss'],\n",
    "                         x['misc']['vals']['learning_rate'][0],\n",
    "                         x['misc']['vals']['num_leaves'][0],\n",
    "                         x['misc']['vals']['subsample'][0],\n",
    "                         x['misc']['vals']['max_depth'][0],\n",
    "                         x['misc']['vals']['reg_alpha'][0],\n",
    "                         x['misc']['vals']['reg_lambda'][0],\n",
    "                         x['misc']['vals']['min_child_weight'][0],\n",
    "                         x['misc']['vals']['min_split_gain'][0]] for x in trials.trials])\n",
    "\n",
    "tpe_results_df = pd.DataFrame(tpe_results,\n",
    "                           columns=['score', \n",
    "                                    'learning_rate', \n",
    "                                    'num_leaves',\n",
    "                                    'subsample',\n",
    "                                    'max_depth',\n",
    "                                    'reg_alpha',\n",
    "                                    'reg_lambda',\n",
    "                                    'min_child_weight',\n",
    "                                    'min_split_gain'])\n",
    "                                    \n",
    "tpe_results_df.plot(subplots=True,figsize=(10, 10))"
   ]
  },
  {
   "cell_type": "markdown",
   "id": "98425bad-e850-41ac-9b27-75fdf9213feb",
   "metadata": {},
   "source": [
    "# Launching LightGBM"
   ]
  },
  {
   "cell_type": "code",
   "execution_count": 353,
   "id": "63a4a18c-6765-47e7-98a2-12e7cb5a0e59",
   "metadata": {},
   "outputs": [],
   "source": [
    "def my_comp_score_lgbm(y_true, y_pred):\n",
    "    \n",
    "    # for now y_pred is the probability that the value is 1\n",
    "    y_use = [1 if i >= 0.5 else 0 for i in y_pred]\n",
    "    \n",
    "    y_use = pd.Series(y_use)\n",
    "\n",
    "    tn, fp, fn, tp = confusion_matrix(y_true, y_use).ravel()\n",
    "    \n",
    "    tn_weight = 1\n",
    "    fp_weight = 0\n",
    "    fn_weight = -10\n",
    "    tp_weight = 0\n",
    "\n",
    "    # gain function for company, true positives and false positives don't matter that much to us\n",
    "    # we want to penalise the false negatives, and we want to say yes to true negatives\n",
    "    gain = tp*(tp_weight) + tn*(tn_weight) + fp*(fp_weight) + fn*(fn_weight)\n",
    "    \n",
    "    # best represents scenario where there are no false negatives or false postives\n",
    "    # so all false positives would be correctly shown as negative\n",
    "    # and all false negatives would be correctly show as positive\n",
    "    best = (tn + fp) * tn_weight + (tp + fn) * tp_weight\n",
    "    \n",
    "    # baseline is a naive model that predicts non default(negative) for everyone\n",
    "    # but all true positives and false negatives would be incorrectly shown as negative\n",
    "    baseline = (tn + fp) * tn_weight + (tp + fn) * fn_weight\n",
    "    \n",
    "    score = ((gain - baseline) / (best - baseline))\n",
    "\n",
    "    return 'my score', score, True"
   ]
  },
  {
   "cell_type": "code",
   "execution_count": 348,
   "id": "114ccd9b-cd7a-4cd1-9bcc-fff514500537",
   "metadata": {},
   "outputs": [],
   "source": [
    "num_folds = 10\n",
    "stratified = False\n",
    "\n",
    "# Cross validation model\n",
    "if stratified:\n",
    "    folds = StratifiedKFold(n_splits = num_folds, shuffle = True, random_state=1001)\n",
    "else:\n",
    "    folds = KFold(n_splits= num_folds, shuffle = True, random_state = 1001)\n",
    "    \n",
    "# Create arrays and dataframes to store results\n",
    "oof_preds = np.zeros(df_ft_selec_underbal.shape[0])\n",
    "#sub_preds = np.zeros(test_df.shape[0])\n",
    "feature_importance_df = pd.DataFrame()"
   ]
  },
  {
   "cell_type": "code",
   "execution_count": null,
   "id": "0d2b2078-0f79-47b5-8222-29ab2592992e",
   "metadata": {},
   "outputs": [],
   "source": [
    "#df_ft_selec_underbal[feats].to_csv(\"../my_csv_files/MY_train_x.csv\")\n",
    "# x_train, x_test, y_train, y_test\n",
    "for n_fold, (train_idx, valid_idx) in enumerate(folds.split(x_train, \n",
    "                                                            y_train)):\n",
    "    train_x, train_y = x_train.iloc[train_idx], y_train.iloc[train_idx]\n",
    "    valid_x, valid_y = x_train.iloc[valid_idx], y_train.iloc[valid_idx]\n",
    "    \n",
    "    valid_x.to_csv(\"../my_csv_files/MY_valid_x.csv\")\n",
    "    valid_y.to_csv(\"../my_csv_files/MY_valid_y.csv\")\n",
    "    \n",
    "    # Light GBM parameters found by my hyperparameter search\n",
    "    #clf = LGBMClassifier(\n",
    "    #    nthread = 4,\n",
    "    #    n_estimators = 10000,\n",
    "    #    learning_rate = 0.021244673062841227,\n",
    "    #    num_leaves = 2,\n",
    "    #    subsample = 0.21165336323057224,\n",
    "    #    max_depth = 13,\n",
    "    #    reg_alpha = 0.14478355702201645,\n",
    "    #    reg_lambda = 0.916518960046144,\n",
    "    #    min_split_gain = 0.21240150614336456,\n",
    "    #    min_child_weight = 5,\n",
    "    #    silent = -1,\n",
    "    #    verbose = -1, )\n",
    "\n",
    "    clf = LGBMClassifier(\n",
    "            nthread=4,\n",
    "            n_estimators=10000,\n",
    "            learning_rate=0.02,\n",
    "            num_leaves=34,\n",
    "            colsample_bytree=0.9497036,\n",
    "            subsample=0.8715623,\n",
    "            max_depth=8,\n",
    "            reg_alpha=0.041545473,\n",
    "            reg_lambda=0.0735294,\n",
    "            min_split_gain=0.0222415,\n",
    "            min_child_weight=39.3259775,\n",
    "            silent=-1,\n",
    "            verbose=-1, )\n",
    "    \n",
    "    clf.fit(train_x, train_y, eval_set=[(train_x, train_y), (valid_x, valid_y)], \n",
    "            verbose= 200, early_stopping_rounds= 200, eval_metric = my_comp_score_lgbm)\n",
    "\n",
    "    oof_preds[valid_idx] = clf.predict_proba(valid_x, num_iteration=clf.best_iteration_)[:, 1]\n",
    "    \n",
    "    valid_preds = clf.predict(valid_x, num_iteration = clf.best_iteration_)\n",
    "    valid_preds_proba = clf.predict_proba(valid_x, num_iteration = clf.best_iteration_)\n",
    "\n",
    "    fold_importance_df = pd.DataFrame()\n",
    "    fold_importance_df[\"feature\"] = feats\n",
    "    fold_importance_df[\"importance\"] = clf.feature_importances_\n",
    "    fold_importance_df[\"fold\"] = n_fold + 1\n",
    "    feature_importance_df = pd.concat([feature_importance_df, fold_importance_df], axis = 0)\n",
    "    \n",
    "    print('Fold %2d AUC : %.6f' % (n_fold + 1, roc_auc_score(valid_y, oof_preds[valid_idx])))\n",
    "    del train_x, train_y, \n",
    "    #valid_x, valid_y\n",
    "    gc.collect()\n",
    "    "
   ]
  },
  {
   "cell_type": "code",
   "execution_count": 336,
   "id": "7cca57d7-8b00-4d7e-af1c-0348cb96b131",
   "metadata": {},
   "outputs": [],
   "source": [
    "# using the model straight from hyperparameter search\n",
    "clf.predict(x_test)\n",
    "valid_preds = clf.predict(x_test)\n",
    "valid_preds_proba = clf.predict_proba(x_test)\n",
    "valid_preds_proba = pd.DataFrame(valid_preds_proba)\n",
    "valid_preds_proba.columns = [\"proba of 0\", \"proba of 1\"]"
   ]
  },
  {
   "cell_type": "code",
   "execution_count": 352,
   "id": "fdd3c903-20b8-4b41-8cf4-810095ece18d",
   "metadata": {},
   "outputs": [
    {
     "data": {
      "text/plain": [
       "1.0    7730\n",
       "dtype: int64"
      ]
     },
     "execution_count": 352,
     "metadata": {},
     "output_type": "execute_result"
    }
   ],
   "source": [
    "pd.Series(clf.predict(valid_x, num_iteration = clf.best_iteration_)).value_counts()"
   ]
  },
  {
   "cell_type": "code",
   "execution_count": 40,
   "id": "1f4e60ec-9272-48fa-aec7-0ab7003a8872",
   "metadata": {},
   "outputs": [],
   "source": [
    "# Display/plot feature importance\n",
    "def display_importances(feature_importance_df_):\n",
    "    cols = feature_importance_df_[[\"feature\", \"importance\"]].groupby(\"feature\").mean().sort_values(by=\"importance\", ascending=False)[:40].index\n",
    "    best_features = feature_importance_df_.loc[feature_importance_df_.feature.isin(cols)]\n",
    "    plt.figure(figsize=(8, 10))\n",
    "    sns.barplot(x=\"importance\", y=\"feature\", data=best_features.sort_values(by=\"importance\", ascending=False))\n",
    "    plt.title('LightGBM Features')\n",
    "    plt.tight_layout()\n",
    "    plt.savefig('../Models/lgbm_ft_importances.png')"
   ]
  },
  {
   "cell_type": "code",
   "execution_count": 41,
   "id": "9da8744a-856a-4f48-b37a-67f941bd8665",
   "metadata": {},
   "outputs": [],
   "source": [
    "model.feature_importances_\n",
    "fold_importance_df = pd.DataFrame()\n",
    "fold_importance_df[\"feature\"] = feats\n",
    "fold_importance_df[\"importance\"] = model.feature_importances_\n",
    "fold_importance_df[\"fold\"] = 1\n",
    "feature_importance_df = pd.DataFrame()\n",
    "feature_importance_df = pd.concat([feature_importance_df, fold_importance_df], axis = 0)"
   ]
  },
  {
   "cell_type": "code",
   "execution_count": 42,
   "id": "30fb2007-60d8-42fb-be51-8de2babc914e",
   "metadata": {},
   "outputs": [
    {
     "data": {
      "text/html": [
       "<div>\n",
       "<style scoped>\n",
       "    .dataframe tbody tr th:only-of-type {\n",
       "        vertical-align: middle;\n",
       "    }\n",
       "\n",
       "    .dataframe tbody tr th {\n",
       "        vertical-align: top;\n",
       "    }\n",
       "\n",
       "    .dataframe thead th {\n",
       "        text-align: right;\n",
       "    }\n",
       "</style>\n",
       "<table border=\"1\" class=\"dataframe\">\n",
       "  <thead>\n",
       "    <tr style=\"text-align: right;\">\n",
       "      <th></th>\n",
       "      <th>feature</th>\n",
       "      <th>importance</th>\n",
       "      <th>fold</th>\n",
       "    </tr>\n",
       "  </thead>\n",
       "  <tbody>\n",
       "    <tr>\n",
       "      <th>2</th>\n",
       "      <td>EXT_SOURCE_1</td>\n",
       "      <td>141</td>\n",
       "      <td>1</td>\n",
       "    </tr>\n",
       "    <tr>\n",
       "      <th>0</th>\n",
       "      <td>EXT_SOURCE_2</td>\n",
       "      <td>137</td>\n",
       "      <td>1</td>\n",
       "    </tr>\n",
       "    <tr>\n",
       "      <th>7</th>\n",
       "      <td>PAYMENT_RATE</td>\n",
       "      <td>124</td>\n",
       "      <td>1</td>\n",
       "    </tr>\n",
       "    <tr>\n",
       "      <th>1</th>\n",
       "      <td>EXT_SOURCE_3</td>\n",
       "      <td>104</td>\n",
       "      <td>1</td>\n",
       "    </tr>\n",
       "    <tr>\n",
       "      <th>3</th>\n",
       "      <td>INSTAL_DPD_MEAN</td>\n",
       "      <td>70</td>\n",
       "      <td>1</td>\n",
       "    </tr>\n",
       "    <tr>\n",
       "      <th>12</th>\n",
       "      <td>DAYS_BIRTH</td>\n",
       "      <td>67</td>\n",
       "      <td>1</td>\n",
       "    </tr>\n",
       "    <tr>\n",
       "      <th>6</th>\n",
       "      <td>DAYS_EMPLOYED</td>\n",
       "      <td>57</td>\n",
       "      <td>1</td>\n",
       "    </tr>\n",
       "    <tr>\n",
       "      <th>10</th>\n",
       "      <td>ANNUITY_INCOME_PERC</td>\n",
       "      <td>55</td>\n",
       "      <td>1</td>\n",
       "    </tr>\n",
       "    <tr>\n",
       "      <th>9</th>\n",
       "      <td>APPROVED_CNT_PAYMENT_MEAN</td>\n",
       "      <td>55</td>\n",
       "      <td>1</td>\n",
       "    </tr>\n",
       "    <tr>\n",
       "      <th>5</th>\n",
       "      <td>AMT_ANNUITY</td>\n",
       "      <td>54</td>\n",
       "      <td>1</td>\n",
       "    </tr>\n",
       "  </tbody>\n",
       "</table>\n",
       "</div>"
      ],
      "text/plain": [
       "                      feature  importance  fold\n",
       "2                EXT_SOURCE_1         141     1\n",
       "0                EXT_SOURCE_2         137     1\n",
       "7                PAYMENT_RATE         124     1\n",
       "1                EXT_SOURCE_3         104     1\n",
       "3             INSTAL_DPD_MEAN          70     1\n",
       "12                 DAYS_BIRTH          67     1\n",
       "6               DAYS_EMPLOYED          57     1\n",
       "10        ANNUITY_INCOME_PERC          55     1\n",
       "9   APPROVED_CNT_PAYMENT_MEAN          55     1\n",
       "5                 AMT_ANNUITY          54     1"
      ]
     },
     "execution_count": 42,
     "metadata": {},
     "output_type": "execute_result"
    }
   ],
   "source": [
    "feature_importance_df.sort_values(by=\"importance\", ascending=False).head(10)"
   ]
  },
  {
   "cell_type": "code",
   "execution_count": 43,
   "id": "7a6c8d16-ba43-4fae-ac74-5ff426c1b2ac",
   "metadata": {},
   "outputs": [
    {
     "data": {
      "image/png": "[encoded data removed]",
      "text/plain": [
       "<Figure size 576x720 with 1 Axes>"
      ]
     },
     "metadata": {
      "needs_background": "light"
     },
     "output_type": "display_data"
    }
   ],
   "source": [
    "display_importances(feature_importance_df)"
   ]
  },
  {
   "cell_type": "markdown",
   "id": "74e3e8ff-8c67-45b6-99a7-bab7d911930c",
   "metadata": {},
   "source": [
    "# Results"
   ]
  },
  {
   "cell_type": "code",
   "execution_count": 454,
   "id": "ba5bb646-3cba-4d33-8f3c-ef409d50cc04",
   "metadata": {},
   "outputs": [],
   "source": [
    "#valid_preds = model.predict(x_test)\n",
    "#valid_preds_proba = clf.predict_proba(model)"
   ]
  },
  {
   "cell_type": "code",
   "execution_count": 3,
   "id": "5e9efd96-9569-4005-930e-cf40c3f98704",
   "metadata": {},
   "outputs": [],
   "source": [
    "import pickle\n",
    "import joblib"
   ]
  },
  {
   "cell_type": "code",
   "execution_count": 89,
   "id": "4784849e-1dc9-49b8-a771-d4780661a3a8",
   "metadata": {},
   "outputs": [],
   "source": [
    "clf = joblib.load(\"../Models/lgbm__trained_myscore_final.sav\")"
   ]
  },
  {
   "cell_type": "code",
   "execution_count": 90,
   "id": "b0a22abc-34e2-4d87-88ba-2d36e8cb6d6d",
   "metadata": {},
   "outputs": [],
   "source": [
    "clf.predict(x_test)\n",
    "valid_preds = clf.predict(x_test)"
   ]
  },
  {
   "cell_type": "markdown",
   "id": "e26a40ec-3b65-4717-9b44-3cd9e626502d",
   "metadata": {},
   "source": [
    "# y_comp_score_probs(y_test, get_adjust_probs(valid_preds_proba[\"proba of 1\"], 0.55))0.525 thresh model from hyperpar search (test 0.2) target 0 size = 23600\n",
    "\n",
    "Best  -0.670 params {'learning_rate': 0.08870178703604115, 'max_depth': 11.0, 'min_child_weight': 10.409138301977308, 'min_split_gain': 0.21512301406613943, 'num_leaves': 40.0, 'reg_alpha': 0.1898807342462033, 'reg_lambda': 0.021071843710366307, 'subsample': 0.0446518276170140"
   ]
  },
  {
   "cell_type": "code",
   "execution_count": 323,
   "id": "c2e8ecf2-4423-460f-830e-fbcdf4410588",
   "metadata": {},
   "outputs": [
    {
     "name": "stdout",
     "output_type": "stream",
     "text": [
      "[[3422 1332]\n",
      " [1466 3443]]\n"
     ]
    },
    {
     "data": {
      "text/plain": [
       "0.674231004277857"
      ]
     },
     "execution_count": 323,
     "metadata": {},
     "output_type": "execute_result"
    }
   ],
   "source": [
    "my_comp_score_probs(y_test, get_adjust_probs(valid_preds_proba[\"proba of 1\"], 0.525))"
   ]
  },
  {
   "cell_type": "markdown",
   "id": "ba716313-4d95-4bdc-be09-8db3f0b620d9",
   "metadata": {},
   "source": [
    "# 0.55 thresh model from hyperpar search (test 0.2) target 0 size = 23600\n",
    "[03:25<00:00,  4.10s/trial, best loss: -0.6409338474166395]\n",
    "Best  -0.641 params {'learning_rate': 0.2197145917862124, 'max_depth': 14.0, 'min_child_weight': 0.07968010256601095, 'min_split_gain': 0.06212694381081332, 'num_leaves': 36.0, 'reg_alpha': 0.16966768922482137, 'reg_lambda': 0.9897582627431495, 'subsample': 0.9832656173632323}\n",
    "CPU times: user 12.5 s, sys: 2.55 s, total: 15 s"
   ]
  },
  {
   "cell_type": "code",
   "execution_count": 306,
   "id": "69a6e5ca-ab98-48ec-9381-1bbfb7b021da",
   "metadata": {},
   "outputs": [
    {
     "name": "stdout",
     "output_type": "stream",
     "text": [
      "[[3475 1279]\n",
      " [1609 3300]]\n"
     ]
    },
    {
     "data": {
      "text/plain": [
       "0.646180484823793"
      ]
     },
     "execution_count": 306,
     "metadata": {},
     "output_type": "execute_result"
    }
   ],
   "source": [
    "my_comp_score_probs(y_test, get_adjust_probs(valid_preds_proba[\"proba of 1\"], 0.55))"
   ]
  },
  {
   "cell_type": "code",
   "execution_count": null,
   "id": "32fb3344-5daf-44cd-95e7-0060287eda65",
   "metadata": {},
   "outputs": [],
   "source": []
  },
  {
   "cell_type": "markdown",
   "id": "0d73fcc1-f0c9-43c9-a796-ac5a4dc4e484",
   "metadata": {},
   "source": [
    "# 0.45 thresh model from hyperpar search (test 0.2) target 0 size = 23600\n",
    "50/50 [02:53<00:00,  3.47s/trial, best loss: -0.7590550991712663]\n",
    "Best  -0.759 params {'learning_rate': 0.02102611821292695, 'max_depth': 4.0, 'min_child_weight': 2.2724426837144294, 'min_split_gain': 0.9886360112647312, 'num_leaves': 36.0, 'reg_alpha': 0.03703736573755908, 'reg_lambda': 0.6259839630942137, 'subsample': 0.0509335302326957}\n",
    "CPU times: user 8.33 s, sys: 2.66 s, total: 11 s\n",
    "Wall time: 2min 57s"
   ]
  },
  {
   "cell_type": "code",
   "execution_count": 295,
   "id": "584889f3-b998-467a-a4ef-7b3532b455b0",
   "metadata": {},
   "outputs": [
    {
     "name": "stdout",
     "output_type": "stream",
     "text": [
      "[[2544 2210]\n",
      " [ 974 3935]]\n"
     ]
    },
    {
     "data": {
      "text/plain": [
       "0.756569566103076"
      ]
     },
     "execution_count": 295,
     "metadata": {},
     "output_type": "execute_result"
    }
   ],
   "source": [
    "my_comp_score_probs(y_test, get_adjust_probs(valid_preds_proba[\"proba of 1\"], 0.45))"
   ]
  },
  {
   "cell_type": "markdown",
   "id": "2cbbedc9-d10c-4d7c-941f-7d60876dce8f",
   "metadata": {},
   "source": [
    "# 0.475 thresh model from hyperpar search (test 0.2) target 0 size = 23600\n",
    "100%|██████████| 50/50 [03:06<00:00,  3.73s/trial, best loss: -0.7233807323249046]\n",
    "Best  -0.723 params {'learning_rate': 0.018707754979528868, 'max_depth': 5.0, 'min_child_weight': 0.6433195065760914, 'min_split_gain': 0.2504407480257237, 'num_leaves': 39.0, 'reg_alpha': 0.05024260180880458, 'reg_lambda': 0.16644835584023265, 'subsample': 0.17573914964912604}\n",
    "CPU times: user 11.9 s, sys: 3.02 s, total: 14.9 s\n",
    "Wall time: 3min 12s"
   ]
  },
  {
   "cell_type": "code",
   "execution_count": 275,
   "id": "58a9b603-9ad2-4c37-8a6e-8d1214dbc0de",
   "metadata": {},
   "outputs": [],
   "source": [
    "joblib.dump(model, \"../Models/lgbmhyperpar_mythresh_0_475.sav\")\n",
    "pickle.dump(model, open(\"../Models/lgbmhyperpar_mythresh_0_475.pickle\", 'wb'))"
   ]
  },
  {
   "cell_type": "code",
   "execution_count": 276,
   "id": "f9b27292-a04a-490e-a0ea-c2fcdf35a452",
   "metadata": {},
   "outputs": [
    {
     "data": {
      "text/plain": [
       "array([[3088, 1666],\n",
       "       [1409, 3500]])"
      ]
     },
     "execution_count": 276,
     "metadata": {},
     "output_type": "execute_result"
    }
   ],
   "source": [
    "from sklearn.metrics import confusion_matrix\n",
    "conf_lgm = confusion_matrix(y_test, valid_preds)\n",
    "conf_lgm"
   ]
  },
  {
   "cell_type": "code",
   "execution_count": 284,
   "id": "63d0a96f-dcb7-4463-abb8-f0e659dc70b2",
   "metadata": {},
   "outputs": [
    {
     "name": "stdout",
     "output_type": "stream",
     "text": [
      "[[2803 1951]\n",
      " [1179 3730]]\n"
     ]
    },
    {
     "data": {
      "text/plain": [
       "0.720085557139947"
      ]
     },
     "execution_count": 284,
     "metadata": {},
     "output_type": "execute_result"
    }
   ],
   "source": [
    "my_comp_score_probs(y_test, get_adjust_probs(valid_preds_proba[\"proba of 1\"], 0.475))\n"
   ]
  },
  {
   "cell_type": "markdown",
   "id": "75898508-46b8-4836-ac30-26dad15f0276",
   "metadata": {},
   "source": [
    "# 0.5 thresh model from hyperpar search (test 0.2) target 0 size = 23600\n",
    "\n",
    "50/50 [03:09<00:00,  3.80s/trial, best loss: -0.6948765706564547]\n",
    "Best  -0.695 params {'learning_rate': 0.09380430219192913, 'max_depth': 6.0, 'min_child_weight': 0.12960166489430924, 'min_split_gain': 0.5988754490916931, 'num_leaves': 30.0, 'reg_alpha': 0.4947494126724022, 'reg_lambda': 0.04107204278222534, 'subsample': 0.020910129161915883}\n",
    "CPU times: user 10.8 s, sys: 2.49 s, total: 13.3 s\n",
    "Wall time: 3min 15s"
   ]
  },
  {
   "cell_type": "code",
   "execution_count": 255,
   "id": "91a50708-0e9a-4df0-80dc-a9c1494437db",
   "metadata": {},
   "outputs": [],
   "source": [
    "joblib.dump(model, \"../Models/lgbmhyperpar_mythresh_0_5.sav\")\n",
    "pickle.dump(model, open(\"../Models/lgbmhyperpar_mythresh_0_5.pickle\", 'wb'))"
   ]
  },
  {
   "cell_type": "code",
   "execution_count": 4,
   "id": "3ad8f3d9-7ee7-4087-aff5-e4150000d866",
   "metadata": {},
   "outputs": [],
   "source": [
    "model = joblib.load( \"../Models/lgbmhyperpar_mythresh_0_5.sav\")"
   ]
  },
  {
   "cell_type": "code",
   "execution_count": 96,
   "id": "67fd92c1-0ec5-4137-8d50-2786e6ee18e7",
   "metadata": {},
   "outputs": [
    {
     "data": {
      "text/plain": [
       "0.7077512159784746"
      ]
     },
     "execution_count": 96,
     "metadata": {},
     "output_type": "execute_result"
    }
   ],
   "source": [
    "from sklearn.metrics import *\n",
    "accuracy_score(y_test, valid_preds)"
   ]
  },
  {
   "cell_type": "code",
   "execution_count": 337,
   "id": "8fc4a630-31ee-4b6e-8c8f-8dbeb60f2503",
   "metadata": {},
   "outputs": [
    {
     "data": {
      "text/plain": [
       "0.5080202835558315"
      ]
     },
     "execution_count": 337,
     "metadata": {},
     "output_type": "execute_result"
    }
   ],
   "source": [
    "from sklearn.metrics import *\n",
    "accuracy_score(y_test, valid_preds)"
   ]
  },
  {
   "cell_type": "code",
   "execution_count": 97,
   "id": "2f30a28f-29c5-492d-8db6-e03253225ba7",
   "metadata": {},
   "outputs": [
    {
     "data": {
      "text/plain": [
       "0.7331432063556732"
      ]
     },
     "execution_count": 97,
     "metadata": {},
     "output_type": "execute_result"
    }
   ],
   "source": [
    "recall_score(y_test, valid_preds)"
   ]
  },
  {
   "cell_type": "code",
   "execution_count": 338,
   "id": "2fc64717-6159-4815-b95a-816d49cba0e3",
   "metadata": {},
   "outputs": [
    {
     "data": {
      "text/plain": [
       "1.0"
      ]
     },
     "execution_count": 338,
     "metadata": {},
     "output_type": "execute_result"
    }
   ],
   "source": [
    "recall_score(y_test, valid_preds)"
   ]
  },
  {
   "cell_type": "code",
   "execution_count": 98,
   "id": "3e572871-589d-446f-a2c7-822ade3cae3f",
   "metadata": {},
   "outputs": [
    {
     "data": {
      "text/plain": [
       "0.7038920398982984"
      ]
     },
     "execution_count": 98,
     "metadata": {},
     "output_type": "execute_result"
    }
   ],
   "source": [
    "precision_score(y_test, valid_preds)"
   ]
  },
  {
   "cell_type": "code",
   "execution_count": 339,
   "id": "c49aa85f-5dd7-41e4-8149-90c5d7c00400",
   "metadata": {},
   "outputs": [
    {
     "data": {
      "text/plain": [
       "0.5080202835558315"
      ]
     },
     "execution_count": 339,
     "metadata": {},
     "output_type": "execute_result"
    }
   ],
   "source": [
    "precision_score(y_test, valid_preds)"
   ]
  },
  {
   "cell_type": "code",
   "execution_count": 99,
   "id": "e1f05935-276f-4a56-bf27-40603953c0e6",
   "metadata": {},
   "outputs": [
    {
     "data": {
      "text/plain": [
       "0.7073372741917195"
      ]
     },
     "execution_count": 99,
     "metadata": {},
     "output_type": "execute_result"
    }
   ],
   "source": [
    "roc_auc_score(y_test, valid_preds)"
   ]
  },
  {
   "cell_type": "code",
   "execution_count": 340,
   "id": "4af2c841-9be3-416f-bc93-d85d02a5e82d",
   "metadata": {},
   "outputs": [
    {
     "data": {
      "text/plain": [
       "0.5"
      ]
     },
     "execution_count": 340,
     "metadata": {},
     "output_type": "execute_result"
    }
   ],
   "source": [
    "roc_auc_score(y_test, valid_preds)"
   ]
  },
  {
   "cell_type": "code",
   "execution_count": 212,
   "id": "c0a45fb4-66ec-4b01-aa99-8800d041450b",
   "metadata": {},
   "outputs": [
    {
     "name": "stdout",
     "output_type": "stream",
     "text": [
      "[[3240 1514]\n",
      " [1310 3599]]\n"
     ]
    },
    {
     "data": {
      "text/plain": [
       "0.7023018944795274"
      ]
     },
     "execution_count": 212,
     "metadata": {},
     "output_type": "execute_result"
    }
   ],
   "source": [
    "my_comp_score_probs(y_test, valid_preds_proba[\"proba of 1\"], 0.5)"
   ]
  },
  {
   "cell_type": "code",
   "execution_count": 342,
   "id": "262a6bad-24f9-487a-b3b1-5063874f3151",
   "metadata": {},
   "outputs": [
    {
     "name": "stdout",
     "output_type": "stream",
     "text": [
      "[[   0 4754]\n",
      " [   0 4909]]\n"
     ]
    },
    {
     "data": {
      "text/plain": [
       "0.9031574658789978"
      ]
     },
     "execution_count": 342,
     "metadata": {},
     "output_type": "execute_result"
    }
   ],
   "source": [
    "my_comp_score_probs(y_test, get_adjust_probs(valid_preds_proba[\"proba of 1\"], 0.5))"
   ]
  },
  {
   "cell_type": "code",
   "execution_count": 177,
   "id": "cb5c3207-5a6f-4fe5-94a2-66cab517982e",
   "metadata": {},
   "outputs": [
    {
     "data": {
      "text/plain": [
       "array([[3403, 1376],\n",
       "       [1358, 3606]])"
      ]
     },
     "execution_count": 177,
     "metadata": {},
     "output_type": "execute_result"
    }
   ],
   "source": [
    "from sklearn.metrics import confusion_matrix\n",
    "conf_lgm = confusion_matrix(y_test, valid_preds)\n",
    "conf_lgm"
   ]
  },
  {
   "cell_type": "code",
   "execution_count": 45,
   "id": "681d5304-41a9-4c2c-afa7-75b78e35a512",
   "metadata": {},
   "outputs": [],
   "source": [
    "#pd.DataFrame(conf_lgm, index = [\"0.0\", \"1.0\"], columns = [\"0\", \"1.0\"])\n",
    "conf_lgm = pd.DataFrame(index = [\"0.0\", \"1.0\"], columns = [\"0\", \"1.0\"])"
   ]
  },
  {
   "cell_type": "code",
   "execution_count": 49,
   "id": "150b28f1-efb9-46e1-a933-7bb96c36b1ea",
   "metadata": {},
   "outputs": [
    {
     "data": {
      "text/html": [
       "<div>\n",
       "<style scoped>\n",
       "    .dataframe tbody tr th:only-of-type {\n",
       "        vertical-align: middle;\n",
       "    }\n",
       "\n",
       "    .dataframe tbody tr th {\n",
       "        vertical-align: top;\n",
       "    }\n",
       "\n",
       "    .dataframe thead th {\n",
       "        text-align: right;\n",
       "    }\n",
       "</style>\n",
       "<table border=\"1\" class=\"dataframe\">\n",
       "  <thead>\n",
       "    <tr style=\"text-align: right;\">\n",
       "      <th></th>\n",
       "      <th>0</th>\n",
       "      <th>1.0</th>\n",
       "    </tr>\n",
       "  </thead>\n",
       "  <tbody>\n",
       "    <tr>\n",
       "      <th>0.0</th>\n",
       "      <td>3240</td>\n",
       "      <td>1514</td>\n",
       "    </tr>\n",
       "    <tr>\n",
       "      <th>1.0</th>\n",
       "      <td>1310</td>\n",
       "      <td>3599</td>\n",
       "    </tr>\n",
       "  </tbody>\n",
       "</table>\n",
       "</div>"
      ],
      "text/plain": [
       "        0   1.0\n",
       "0.0  3240  1514\n",
       "1.0  1310  3599"
      ]
     },
     "execution_count": 49,
     "metadata": {},
     "output_type": "execute_result"
    }
   ],
   "source": [
    "conf_lgm.iloc[1,1] = 3599\n",
    "conf_lgm"
   ]
  },
  {
   "cell_type": "markdown",
   "id": "0aaacddb-f9db-45bf-a4ed-ccd7eb173457",
   "metadata": {},
   "source": [
    "## Keep tracks"
   ]
  },
  {
   "cell_type": "code",
   "execution_count": 107,
   "id": "35f15af8-8829-4ef9-99f7-9fdc091e2d0d",
   "metadata": {},
   "outputs": [],
   "source": [
    "#keep_track[['Accuracy', 'ROC AUC', 'Recall', 'Precision', 'My Scorer']]"
   ]
  },
  {
   "cell_type": "code",
   "execution_count": 106,
   "id": "6e715a5f-a3e6-441e-a3f2-01d62dabcae4",
   "metadata": {},
   "outputs": [],
   "source": [
    "#keep_track.loc[\"Feature Selection, Undersampling\",'ROC AUC'] = roc_auc_score(y_test, valid_preds)\n",
    "#keep_track.loc[\"Feature Selection, Undersampling\",'Accuracy'] = accuracy_score(y_test, valid_preds)\n",
    "#keep_track.loc[\"Feature Selection, Undersampling\",'Precision'] = precision_score(y_test, valid_preds)\n",
    "#keep_track.loc[\"Feature Selection, Undersampling\",'Recall'] = recall_score(y_test, valid_preds)\n",
    "#keep_track.loc[\"Feature Selection, Undersampling\",'My Scorer'] = my_comp_score(y_test, valid_preds)"
   ]
  },
  {
   "cell_type": "code",
   "execution_count": 260,
   "id": "21af95ce-7207-4952-b047-eaa5fdce1bb7",
   "metadata": {},
   "outputs": [],
   "source": [
    "def save_scores_threshs(keep_track_threshs, y_test, valid_preds, which_row):\n",
    "    \n",
    "    keep_track_threshs.loc[which_row,'Accuracy'] = accuracy_score(y_test, valid_preds)\n",
    "    keep_track_threshs.loc[which_row,'ROC AUC'] = roc_auc_score(y_test, valid_preds)\n",
    "    keep_track_threshs.loc[which_row,'Precision'] = precision_score(y_test, valid_preds)\n",
    "    keep_track_threshs.loc[which_row,'Recall'] = recall_score(y_test, valid_preds)\n",
    "    keep_track_threshs.loc[which_row,'My Scorer'] = my_comp_score_probs(y_test, valid_preds)\n",
    "        "
   ]
  },
  {
   "cell_type": "code",
   "execution_count": null,
   "id": "ab53c33c-6ad5-4550-bba8-a211a3712b4b",
   "metadata": {},
   "outputs": [],
   "source": [
    "get_adjust_probs(y_pred, thresh)\n",
    "my_comp_score_probs(y_true, get_adjust_probs(y_pred, thresh))"
   ]
  },
  {
   "cell_type": "code",
   "execution_count": 324,
   "id": "184080c8-7fa8-43a1-a815-ee9936c64974",
   "metadata": {},
   "outputs": [
    {
     "name": "stdout",
     "output_type": "stream",
     "text": [
      "[[3422 1332]\n",
      " [1466 3443]]\n"
     ]
    }
   ],
   "source": [
    "save_scores_threshs(keep_track_trained_threshs,\n",
    "                    y_test, \n",
    "                    get_adjust_probs(valid_preds_proba[\"proba of 1\"], 0.525) , \n",
    "                    \"Undersampling, threshold : 0.525\")"
   ]
  },
  {
   "cell_type": "code",
   "execution_count": 326,
   "id": "0fa317a3-dede-403b-bc51-2704b9418573",
   "metadata": {},
   "outputs": [],
   "source": [
    "keep_track_trained_threshs = keep_track_trained_threshs.reindex([\"Undersampling, threshold : 0.55\", \n",
    "                                                                 \"Undersampling, threshold : 0.525\",\n",
    "                                             \"Undersampling, threshold : 0.5\", \n",
    "                                             \"Undersampling, threshold : 0.475\",\n",
    "                                             \"Undersampling, threshold : 0.45\"])"
   ]
  },
  {
   "cell_type": "code",
   "execution_count": 327,
   "id": "3c67e8fd-f52f-4acb-b9d9-9c8ee69d0018",
   "metadata": {},
   "outputs": [
    {
     "data": {
      "text/html": [
       "<div>\n",
       "<style scoped>\n",
       "    .dataframe tbody tr th:only-of-type {\n",
       "        vertical-align: middle;\n",
       "    }\n",
       "\n",
       "    .dataframe tbody tr th {\n",
       "        vertical-align: top;\n",
       "    }\n",
       "\n",
       "    .dataframe thead th {\n",
       "        text-align: right;\n",
       "    }\n",
       "</style>\n",
       "<table border=\"1\" class=\"dataframe\">\n",
       "  <thead>\n",
       "    <tr style=\"text-align: right;\">\n",
       "      <th></th>\n",
       "      <th>Accuracy</th>\n",
       "      <th>ROC AUC</th>\n",
       "      <th>Recall</th>\n",
       "      <th>Precision</th>\n",
       "      <th>My Scorer</th>\n",
       "    </tr>\n",
       "  </thead>\n",
       "  <tbody>\n",
       "    <tr>\n",
       "      <th>Undersampling, threshold : 0.55</th>\n",
       "      <td>0.701128</td>\n",
       "      <td>0.701599</td>\n",
       "      <td>0.672235</td>\n",
       "      <td>0.720681</td>\n",
       "      <td>0.64618</td>\n",
       "    </tr>\n",
       "    <tr>\n",
       "      <th>Undersampling, threshold : 0.525</th>\n",
       "      <td>0.710442</td>\n",
       "      <td>0.71059</td>\n",
       "      <td>0.701365</td>\n",
       "      <td>0.721047</td>\n",
       "      <td>0.674231</td>\n",
       "    </tr>\n",
       "    <tr>\n",
       "      <th>Undersampling, threshold : 0.5</th>\n",
       "      <td>0.707751</td>\n",
       "      <td>0.707337</td>\n",
       "      <td>0.733143</td>\n",
       "      <td>0.703892</td>\n",
       "      <td>0.702302</td>\n",
       "    </tr>\n",
       "    <tr>\n",
       "      <th>Undersampling, threshold : 0.475</th>\n",
       "      <td>0.676084</td>\n",
       "      <td>0.674719</td>\n",
       "      <td>0.759829</td>\n",
       "      <td>0.656575</td>\n",
       "      <td>0.720086</td>\n",
       "    </tr>\n",
       "    <tr>\n",
       "      <th>Undersampling, threshold : 0.45</th>\n",
       "      <td>0.670496</td>\n",
       "      <td>0.668359</td>\n",
       "      <td>0.801589</td>\n",
       "      <td>0.640358</td>\n",
       "      <td>0.75657</td>\n",
       "    </tr>\n",
       "  </tbody>\n",
       "</table>\n",
       "</div>"
      ],
      "text/plain": [
       "                                  Accuracy   ROC AUC    Recall Precision  \\\n",
       "Undersampling, threshold : 0.55   0.701128  0.701599  0.672235  0.720681   \n",
       "Undersampling, threshold : 0.525  0.710442   0.71059  0.701365  0.721047   \n",
       "Undersampling, threshold : 0.5    0.707751  0.707337  0.733143  0.703892   \n",
       "Undersampling, threshold : 0.475  0.676084  0.674719  0.759829  0.656575   \n",
       "Undersampling, threshold : 0.45   0.670496  0.668359  0.801589  0.640358   \n",
       "\n",
       "                                 My Scorer  \n",
       "Undersampling, threshold : 0.55    0.64618  \n",
       "Undersampling, threshold : 0.525  0.674231  \n",
       "Undersampling, threshold : 0.5    0.702302  \n",
       "Undersampling, threshold : 0.475  0.720086  \n",
       "Undersampling, threshold : 0.45    0.75657  "
      ]
     },
     "execution_count": 327,
     "metadata": {},
     "output_type": "execute_result"
    }
   ],
   "source": [
    "keep_track_trained_threshs"
   ]
  },
  {
   "cell_type": "code",
   "execution_count": 252,
   "id": "832d1460-93bf-47b4-943b-038bb6d9c00e",
   "metadata": {},
   "outputs": [
    {
     "data": {
      "text/html": [
       "<div>\n",
       "<style scoped>\n",
       "    .dataframe tbody tr th:only-of-type {\n",
       "        vertical-align: middle;\n",
       "    }\n",
       "\n",
       "    .dataframe tbody tr th {\n",
       "        vertical-align: top;\n",
       "    }\n",
       "\n",
       "    .dataframe thead th {\n",
       "        text-align: right;\n",
       "    }\n",
       "</style>\n",
       "<table border=\"1\" class=\"dataframe\">\n",
       "  <thead>\n",
       "    <tr style=\"text-align: right;\">\n",
       "      <th></th>\n",
       "      <th>Accuracy</th>\n",
       "      <th>ROC AUC</th>\n",
       "      <th>Recall</th>\n",
       "      <th>Precision</th>\n",
       "      <th>My Scorer</th>\n",
       "    </tr>\n",
       "  </thead>\n",
       "  <tbody>\n",
       "    <tr>\n",
       "      <th>Undersampling, threshold : 0.5</th>\n",
       "      <td>0.707751</td>\n",
       "      <td>0.707337</td>\n",
       "      <td>0.733143</td>\n",
       "      <td>0.703892</td>\n",
       "      <td>0.702302</td>\n",
       "    </tr>\n",
       "    <tr>\n",
       "      <th>Undersampling, threshold : 0.49</th>\n",
       "      <td>0.707855</td>\n",
       "      <td>0.70726</td>\n",
       "      <td>0.744347</td>\n",
       "      <td>0.699732</td>\n",
       "      <td>0.712406</td>\n",
       "    </tr>\n",
       "    <tr>\n",
       "      <th>Undersampling, threshold : 0.48</th>\n",
       "      <td>0.707958</td>\n",
       "      <td>0.707169</td>\n",
       "      <td>0.756366</td>\n",
       "      <td>0.695449</td>\n",
       "      <td>0.723243</td>\n",
       "    </tr>\n",
       "    <tr>\n",
       "      <th>Undersampling, threshold : 0.47</th>\n",
       "      <td>0.708372</td>\n",
       "      <td>0.707381</td>\n",
       "      <td>0.769199</td>\n",
       "      <td>0.691448</td>\n",
       "      <td>0.734875</td>\n",
       "    </tr>\n",
       "    <tr>\n",
       "      <th>Undersampling, threshold : 0.46</th>\n",
       "      <td>0.707027</td>\n",
       "      <td>0.705841</td>\n",
       "      <td>0.779792</td>\n",
       "      <td>0.686267</td>\n",
       "      <td>0.744143</td>\n",
       "    </tr>\n",
       "    <tr>\n",
       "      <th>Undersampling, threshold : 0.45</th>\n",
       "      <td>0.705061</td>\n",
       "      <td>0.703709</td>\n",
       "      <td>0.787941</td>\n",
       "      <td>0.681346</td>\n",
       "      <td>0.75109</td>\n",
       "    </tr>\n",
       "    <tr>\n",
       "      <th>Undersampling, threshold : 0.44</th>\n",
       "      <td>0.703301</td>\n",
       "      <td>0.701716</td>\n",
       "      <td>0.80057</td>\n",
       "      <td>0.67549</td>\n",
       "      <td>0.76211</td>\n",
       "    </tr>\n",
       "    <tr>\n",
       "      <th>Undersampling, threshold : 0.43</th>\n",
       "      <td>0.699576</td>\n",
       "      <td>0.697803</td>\n",
       "      <td>0.808311</td>\n",
       "      <td>0.66914</td>\n",
       "      <td>0.768344</td>\n",
       "    </tr>\n",
       "    <tr>\n",
       "      <th>Undersampling, threshold : 0.42</th>\n",
       "      <td>0.699369</td>\n",
       "      <td>0.697427</td>\n",
       "      <td>0.818497</td>\n",
       "      <td>0.666114</td>\n",
       "      <td>0.77747</td>\n",
       "    </tr>\n",
       "    <tr>\n",
       "      <th>Undersampling, threshold : 0.41</th>\n",
       "      <td>0.695643</td>\n",
       "      <td>0.693488</td>\n",
       "      <td>0.827867</td>\n",
       "      <td>0.65974</td>\n",
       "      <td>0.78517</td>\n",
       "    </tr>\n",
       "    <tr>\n",
       "      <th>Undersampling, threshold : 0.4</th>\n",
       "      <td>0.695229</td>\n",
       "      <td>0.692881</td>\n",
       "      <td>0.839275</td>\n",
       "      <td>0.656469</td>\n",
       "      <td>0.795355</td>\n",
       "    </tr>\n",
       "  </tbody>\n",
       "</table>\n",
       "</div>"
      ],
      "text/plain": [
       "                                 Accuracy   ROC AUC    Recall Precision  \\\n",
       "Undersampling, threshold : 0.5   0.707751  0.707337  0.733143  0.703892   \n",
       "Undersampling, threshold : 0.49  0.707855   0.70726  0.744347  0.699732   \n",
       "Undersampling, threshold : 0.48  0.707958  0.707169  0.756366  0.695449   \n",
       "Undersampling, threshold : 0.47  0.708372  0.707381  0.769199  0.691448   \n",
       "Undersampling, threshold : 0.46  0.707027  0.705841  0.779792  0.686267   \n",
       "Undersampling, threshold : 0.45  0.705061  0.703709  0.787941  0.681346   \n",
       "Undersampling, threshold : 0.44  0.703301  0.701716   0.80057   0.67549   \n",
       "Undersampling, threshold : 0.43  0.699576  0.697803  0.808311   0.66914   \n",
       "Undersampling, threshold : 0.42  0.699369  0.697427  0.818497  0.666114   \n",
       "Undersampling, threshold : 0.41  0.695643  0.693488  0.827867   0.65974   \n",
       "Undersampling, threshold : 0.4   0.695229  0.692881  0.839275  0.656469   \n",
       "\n",
       "                                My Scorer  \n",
       "Undersampling, threshold : 0.5   0.702302  \n",
       "Undersampling, threshold : 0.49  0.712406  \n",
       "Undersampling, threshold : 0.48  0.723243  \n",
       "Undersampling, threshold : 0.47  0.734875  \n",
       "Undersampling, threshold : 0.46  0.744143  \n",
       "Undersampling, threshold : 0.45   0.75109  \n",
       "Undersampling, threshold : 0.44   0.76211  \n",
       "Undersampling, threshold : 0.43  0.768344  \n",
       "Undersampling, threshold : 0.42   0.77747  \n",
       "Undersampling, threshold : 0.41   0.78517  \n",
       "Undersampling, threshold : 0.4   0.795355  "
      ]
     },
     "execution_count": 252,
     "metadata": {},
     "output_type": "execute_result"
    }
   ],
   "source": [
    "keep_track_threshs"
   ]
  },
  {
   "cell_type": "code",
   "execution_count": 253,
   "id": "63131182-443d-437d-90c0-b4e96065e82e",
   "metadata": {},
   "outputs": [
    {
     "data": {
      "application/vnd.plotly.v1+json": {
       "config": {
        "plotlyServerURL": "https://plot.ly"
       },
       "data": [
        {
         "hovertemplate": "variable=Accuracy<br>index=%{x}<br>value=%{y}<extra></extra>",
         "legendgroup": "Accuracy",
         "line": {
          "color": "#636efa",
          "dash": "solid"
         },
         "marker": {
          "symbol": "circle"
         },
         "mode": "lines",
         "name": "Accuracy",
         "orientation": "v",
         "showlegend": true,
         "type": "scatter",
         "x": [
          "Undersampling, threshold : 0.5",
          "Undersampling, threshold : 0.49",
          "Undersampling, threshold : 0.48",
          "Undersampling, threshold : 0.47",
          "Undersampling, threshold : 0.46",
          "Undersampling, threshold : 0.45",
          "Undersampling, threshold : 0.44",
          "Undersampling, threshold : 0.43",
          "Undersampling, threshold : 0.42",
          "Undersampling, threshold : 0.41",
          "Undersampling, threshold : 0.4"
         ],
         "xaxis": "x",
         "y": [
          0.7077512159784746,
          0.7078547035082272,
          0.70795819103798,
          0.7083721411569905,
          0.707026803270206,
          0.7050605402049053,
          0.70330125219911,
          0.699575701128014,
          0.6993687260685088,
          0.6956431749974128,
          0.6952292248784021
         ],
         "yaxis": "y"
        },
        {
         "hovertemplate": "variable=ROC AUC<br>index=%{x}<br>value=%{y}<extra></extra>",
         "legendgroup": "ROC AUC",
         "line": {
          "color": "#EF553B",
          "dash": "solid"
         },
         "marker": {
          "symbol": "circle"
         },
         "mode": "lines",
         "name": "ROC AUC",
         "orientation": "v",
         "showlegend": true,
         "type": "scatter",
         "x": [
          "Undersampling, threshold : 0.5",
          "Undersampling, threshold : 0.49",
          "Undersampling, threshold : 0.48",
          "Undersampling, threshold : 0.47",
          "Undersampling, threshold : 0.46",
          "Undersampling, threshold : 0.45",
          "Undersampling, threshold : 0.44",
          "Undersampling, threshold : 0.43",
          "Undersampling, threshold : 0.42",
          "Undersampling, threshold : 0.41",
          "Undersampling, threshold : 0.4"
         ],
         "xaxis": "x",
         "y": [
          0.7073372741917195,
          0.7072598019332585,
          0.7071690462676496,
          0.7073805309643505,
          0.7058405770037827,
          0.7037094257257431,
          0.7017155648880299,
          0.6978030872866395,
          0.6974266955176556,
          0.6934876511019701,
          0.6928809850426265
         ],
         "yaxis": "y"
        },
        {
         "hovertemplate": "variable=Recall<br>index=%{x}<br>value=%{y}<extra></extra>",
         "legendgroup": "Recall",
         "line": {
          "color": "#00cc96",
          "dash": "solid"
         },
         "marker": {
          "symbol": "circle"
         },
         "mode": "lines",
         "name": "Recall",
         "orientation": "v",
         "showlegend": true,
         "type": "scatter",
         "x": [
          "Undersampling, threshold : 0.5",
          "Undersampling, threshold : 0.49",
          "Undersampling, threshold : 0.48",
          "Undersampling, threshold : 0.47",
          "Undersampling, threshold : 0.46",
          "Undersampling, threshold : 0.45",
          "Undersampling, threshold : 0.44",
          "Undersampling, threshold : 0.43",
          "Undersampling, threshold : 0.42",
          "Undersampling, threshold : 0.41",
          "Undersampling, threshold : 0.4"
         ],
         "xaxis": "x",
         "y": [
          0.7331432063556732,
          0.7443471175392137,
          0.7563658586270117,
          0.7691994296190671,
          0.7797922183744144,
          0.7879405174169892,
          0.8005703809329803,
          0.8083112650234263,
          0.8184966388266449,
          0.827867182725606,
          0.8392748013852108
         ],
         "yaxis": "y"
        },
        {
         "hovertemplate": "variable=Precision<br>index=%{x}<br>value=%{y}<extra></extra>",
         "legendgroup": "Precision",
         "line": {
          "color": "#ab63fa",
          "dash": "solid"
         },
         "marker": {
          "symbol": "circle"
         },
         "mode": "lines",
         "name": "Precision",
         "orientation": "v",
         "showlegend": true,
         "type": "scatter",
         "x": [
          "Undersampling, threshold : 0.5",
          "Undersampling, threshold : 0.49",
          "Undersampling, threshold : 0.48",
          "Undersampling, threshold : 0.47",
          "Undersampling, threshold : 0.46",
          "Undersampling, threshold : 0.45",
          "Undersampling, threshold : 0.44",
          "Undersampling, threshold : 0.43",
          "Undersampling, threshold : 0.42",
          "Undersampling, threshold : 0.41",
          "Undersampling, threshold : 0.4"
         ],
         "xaxis": "x",
         "y": [
          0.7038920398982984,
          0.6997319034852547,
          0.6954485858775051,
          0.6914484526643472,
          0.6862674793832915,
          0.6813457812224767,
          0.6754898590580956,
          0.6691399662731872,
          0.6661140583554377,
          0.6597402597402597,
          0.6564690885914596
         ],
         "yaxis": "y"
        },
        {
         "hovertemplate": "variable=My Scorer<br>index=%{x}<br>value=%{y}<extra></extra>",
         "legendgroup": "My Scorer",
         "line": {
          "color": "#FFA15A",
          "dash": "solid"
         },
         "marker": {
          "symbol": "circle"
         },
         "mode": "lines",
         "name": "My Scorer",
         "orientation": "v",
         "showlegend": true,
         "type": "scatter",
         "x": [
          "Undersampling, threshold : 0.5",
          "Undersampling, threshold : 0.49",
          "Undersampling, threshold : 0.48",
          "Undersampling, threshold : 0.47",
          "Undersampling, threshold : 0.46",
          "Undersampling, threshold : 0.45",
          "Undersampling, threshold : 0.44",
          "Undersampling, threshold : 0.43",
          "Undersampling, threshold : 0.42",
          "Undersampling, threshold : 0.41",
          "Undersampling, threshold : 0.4"
         ],
         "xaxis": "x",
         "y": [
          0.7023018944795274,
          0.7124057852923202,
          0.7232430230189448,
          0.7348747199022204,
          0.7441434100631493,
          0.7510898349969444,
          0.7621104094520269,
          0.7683438582195966,
          0.7774699531472805,
          0.7851700957425137,
          0.7953554695457323
         ],
         "yaxis": "y"
        }
       ],
       "layout": {
        "autosize": true,
        "legend": {
         "title": {
          "text": "variable"
         },
         "tracegroupgap": 0
        },
        "margin": {
         "t": 60
        },
        "template": {
         "data": {
          "bar": [
           {
            "error_x": {
             "color": "#2a3f5f"
            },
            "error_y": {
             "color": "#2a3f5f"
            },
            "marker": {
             "line": {
              "color": "#E5ECF6",
              "width": 0.5
             },
             "pattern": {
              "fillmode": "overlay",
              "size": 10,
              "solidity": 0.2
             }
            },
            "type": "bar"
           }
          ],
          "barpolar": [
           {
            "marker": {
             "line": {
              "color": "#E5ECF6",
              "width": 0.5
             },
             "pattern": {
              "fillmode": "overlay",
              "size": 10,
              "solidity": 0.2
             }
            },
            "type": "barpolar"
           }
          ],
          "carpet": [
           {
            "aaxis": {
             "endlinecolor": "#2a3f5f",
             "gridcolor": "white",
             "linecolor": "white",
             "minorgridcolor": "white",
             "startlinecolor": "#2a3f5f"
            },
            "baxis": {
             "endlinecolor": "#2a3f5f",
             "gridcolor": "white",
             "linecolor": "white",
             "minorgridcolor": "white",
             "startlinecolor": "#2a3f5f"
            },
            "type": "carpet"
           }
          ],
          "choropleth": [
           {
            "colorbar": {
             "outlinewidth": 0,
             "ticks": ""
            },
            "type": "choropleth"
           }
          ],
          "contour": [
           {
            "colorbar": {
             "outlinewidth": 0,
             "ticks": ""
            },
            "colorscale": [
             [
              0,
              "#0d0887"
             ],
             [
              0.1111111111111111,
              "#46039f"
             ],
             [
              0.2222222222222222,
              "#7201a8"
             ],
             [
              0.3333333333333333,
              "#9c179e"
             ],
             [
              0.4444444444444444,
              "#bd3786"
             ],
             [
              0.5555555555555556,
              "#d8576b"
             ],
             [
              0.6666666666666666,
              "#ed7953"
             ],
             [
              0.7777777777777778,
              "#fb9f3a"
             ],
             [
              0.8888888888888888,
              "#fdca26"
             ],
             [
              1,
              "#f0f921"
             ]
            ],
            "type": "contour"
           }
          ],
          "contourcarpet": [
           {
            "colorbar": {
             "outlinewidth": 0,
             "ticks": ""
            },
            "type": "contourcarpet"
           }
          ],
          "heatmap": [
           {
            "colorbar": {
             "outlinewidth": 0,
             "ticks": ""
            },
            "colorscale": [
             [
              0,
              "#0d0887"
             ],
             [
              0.1111111111111111,
              "#46039f"
             ],
             [
              0.2222222222222222,
              "#7201a8"
             ],
             [
              0.3333333333333333,
              "#9c179e"
             ],
             [
              0.4444444444444444,
              "#bd3786"
             ],
             [
              0.5555555555555556,
              "#d8576b"
             ],
             [
              0.6666666666666666,
              "#ed7953"
             ],
             [
              0.7777777777777778,
              "#fb9f3a"
             ],
             [
              0.8888888888888888,
              "#fdca26"
             ],
             [
              1,
              "#f0f921"
             ]
            ],
            "type": "heatmap"
           }
          ],
          "heatmapgl": [
           {
            "colorbar": {
             "outlinewidth": 0,
             "ticks": ""
            },
            "colorscale": [
             [
              0,
              "#0d0887"
             ],
             [
              0.1111111111111111,
              "#46039f"
             ],
             [
              0.2222222222222222,
              "#7201a8"
             ],
             [
              0.3333333333333333,
              "#9c179e"
             ],
             [
              0.4444444444444444,
              "#bd3786"
             ],
             [
              0.5555555555555556,
              "#d8576b"
             ],
             [
              0.6666666666666666,
              "#ed7953"
             ],
             [
              0.7777777777777778,
              "#fb9f3a"
             ],
             [
              0.8888888888888888,
              "#fdca26"
             ],
             [
              1,
              "#f0f921"
             ]
            ],
            "type": "heatmapgl"
           }
          ],
          "histogram": [
           {
            "marker": {
             "pattern": {
              "fillmode": "overlay",
              "size": 10,
              "solidity": 0.2
             }
            },
            "type": "histogram"
           }
          ],
          "histogram2d": [
           {
            "colorbar": {
             "outlinewidth": 0,
             "ticks": ""
            },
            "colorscale": [
             [
              0,
              "#0d0887"
             ],
             [
              0.1111111111111111,
              "#46039f"
             ],
             [
              0.2222222222222222,
              "#7201a8"
             ],
             [
              0.3333333333333333,
              "#9c179e"
             ],
             [
              0.4444444444444444,
              "#bd3786"
             ],
             [
              0.5555555555555556,
              "#d8576b"
             ],
             [
              0.6666666666666666,
              "#ed7953"
             ],
             [
              0.7777777777777778,
              "#fb9f3a"
             ],
             [
              0.8888888888888888,
              "#fdca26"
             ],
             [
              1,
              "#f0f921"
             ]
            ],
            "type": "histogram2d"
           }
          ],
          "histogram2dcontour": [
           {
            "colorbar": {
             "outlinewidth": 0,
             "ticks": ""
            },
            "colorscale": [
             [
              0,
              "#0d0887"
             ],
             [
              0.1111111111111111,
              "#46039f"
             ],
             [
              0.2222222222222222,
              "#7201a8"
             ],
             [
              0.3333333333333333,
              "#9c179e"
             ],
             [
              0.4444444444444444,
              "#bd3786"
             ],
             [
              0.5555555555555556,
              "#d8576b"
             ],
             [
              0.6666666666666666,
              "#ed7953"
             ],
             [
              0.7777777777777778,
              "#fb9f3a"
             ],
             [
              0.8888888888888888,
              "#fdca26"
             ],
             [
              1,
              "#f0f921"
             ]
            ],
            "type": "histogram2dcontour"
           }
          ],
          "mesh3d": [
           {
            "colorbar": {
             "outlinewidth": 0,
             "ticks": ""
            },
            "type": "mesh3d"
           }
          ],
          "parcoords": [
           {
            "line": {
             "colorbar": {
              "outlinewidth": 0,
              "ticks": ""
             }
            },
            "type": "parcoords"
           }
          ],
          "pie": [
           {
            "automargin": true,
            "type": "pie"
           }
          ],
          "scatter": [
           {
            "marker": {
             "colorbar": {
              "outlinewidth": 0,
              "ticks": ""
             }
            },
            "type": "scatter"
           }
          ],
          "scatter3d": [
           {
            "line": {
             "colorbar": {
              "outlinewidth": 0,
              "ticks": ""
             }
            },
            "marker": {
             "colorbar": {
              "outlinewidth": 0,
              "ticks": ""
             }
            },
            "type": "scatter3d"
           }
          ],
          "scattercarpet": [
           {
            "marker": {
             "colorbar": {
              "outlinewidth": 0,
              "ticks": ""
             }
            },
            "type": "scattercarpet"
           }
          ],
          "scattergeo": [
           {
            "marker": {
             "colorbar": {
              "outlinewidth": 0,
              "ticks": ""
             }
            },
            "type": "scattergeo"
           }
          ],
          "scattergl": [
           {
            "marker": {
             "colorbar": {
              "outlinewidth": 0,
              "ticks": ""
             }
            },
            "type": "scattergl"
           }
          ],
          "scattermapbox": [
           {
            "marker": {
             "colorbar": {
              "outlinewidth": 0,
              "ticks": ""
             }
            },
            "type": "scattermapbox"
           }
          ],
          "scatterpolar": [
           {
            "marker": {
             "colorbar": {
              "outlinewidth": 0,
              "ticks": ""
             }
            },
            "type": "scatterpolar"
           }
          ],
          "scatterpolargl": [
           {
            "marker": {
             "colorbar": {
              "outlinewidth": 0,
              "ticks": ""
             }
            },
            "type": "scatterpolargl"
           }
          ],
          "scatterternary": [
           {
            "marker": {
             "colorbar": {
              "outlinewidth": 0,
              "ticks": ""
             }
            },
            "type": "scatterternary"
           }
          ],
          "surface": [
           {
            "colorbar": {
             "outlinewidth": 0,
             "ticks": ""
            },
            "colorscale": [
             [
              0,
              "#0d0887"
             ],
             [
              0.1111111111111111,
              "#46039f"
             ],
             [
              0.2222222222222222,
              "#7201a8"
             ],
             [
              0.3333333333333333,
              "#9c179e"
             ],
             [
              0.4444444444444444,
              "#bd3786"
             ],
             [
              0.5555555555555556,
              "#d8576b"
             ],
             [
              0.6666666666666666,
              "#ed7953"
             ],
             [
              0.7777777777777778,
              "#fb9f3a"
             ],
             [
              0.8888888888888888,
              "#fdca26"
             ],
             [
              1,
              "#f0f921"
             ]
            ],
            "type": "surface"
           }
          ],
          "table": [
           {
            "cells": {
             "fill": {
              "color": "#EBF0F8"
             },
             "line": {
              "color": "white"
             }
            },
            "header": {
             "fill": {
              "color": "#C8D4E3"
             },
             "line": {
              "color": "white"
             }
            },
            "type": "table"
           }
          ]
         },
         "layout": {
          "annotationdefaults": {
           "arrowcolor": "#2a3f5f",
           "arrowhead": 0,
           "arrowwidth": 1
          },
          "autotypenumbers": "strict",
          "coloraxis": {
           "colorbar": {
            "outlinewidth": 0,
            "ticks": ""
           }
          },
          "colorscale": {
           "diverging": [
            [
             0,
             "#8e0152"
            ],
            [
             0.1,
             "#c51b7d"
            ],
            [
             0.2,
             "#de77ae"
            ],
            [
             0.3,
             "#f1b6da"
            ],
            [
             0.4,
             "#fde0ef"
            ],
            [
             0.5,
             "#f7f7f7"
            ],
            [
             0.6,
             "#e6f5d0"
            ],
            [
             0.7,
             "#b8e186"
            ],
            [
             0.8,
             "#7fbc41"
            ],
            [
             0.9,
             "#4d9221"
            ],
            [
             1,
             "#276419"
            ]
           ],
           "sequential": [
            [
             0,
             "#0d0887"
            ],
            [
             0.1111111111111111,
             "#46039f"
            ],
            [
             0.2222222222222222,
             "#7201a8"
            ],
            [
             0.3333333333333333,
             "#9c179e"
            ],
            [
             0.4444444444444444,
             "#bd3786"
            ],
            [
             0.5555555555555556,
             "#d8576b"
            ],
            [
             0.6666666666666666,
             "#ed7953"
            ],
            [
             0.7777777777777778,
             "#fb9f3a"
            ],
            [
             0.8888888888888888,
             "#fdca26"
            ],
            [
             1,
             "#f0f921"
            ]
           ],
           "sequentialminus": [
            [
             0,
             "#0d0887"
            ],
            [
             0.1111111111111111,
             "#46039f"
            ],
            [
             0.2222222222222222,
             "#7201a8"
            ],
            [
             0.3333333333333333,
             "#9c179e"
            ],
            [
             0.4444444444444444,
             "#bd3786"
            ],
            [
             0.5555555555555556,
             "#d8576b"
            ],
            [
             0.6666666666666666,
             "#ed7953"
            ],
            [
             0.7777777777777778,
             "#fb9f3a"
            ],
            [
             0.8888888888888888,
             "#fdca26"
            ],
            [
             1,
             "#f0f921"
            ]
           ]
          },
          "colorway": [
           "#636efa",
           "#EF553B",
           "#00cc96",
           "#ab63fa",
           "#FFA15A",
           "#19d3f3",
           "#FF6692",
           "#B6E880",
           "#FF97FF",
           "#FECB52"
          ],
          "font": {
           "color": "#2a3f5f"
          },
          "geo": {
           "bgcolor": "white",
           "lakecolor": "white",
           "landcolor": "#E5ECF6",
           "showlakes": true,
           "showland": true,
           "subunitcolor": "white"
          },
          "hoverlabel": {
           "align": "left"
          },
          "hovermode": "closest",
          "mapbox": {
           "style": "light"
          },
          "paper_bgcolor": "white",
          "plot_bgcolor": "#E5ECF6",
          "polar": {
           "angularaxis": {
            "gridcolor": "white",
            "linecolor": "white",
            "ticks": ""
           },
           "bgcolor": "#E5ECF6",
           "radialaxis": {
            "gridcolor": "white",
            "linecolor": "white",
            "ticks": ""
           }
          },
          "scene": {
           "xaxis": {
            "backgroundcolor": "#E5ECF6",
            "gridcolor": "white",
            "gridwidth": 2,
            "linecolor": "white",
            "showbackground": true,
            "ticks": "",
            "zerolinecolor": "white"
           },
           "yaxis": {
            "backgroundcolor": "#E5ECF6",
            "gridcolor": "white",
            "gridwidth": 2,
            "linecolor": "white",
            "showbackground": true,
            "ticks": "",
            "zerolinecolor": "white"
           },
           "zaxis": {
            "backgroundcolor": "#E5ECF6",
            "gridcolor": "white",
            "gridwidth": 2,
            "linecolor": "white",
            "showbackground": true,
            "ticks": "",
            "zerolinecolor": "white"
           }
          },
          "shapedefaults": {
           "line": {
            "color": "#2a3f5f"
           }
          },
          "ternary": {
           "aaxis": {
            "gridcolor": "white",
            "linecolor": "white",
            "ticks": ""
           },
           "baxis": {
            "gridcolor": "white",
            "linecolor": "white",
            "ticks": ""
           },
           "bgcolor": "#E5ECF6",
           "caxis": {
            "gridcolor": "white",
            "linecolor": "white",
            "ticks": ""
           }
          },
          "title": {
           "x": 0.05
          },
          "xaxis": {
           "automargin": true,
           "gridcolor": "white",
           "linecolor": "white",
           "ticks": "",
           "title": {
            "standoff": 15
           },
           "zerolinecolor": "white",
           "zerolinewidth": 2
          },
          "yaxis": {
           "automargin": true,
           "gridcolor": "white",
           "linecolor": "white",
           "ticks": "",
           "title": {
            "standoff": 15
           },
           "zerolinecolor": "white",
           "zerolinewidth": 2
          }
         }
        },
        "xaxis": {
         "anchor": "y",
         "autorange": true,
         "domain": [
          0,
          1
         ],
         "range": [
          0,
          10
         ],
         "title": {
          "text": "index"
         },
         "type": "category"
        },
        "yaxis": {
         "anchor": "x",
         "autorange": true,
         "domain": [
          0,
          1
         ],
         "range": [
          0.6463132156584734,
          0.849430674318197
         ],
         "title": {
          "text": "value"
         },
         "type": "linear"
        }
       }
      },
      "image/png": "[encoded data removed]",
      "text/html": [
       "<div>                            <div id=\"0781f70b-7ccb-4f06-8812-ea085e876b8a\" class=\"plotly-graph-div\" style=\"height:525px; width:100%;\"></div>            <script type=\"text/javascript\">                require([\"plotly\"], function(Plotly) {                    window.PLOTLYENV=window.PLOTLYENV || {};                                    if (document.getElementById(\"0781f70b-7ccb-4f06-8812-ea085e876b8a\")) {                    Plotly.newPlot(                        \"0781f70b-7ccb-4f06-8812-ea085e876b8a\",                        [{\"hovertemplate\":\"variable=Accuracy<br>index=%{x}<br>value=%{y}<extra></extra>\",\"legendgroup\":\"Accuracy\",\"line\":{\"color\":\"#636efa\",\"dash\":\"solid\"},\"marker\":{\"symbol\":\"circle\"},\"mode\":\"lines\",\"name\":\"Accuracy\",\"orientation\":\"v\",\"showlegend\":true,\"type\":\"scatter\",\"x\":[\"Undersampling, threshold : 0.5\",\"Undersampling, threshold : 0.49\",\"Undersampling, threshold : 0.48\",\"Undersampling, threshold : 0.47\",\"Undersampling, threshold : 0.46\",\"Undersampling, threshold : 0.45\",\"Undersampling, threshold : 0.44\",\"Undersampling, threshold : 0.43\",\"Undersampling, threshold : 0.42\",\"Undersampling, threshold : 0.41\",\"Undersampling, threshold : 0.4\"],\"xaxis\":\"x\",\"y\":[0.7077512159784746,0.7078547035082272,0.70795819103798,0.7083721411569905,0.707026803270206,0.7050605402049053,0.70330125219911,0.699575701128014,0.6993687260685088,0.6956431749974128,0.6952292248784021],\"yaxis\":\"y\"},{\"hovertemplate\":\"variable=ROC AUC<br>index=%{x}<br>value=%{y}<extra></extra>\",\"legendgroup\":\"ROC AUC\",\"line\":{\"color\":\"#EF553B\",\"dash\":\"solid\"},\"marker\":{\"symbol\":\"circle\"},\"mode\":\"lines\",\"name\":\"ROC AUC\",\"orientation\":\"v\",\"showlegend\":true,\"type\":\"scatter\",\"x\":[\"Undersampling, threshold : 0.5\",\"Undersampling, threshold : 0.49\",\"Undersampling, threshold : 0.48\",\"Undersampling, threshold : 0.47\",\"Undersampling, threshold : 0.46\",\"Undersampling, threshold : 0.45\",\"Undersampling, threshold : 0.44\",\"Undersampling, threshold : 0.43\",\"Undersampling, threshold : 0.42\",\"Undersampling, threshold : 0.41\",\"Undersampling, threshold : 0.4\"],\"xaxis\":\"x\",\"y\":[0.7073372741917195,0.7072598019332585,0.7071690462676496,0.7073805309643505,0.7058405770037827,0.7037094257257431,0.7017155648880299,0.6978030872866395,0.6974266955176556,0.6934876511019701,0.6928809850426265],\"yaxis\":\"y\"},{\"hovertemplate\":\"variable=Recall<br>index=%{x}<br>value=%{y}<extra></extra>\",\"legendgroup\":\"Recall\",\"line\":{\"color\":\"#00cc96\",\"dash\":\"solid\"},\"marker\":{\"symbol\":\"circle\"},\"mode\":\"lines\",\"name\":\"Recall\",\"orientation\":\"v\",\"showlegend\":true,\"type\":\"scatter\",\"x\":[\"Undersampling, threshold : 0.5\",\"Undersampling, threshold : 0.49\",\"Undersampling, threshold : 0.48\",\"Undersampling, threshold : 0.47\",\"Undersampling, threshold : 0.46\",\"Undersampling, threshold : 0.45\",\"Undersampling, threshold : 0.44\",\"Undersampling, threshold : 0.43\",\"Undersampling, threshold : 0.42\",\"Undersampling, threshold : 0.41\",\"Undersampling, threshold : 0.4\"],\"xaxis\":\"x\",\"y\":[0.7331432063556732,0.7443471175392137,0.7563658586270117,0.7691994296190671,0.7797922183744144,0.7879405174169892,0.8005703809329803,0.8083112650234263,0.8184966388266449,0.827867182725606,0.8392748013852108],\"yaxis\":\"y\"},{\"hovertemplate\":\"variable=Precision<br>index=%{x}<br>value=%{y}<extra></extra>\",\"legendgroup\":\"Precision\",\"line\":{\"color\":\"#ab63fa\",\"dash\":\"solid\"},\"marker\":{\"symbol\":\"circle\"},\"mode\":\"lines\",\"name\":\"Precision\",\"orientation\":\"v\",\"showlegend\":true,\"type\":\"scatter\",\"x\":[\"Undersampling, threshold : 0.5\",\"Undersampling, threshold : 0.49\",\"Undersampling, threshold : 0.48\",\"Undersampling, threshold : 0.47\",\"Undersampling, threshold : 0.46\",\"Undersampling, threshold : 0.45\",\"Undersampling, threshold : 0.44\",\"Undersampling, threshold : 0.43\",\"Undersampling, threshold : 0.42\",\"Undersampling, threshold : 0.41\",\"Undersampling, threshold : 0.4\"],\"xaxis\":\"x\",\"y\":[0.7038920398982984,0.6997319034852547,0.6954485858775051,0.6914484526643472,0.6862674793832915,0.6813457812224767,0.6754898590580956,0.6691399662731872,0.6661140583554377,0.6597402597402597,0.6564690885914596],\"yaxis\":\"y\"},{\"hovertemplate\":\"variable=My Scorer<br>index=%{x}<br>value=%{y}<extra></extra>\",\"legendgroup\":\"My Scorer\",\"line\":{\"color\":\"#FFA15A\",\"dash\":\"solid\"},\"marker\":{\"symbol\":\"circle\"},\"mode\":\"lines\",\"name\":\"My Scorer\",\"orientation\":\"v\",\"showlegend\":true,\"type\":\"scatter\",\"x\":[\"Undersampling, threshold : 0.5\",\"Undersampling, threshold : 0.49\",\"Undersampling, threshold : 0.48\",\"Undersampling, threshold : 0.47\",\"Undersampling, threshold : 0.46\",\"Undersampling, threshold : 0.45\",\"Undersampling, threshold : 0.44\",\"Undersampling, threshold : 0.43\",\"Undersampling, threshold : 0.42\",\"Undersampling, threshold : 0.41\",\"Undersampling, threshold : 0.4\"],\"xaxis\":\"x\",\"y\":[0.7023018944795274,0.7124057852923202,0.7232430230189448,0.7348747199022204,0.7441434100631493,0.7510898349969444,0.7621104094520269,0.7683438582195966,0.7774699531472805,0.7851700957425137,0.7953554695457323],\"yaxis\":\"y\"}],                        {\"legend\":{\"title\":{\"text\":\"variable\"},\"tracegroupgap\":0},\"margin\":{\"t\":60},\"template\":{\"data\":{\"bar\":[{\"error_x\":{\"color\":\"#2a3f5f\"},\"error_y\":{\"color\":\"#2a3f5f\"},\"marker\":{\"line\":{\"color\":\"#E5ECF6\",\"width\":0.5},\"pattern\":{\"fillmode\":\"overlay\",\"size\":10,\"solidity\":0.2}},\"type\":\"bar\"}],\"barpolar\":[{\"marker\":{\"line\":{\"color\":\"#E5ECF6\",\"width\":0.5},\"pattern\":{\"fillmode\":\"overlay\",\"size\":10,\"solidity\":0.2}},\"type\":\"barpolar\"}],\"carpet\":[{\"aaxis\":{\"endlinecolor\":\"#2a3f5f\",\"gridcolor\":\"white\",\"linecolor\":\"white\",\"minorgridcolor\":\"white\",\"startlinecolor\":\"#2a3f5f\"},\"baxis\":{\"endlinecolor\":\"#2a3f5f\",\"gridcolor\":\"white\",\"linecolor\":\"white\",\"minorgridcolor\":\"white\",\"startlinecolor\":\"#2a3f5f\"},\"type\":\"carpet\"}],\"choropleth\":[{\"colorbar\":{\"outlinewidth\":0,\"ticks\":\"\"},\"type\":\"choropleth\"}],\"contour\":[{\"colorbar\":{\"outlinewidth\":0,\"ticks\":\"\"},\"colorscale\":[[0.0,\"#0d0887\"],[0.1111111111111111,\"#46039f\"],[0.2222222222222222,\"#7201a8\"],[0.3333333333333333,\"#9c179e\"],[0.4444444444444444,\"#bd3786\"],[0.5555555555555556,\"#d8576b\"],[0.6666666666666666,\"#ed7953\"],[0.7777777777777778,\"#fb9f3a\"],[0.8888888888888888,\"#fdca26\"],[1.0,\"#f0f921\"]],\"type\":\"contour\"}],\"contourcarpet\":[{\"colorbar\":{\"outlinewidth\":0,\"ticks\":\"\"},\"type\":\"contourcarpet\"}],\"heatmap\":[{\"colorbar\":{\"outlinewidth\":0,\"ticks\":\"\"},\"colorscale\":[[0.0,\"#0d0887\"],[0.1111111111111111,\"#46039f\"],[0.2222222222222222,\"#7201a8\"],[0.3333333333333333,\"#9c179e\"],[0.4444444444444444,\"#bd3786\"],[0.5555555555555556,\"#d8576b\"],[0.6666666666666666,\"#ed7953\"],[0.7777777777777778,\"#fb9f3a\"],[0.8888888888888888,\"#fdca26\"],[1.0,\"#f0f921\"]],\"type\":\"heatmap\"}],\"heatmapgl\":[{\"colorbar\":{\"outlinewidth\":0,\"ticks\":\"\"},\"colorscale\":[[0.0,\"#0d0887\"],[0.1111111111111111,\"#46039f\"],[0.2222222222222222,\"#7201a8\"],[0.3333333333333333,\"#9c179e\"],[0.4444444444444444,\"#bd3786\"],[0.5555555555555556,\"#d8576b\"],[0.6666666666666666,\"#ed7953\"],[0.7777777777777778,\"#fb9f3a\"],[0.8888888888888888,\"#fdca26\"],[1.0,\"#f0f921\"]],\"type\":\"heatmapgl\"}],\"histogram\":[{\"marker\":{\"pattern\":{\"fillmode\":\"overlay\",\"size\":10,\"solidity\":0.2}},\"type\":\"histogram\"}],\"histogram2d\":[{\"colorbar\":{\"outlinewidth\":0,\"ticks\":\"\"},\"colorscale\":[[0.0,\"#0d0887\"],[0.1111111111111111,\"#46039f\"],[0.2222222222222222,\"#7201a8\"],[0.3333333333333333,\"#9c179e\"],[0.4444444444444444,\"#bd3786\"],[0.5555555555555556,\"#d8576b\"],[0.6666666666666666,\"#ed7953\"],[0.7777777777777778,\"#fb9f3a\"],[0.8888888888888888,\"#fdca26\"],[1.0,\"#f0f921\"]],\"type\":\"histogram2d\"}],\"histogram2dcontour\":[{\"colorbar\":{\"outlinewidth\":0,\"ticks\":\"\"},\"colorscale\":[[0.0,\"#0d0887\"],[0.1111111111111111,\"#46039f\"],[0.2222222222222222,\"#7201a8\"],[0.3333333333333333,\"#9c179e\"],[0.4444444444444444,\"#bd3786\"],[0.5555555555555556,\"#d8576b\"],[0.6666666666666666,\"#ed7953\"],[0.7777777777777778,\"#fb9f3a\"],[0.8888888888888888,\"#fdca26\"],[1.0,\"#f0f921\"]],\"type\":\"histogram2dcontour\"}],\"mesh3d\":[{\"colorbar\":{\"outlinewidth\":0,\"ticks\":\"\"},\"type\":\"mesh3d\"}],\"parcoords\":[{\"line\":{\"colorbar\":{\"outlinewidth\":0,\"ticks\":\"\"}},\"type\":\"parcoords\"}],\"pie\":[{\"automargin\":true,\"type\":\"pie\"}],\"scatter\":[{\"marker\":{\"colorbar\":{\"outlinewidth\":0,\"ticks\":\"\"}},\"type\":\"scatter\"}],\"scatter3d\":[{\"line\":{\"colorbar\":{\"outlinewidth\":0,\"ticks\":\"\"}},\"marker\":{\"colorbar\":{\"outlinewidth\":0,\"ticks\":\"\"}},\"type\":\"scatter3d\"}],\"scattercarpet\":[{\"marker\":{\"colorbar\":{\"outlinewidth\":0,\"ticks\":\"\"}},\"type\":\"scattercarpet\"}],\"scattergeo\":[{\"marker\":{\"colorbar\":{\"outlinewidth\":0,\"ticks\":\"\"}},\"type\":\"scattergeo\"}],\"scattergl\":[{\"marker\":{\"colorbar\":{\"outlinewidth\":0,\"ticks\":\"\"}},\"type\":\"scattergl\"}],\"scattermapbox\":[{\"marker\":{\"colorbar\":{\"outlinewidth\":0,\"ticks\":\"\"}},\"type\":\"scattermapbox\"}],\"scatterpolar\":[{\"marker\":{\"colorbar\":{\"outlinewidth\":0,\"ticks\":\"\"}},\"type\":\"scatterpolar\"}],\"scatterpolargl\":[{\"marker\":{\"colorbar\":{\"outlinewidth\":0,\"ticks\":\"\"}},\"type\":\"scatterpolargl\"}],\"scatterternary\":[{\"marker\":{\"colorbar\":{\"outlinewidth\":0,\"ticks\":\"\"}},\"type\":\"scatterternary\"}],\"surface\":[{\"colorbar\":{\"outlinewidth\":0,\"ticks\":\"\"},\"colorscale\":[[0.0,\"#0d0887\"],[0.1111111111111111,\"#46039f\"],[0.2222222222222222,\"#7201a8\"],[0.3333333333333333,\"#9c179e\"],[0.4444444444444444,\"#bd3786\"],[0.5555555555555556,\"#d8576b\"],[0.6666666666666666,\"#ed7953\"],[0.7777777777777778,\"#fb9f3a\"],[0.8888888888888888,\"#fdca26\"],[1.0,\"#f0f921\"]],\"type\":\"surface\"}],\"table\":[{\"cells\":{\"fill\":{\"color\":\"#EBF0F8\"},\"line\":{\"color\":\"white\"}},\"header\":{\"fill\":{\"color\":\"#C8D4E3\"},\"line\":{\"color\":\"white\"}},\"type\":\"table\"}]},\"layout\":{\"annotationdefaults\":{\"arrowcolor\":\"#2a3f5f\",\"arrowhead\":0,\"arrowwidth\":1},\"autotypenumbers\":\"strict\",\"coloraxis\":{\"colorbar\":{\"outlinewidth\":0,\"ticks\":\"\"}},\"colorscale\":{\"diverging\":[[0,\"#8e0152\"],[0.1,\"#c51b7d\"],[0.2,\"#de77ae\"],[0.3,\"#f1b6da\"],[0.4,\"#fde0ef\"],[0.5,\"#f7f7f7\"],[0.6,\"#e6f5d0\"],[0.7,\"#b8e186\"],[0.8,\"#7fbc41\"],[0.9,\"#4d9221\"],[1,\"#276419\"]],\"sequential\":[[0.0,\"#0d0887\"],[0.1111111111111111,\"#46039f\"],[0.2222222222222222,\"#7201a8\"],[0.3333333333333333,\"#9c179e\"],[0.4444444444444444,\"#bd3786\"],[0.5555555555555556,\"#d8576b\"],[0.6666666666666666,\"#ed7953\"],[0.7777777777777778,\"#fb9f3a\"],[0.8888888888888888,\"#fdca26\"],[1.0,\"#f0f921\"]],\"sequentialminus\":[[0.0,\"#0d0887\"],[0.1111111111111111,\"#46039f\"],[0.2222222222222222,\"#7201a8\"],[0.3333333333333333,\"#9c179e\"],[0.4444444444444444,\"#bd3786\"],[0.5555555555555556,\"#d8576b\"],[0.6666666666666666,\"#ed7953\"],[0.7777777777777778,\"#fb9f3a\"],[0.8888888888888888,\"#fdca26\"],[1.0,\"#f0f921\"]]},\"colorway\":[\"#636efa\",\"#EF553B\",\"#00cc96\",\"#ab63fa\",\"#FFA15A\",\"#19d3f3\",\"#FF6692\",\"#B6E880\",\"#FF97FF\",\"#FECB52\"],\"font\":{\"color\":\"#2a3f5f\"},\"geo\":{\"bgcolor\":\"white\",\"lakecolor\":\"white\",\"landcolor\":\"#E5ECF6\",\"showlakes\":true,\"showland\":true,\"subunitcolor\":\"white\"},\"hoverlabel\":{\"align\":\"left\"},\"hovermode\":\"closest\",\"mapbox\":{\"style\":\"light\"},\"paper_bgcolor\":\"white\",\"plot_bgcolor\":\"#E5ECF6\",\"polar\":{\"angularaxis\":{\"gridcolor\":\"white\",\"linecolor\":\"white\",\"ticks\":\"\"},\"bgcolor\":\"#E5ECF6\",\"radialaxis\":{\"gridcolor\":\"white\",\"linecolor\":\"white\",\"ticks\":\"\"}},\"scene\":{\"xaxis\":{\"backgroundcolor\":\"#E5ECF6\",\"gridcolor\":\"white\",\"gridwidth\":2,\"linecolor\":\"white\",\"showbackground\":true,\"ticks\":\"\",\"zerolinecolor\":\"white\"},\"yaxis\":{\"backgroundcolor\":\"#E5ECF6\",\"gridcolor\":\"white\",\"gridwidth\":2,\"linecolor\":\"white\",\"showbackground\":true,\"ticks\":\"\",\"zerolinecolor\":\"white\"},\"zaxis\":{\"backgroundcolor\":\"#E5ECF6\",\"gridcolor\":\"white\",\"gridwidth\":2,\"linecolor\":\"white\",\"showbackground\":true,\"ticks\":\"\",\"zerolinecolor\":\"white\"}},\"shapedefaults\":{\"line\":{\"color\":\"#2a3f5f\"}},\"ternary\":{\"aaxis\":{\"gridcolor\":\"white\",\"linecolor\":\"white\",\"ticks\":\"\"},\"baxis\":{\"gridcolor\":\"white\",\"linecolor\":\"white\",\"ticks\":\"\"},\"bgcolor\":\"#E5ECF6\",\"caxis\":{\"gridcolor\":\"white\",\"linecolor\":\"white\",\"ticks\":\"\"}},\"title\":{\"x\":0.05},\"xaxis\":{\"automargin\":true,\"gridcolor\":\"white\",\"linecolor\":\"white\",\"ticks\":\"\",\"title\":{\"standoff\":15},\"zerolinecolor\":\"white\",\"zerolinewidth\":2},\"yaxis\":{\"automargin\":true,\"gridcolor\":\"white\",\"linecolor\":\"white\",\"ticks\":\"\",\"title\":{\"standoff\":15},\"zerolinecolor\":\"white\",\"zerolinewidth\":2}}},\"xaxis\":{\"anchor\":\"y\",\"domain\":[0.0,1.0],\"title\":{\"text\":\"index\"}},\"yaxis\":{\"anchor\":\"x\",\"domain\":[0.0,1.0],\"title\":{\"text\":\"value\"}}},                        {\"responsive\": true}                    ).then(function(){\n",
       "                            \n",
       "var gd = document.getElementById('0781f70b-7ccb-4f06-8812-ea085e876b8a');\n",
       "var x = new MutationObserver(function (mutations, observer) {{\n",
       "        var display = window.getComputedStyle(gd).display;\n",
       "        if (!display || display === 'none') {{\n",
       "            console.log([gd, 'removed!']);\n",
       "            Plotly.purge(gd);\n",
       "            observer.disconnect();\n",
       "        }}\n",
       "}});\n",
       "\n",
       "// Listen for the removal of the full notebook cells\n",
       "var notebookContainer = gd.closest('#notebook-container');\n",
       "if (notebookContainer) {{\n",
       "    x.observe(notebookContainer, {childList: true});\n",
       "}}\n",
       "\n",
       "// Listen for the clearing of the current output cell\n",
       "var outputEl = gd.closest('.output');\n",
       "if (outputEl) {{\n",
       "    x.observe(outputEl, {childList: true});\n",
       "}}\n",
       "\n",
       "                        })                };                });            </script>        </div>"
      ]
     },
     "metadata": {},
     "output_type": "display_data"
    }
   ],
   "source": [
    "import plotly.express as px\n",
    "\n",
    "df = keep_track_threshs\n",
    "fig = px.line(df, y=keep_track_threshs.columns)\n",
    "fig.show()"
   ]
  },
  {
   "cell_type": "code",
   "execution_count": 328,
   "id": "31832a84-030d-45d4-9fb2-68a1673e4c0e",
   "metadata": {},
   "outputs": [
    {
     "data": {
      "application/vnd.plotly.v1+json": {
       "config": {
        "plotlyServerURL": "https://plot.ly"
       },
       "data": [
        {
         "hovertemplate": "variable=Accuracy<br>index=%{x}<br>value=%{y}<extra></extra>",
         "legendgroup": "Accuracy",
         "line": {
          "color": "#636efa",
          "dash": "solid"
         },
         "marker": {
          "symbol": "circle"
         },
         "mode": "lines",
         "name": "Accuracy",
         "orientation": "v",
         "showlegend": true,
         "type": "scatter",
         "x": [
          "Undersampling, threshold : 0.55",
          "Undersampling, threshold : 0.525",
          "Undersampling, threshold : 0.5",
          "Undersampling, threshold : 0.475",
          "Undersampling, threshold : 0.45"
         ],
         "xaxis": "x",
         "y": [
          0.701128014074304,
          0.7104418917520439,
          0.7077512159784746,
          0.6760840318741592,
          0.6704957052675152
         ],
         "yaxis": "y"
        },
        {
         "hovertemplate": "variable=ROC AUC<br>index=%{x}<br>value=%{y}<extra></extra>",
         "legendgroup": "ROC AUC",
         "line": {
          "color": "#EF553B",
          "dash": "solid"
         },
         "marker": {
          "symbol": "circle"
         },
         "mode": "lines",
         "name": "ROC AUC",
         "orientation": "v",
         "showlegend": true,
         "type": "scatter",
         "x": [
          "Undersampling, threshold : 0.55",
          "Undersampling, threshold : 0.525",
          "Undersampling, threshold : 0.5",
          "Undersampling, threshold : 0.475",
          "Undersampling, threshold : 0.45"
         ],
         "xaxis": "x",
         "y": [
          0.7015990351275845,
          0.7105898664057748,
          0.7073372741917195,
          0.6747188181229893,
          0.6683586156564407
         ],
         "yaxis": "y"
        },
        {
         "hovertemplate": "variable=Recall<br>index=%{x}<br>value=%{y}<extra></extra>",
         "legendgroup": "Recall",
         "line": {
          "color": "#00cc96",
          "dash": "solid"
         },
         "marker": {
          "symbol": "circle"
         },
         "mode": "lines",
         "name": "Recall",
         "orientation": "v",
         "showlegend": true,
         "type": "scatter",
         "x": [
          "Undersampling, threshold : 0.55",
          "Undersampling, threshold : 0.525",
          "Undersampling, threshold : 0.5",
          "Undersampling, threshold : 0.475",
          "Undersampling, threshold : 0.45"
         ],
         "xaxis": "x",
         "y": [
          0.6722346710124262,
          0.7013648400896313,
          0.7331432063556732,
          0.7598288857201059,
          0.8015889183133021
         ],
         "yaxis": "y"
        },
        {
         "hovertemplate": "variable=Precision<br>index=%{x}<br>value=%{y}<extra></extra>",
         "legendgroup": "Precision",
         "line": {
          "color": "#ab63fa",
          "dash": "solid"
         },
         "marker": {
          "symbol": "circle"
         },
         "mode": "lines",
         "name": "Precision",
         "orientation": "v",
         "showlegend": true,
         "type": "scatter",
         "x": [
          "Undersampling, threshold : 0.55",
          "Undersampling, threshold : 0.525",
          "Undersampling, threshold : 0.5",
          "Undersampling, threshold : 0.475",
          "Undersampling, threshold : 0.45"
         ],
         "xaxis": "x",
         "y": [
          0.7206813714784888,
          0.7210471204188482,
          0.7038920398982984,
          0.6565745467347298,
          0.6403580146460537
         ],
         "yaxis": "y"
        },
        {
         "hovertemplate": "variable=My Scorer<br>index=%{x}<br>value=%{y}<extra></extra>",
         "legendgroup": "My Scorer",
         "line": {
          "color": "#FFA15A",
          "dash": "solid"
         },
         "marker": {
          "symbol": "circle"
         },
         "mode": "lines",
         "name": "My Scorer",
         "orientation": "v",
         "showlegend": true,
         "type": "scatter",
         "x": [
          "Undersampling, threshold : 0.55",
          "Undersampling, threshold : 0.525",
          "Undersampling, threshold : 0.5",
          "Undersampling, threshold : 0.475",
          "Undersampling, threshold : 0.45"
         ],
         "xaxis": "x",
         "y": [
          0.646180484823793,
          0.674231004277857,
          0.7023018944795274,
          0.720085557139947,
          0.756569566103076
         ],
         "yaxis": "y"
        }
       ],
       "layout": {
        "autosize": true,
        "legend": {
         "title": {
          "text": "variable"
         },
         "tracegroupgap": 0
        },
        "margin": {
         "t": 60
        },
        "template": {
         "data": {
          "bar": [
           {
            "error_x": {
             "color": "#2a3f5f"
            },
            "error_y": {
             "color": "#2a3f5f"
            },
            "marker": {
             "line": {
              "color": "#E5ECF6",
              "width": 0.5
             },
             "pattern": {
              "fillmode": "overlay",
              "size": 10,
              "solidity": 0.2
             }
            },
            "type": "bar"
           }
          ],
          "barpolar": [
           {
            "marker": {
             "line": {
              "color": "#E5ECF6",
              "width": 0.5
             },
             "pattern": {
              "fillmode": "overlay",
              "size": 10,
              "solidity": 0.2
             }
            },
            "type": "barpolar"
           }
          ],
          "carpet": [
           {
            "aaxis": {
             "endlinecolor": "#2a3f5f",
             "gridcolor": "white",
             "linecolor": "white",
             "minorgridcolor": "white",
             "startlinecolor": "#2a3f5f"
            },
            "baxis": {
             "endlinecolor": "#2a3f5f",
             "gridcolor": "white",
             "linecolor": "white",
             "minorgridcolor": "white",
             "startlinecolor": "#2a3f5f"
            },
            "type": "carpet"
           }
          ],
          "choropleth": [
           {
            "colorbar": {
             "outlinewidth": 0,
             "ticks": ""
            },
            "type": "choropleth"
           }
          ],
          "contour": [
           {
            "colorbar": {
             "outlinewidth": 0,
             "ticks": ""
            },
            "colorscale": [
             [
              0,
              "#0d0887"
             ],
             [
              0.1111111111111111,
              "#46039f"
             ],
             [
              0.2222222222222222,
              "#7201a8"
             ],
             [
              0.3333333333333333,
              "#9c179e"
             ],
             [
              0.4444444444444444,
              "#bd3786"
             ],
             [
              0.5555555555555556,
              "#d8576b"
             ],
             [
              0.6666666666666666,
              "#ed7953"
             ],
             [
              0.7777777777777778,
              "#fb9f3a"
             ],
             [
              0.8888888888888888,
              "#fdca26"
             ],
             [
              1,
              "#f0f921"
             ]
            ],
            "type": "contour"
           }
          ],
          "contourcarpet": [
           {
            "colorbar": {
             "outlinewidth": 0,
             "ticks": ""
            },
            "type": "contourcarpet"
           }
          ],
          "heatmap": [
           {
            "colorbar": {
             "outlinewidth": 0,
             "ticks": ""
            },
            "colorscale": [
             [
              0,
              "#0d0887"
             ],
             [
              0.1111111111111111,
              "#46039f"
             ],
             [
              0.2222222222222222,
              "#7201a8"
             ],
             [
              0.3333333333333333,
              "#9c179e"
             ],
             [
              0.4444444444444444,
              "#bd3786"
             ],
             [
              0.5555555555555556,
              "#d8576b"
             ],
             [
              0.6666666666666666,
              "#ed7953"
             ],
             [
              0.7777777777777778,
              "#fb9f3a"
             ],
             [
              0.8888888888888888,
              "#fdca26"
             ],
             [
              1,
              "#f0f921"
             ]
            ],
            "type": "heatmap"
           }
          ],
          "heatmapgl": [
           {
            "colorbar": {
             "outlinewidth": 0,
             "ticks": ""
            },
            "colorscale": [
             [
              0,
              "#0d0887"
             ],
             [
              0.1111111111111111,
              "#46039f"
             ],
             [
              0.2222222222222222,
              "#7201a8"
             ],
             [
              0.3333333333333333,
              "#9c179e"
             ],
             [
              0.4444444444444444,
              "#bd3786"
             ],
             [
              0.5555555555555556,
              "#d8576b"
             ],
             [
              0.6666666666666666,
              "#ed7953"
             ],
             [
              0.7777777777777778,
              "#fb9f3a"
             ],
             [
              0.8888888888888888,
              "#fdca26"
             ],
             [
              1,
              "#f0f921"
             ]
            ],
            "type": "heatmapgl"
           }
          ],
          "histogram": [
           {
            "marker": {
             "pattern": {
              "fillmode": "overlay",
              "size": 10,
              "solidity": 0.2
             }
            },
            "type": "histogram"
           }
          ],
          "histogram2d": [
           {
            "colorbar": {
             "outlinewidth": 0,
             "ticks": ""
            },
            "colorscale": [
             [
              0,
              "#0d0887"
             ],
             [
              0.1111111111111111,
              "#46039f"
             ],
             [
              0.2222222222222222,
              "#7201a8"
             ],
             [
              0.3333333333333333,
              "#9c179e"
             ],
             [
              0.4444444444444444,
              "#bd3786"
             ],
             [
              0.5555555555555556,
              "#d8576b"
             ],
             [
              0.6666666666666666,
              "#ed7953"
             ],
             [
              0.7777777777777778,
              "#fb9f3a"
             ],
             [
              0.8888888888888888,
              "#fdca26"
             ],
             [
              1,
              "#f0f921"
             ]
            ],
            "type": "histogram2d"
           }
          ],
          "histogram2dcontour": [
           {
            "colorbar": {
             "outlinewidth": 0,
             "ticks": ""
            },
            "colorscale": [
             [
              0,
              "#0d0887"
             ],
             [
              0.1111111111111111,
              "#46039f"
             ],
             [
              0.2222222222222222,
              "#7201a8"
             ],
             [
              0.3333333333333333,
              "#9c179e"
             ],
             [
              0.4444444444444444,
              "#bd3786"
             ],
             [
              0.5555555555555556,
              "#d8576b"
             ],
             [
              0.6666666666666666,
              "#ed7953"
             ],
             [
              0.7777777777777778,
              "#fb9f3a"
             ],
             [
              0.8888888888888888,
              "#fdca26"
             ],
             [
              1,
              "#f0f921"
             ]
            ],
            "type": "histogram2dcontour"
           }
          ],
          "mesh3d": [
           {
            "colorbar": {
             "outlinewidth": 0,
             "ticks": ""
            },
            "type": "mesh3d"
           }
          ],
          "parcoords": [
           {
            "line": {
             "colorbar": {
              "outlinewidth": 0,
              "ticks": ""
             }
            },
            "type": "parcoords"
           }
          ],
          "pie": [
           {
            "automargin": true,
            "type": "pie"
           }
          ],
          "scatter": [
           {
            "marker": {
             "colorbar": {
              "outlinewidth": 0,
              "ticks": ""
             }
            },
            "type": "scatter"
           }
          ],
          "scatter3d": [
           {
            "line": {
             "colorbar": {
              "outlinewidth": 0,
              "ticks": ""
             }
            },
            "marker": {
             "colorbar": {
              "outlinewidth": 0,
              "ticks": ""
             }
            },
            "type": "scatter3d"
           }
          ],
          "scattercarpet": [
           {
            "marker": {
             "colorbar": {
              "outlinewidth": 0,
              "ticks": ""
             }
            },
            "type": "scattercarpet"
           }
          ],
          "scattergeo": [
           {
            "marker": {
             "colorbar": {
              "outlinewidth": 0,
              "ticks": ""
             }
            },
            "type": "scattergeo"
           }
          ],
          "scattergl": [
           {
            "marker": {
             "colorbar": {
              "outlinewidth": 0,
              "ticks": ""
             }
            },
            "type": "scattergl"
           }
          ],
          "scattermapbox": [
           {
            "marker": {
             "colorbar": {
              "outlinewidth": 0,
              "ticks": ""
             }
            },
            "type": "scattermapbox"
           }
          ],
          "scatterpolar": [
           {
            "marker": {
             "colorbar": {
              "outlinewidth": 0,
              "ticks": ""
             }
            },
            "type": "scatterpolar"
           }
          ],
          "scatterpolargl": [
           {
            "marker": {
             "colorbar": {
              "outlinewidth": 0,
              "ticks": ""
             }
            },
            "type": "scatterpolargl"
           }
          ],
          "scatterternary": [
           {
            "marker": {
             "colorbar": {
              "outlinewidth": 0,
              "ticks": ""
             }
            },
            "type": "scatterternary"
           }
          ],
          "surface": [
           {
            "colorbar": {
             "outlinewidth": 0,
             "ticks": ""
            },
            "colorscale": [
             [
              0,
              "#0d0887"
             ],
             [
              0.1111111111111111,
              "#46039f"
             ],
             [
              0.2222222222222222,
              "#7201a8"
             ],
             [
              0.3333333333333333,
              "#9c179e"
             ],
             [
              0.4444444444444444,
              "#bd3786"
             ],
             [
              0.5555555555555556,
              "#d8576b"
             ],
             [
              0.6666666666666666,
              "#ed7953"
             ],
             [
              0.7777777777777778,
              "#fb9f3a"
             ],
             [
              0.8888888888888888,
              "#fdca26"
             ],
             [
              1,
              "#f0f921"
             ]
            ],
            "type": "surface"
           }
          ],
          "table": [
           {
            "cells": {
             "fill": {
              "color": "#EBF0F8"
             },
             "line": {
              "color": "white"
             }
            },
            "header": {
             "fill": {
              "color": "#C8D4E3"
             },
             "line": {
              "color": "white"
             }
            },
            "type": "table"
           }
          ]
         },
         "layout": {
          "annotationdefaults": {
           "arrowcolor": "#2a3f5f",
           "arrowhead": 0,
           "arrowwidth": 1
          },
          "autotypenumbers": "strict",
          "coloraxis": {
           "colorbar": {
            "outlinewidth": 0,
            "ticks": ""
           }
          },
          "colorscale": {
           "diverging": [
            [
             0,
             "#8e0152"
            ],
            [
             0.1,
             "#c51b7d"
            ],
            [
             0.2,
             "#de77ae"
            ],
            [
             0.3,
             "#f1b6da"
            ],
            [
             0.4,
             "#fde0ef"
            ],
            [
             0.5,
             "#f7f7f7"
            ],
            [
             0.6,
             "#e6f5d0"
            ],
            [
             0.7,
             "#b8e186"
            ],
            [
             0.8,
             "#7fbc41"
            ],
            [
             0.9,
             "#4d9221"
            ],
            [
             1,
             "#276419"
            ]
           ],
           "sequential": [
            [
             0,
             "#0d0887"
            ],
            [
             0.1111111111111111,
             "#46039f"
            ],
            [
             0.2222222222222222,
             "#7201a8"
            ],
            [
             0.3333333333333333,
             "#9c179e"
            ],
            [
             0.4444444444444444,
             "#bd3786"
            ],
            [
             0.5555555555555556,
             "#d8576b"
            ],
            [
             0.6666666666666666,
             "#ed7953"
            ],
            [
             0.7777777777777778,
             "#fb9f3a"
            ],
            [
             0.8888888888888888,
             "#fdca26"
            ],
            [
             1,
             "#f0f921"
            ]
           ],
           "sequentialminus": [
            [
             0,
             "#0d0887"
            ],
            [
             0.1111111111111111,
             "#46039f"
            ],
            [
             0.2222222222222222,
             "#7201a8"
            ],
            [
             0.3333333333333333,
             "#9c179e"
            ],
            [
             0.4444444444444444,
             "#bd3786"
            ],
            [
             0.5555555555555556,
             "#d8576b"
            ],
            [
             0.6666666666666666,
             "#ed7953"
            ],
            [
             0.7777777777777778,
             "#fb9f3a"
            ],
            [
             0.8888888888888888,
             "#fdca26"
            ],
            [
             1,
             "#f0f921"
            ]
           ]
          },
          "colorway": [
           "#636efa",
           "#EF553B",
           "#00cc96",
           "#ab63fa",
           "#FFA15A",
           "#19d3f3",
           "#FF6692",
           "#B6E880",
           "#FF97FF",
           "#FECB52"
          ],
          "font": {
           "color": "#2a3f5f"
          },
          "geo": {
           "bgcolor": "white",
           "lakecolor": "white",
           "landcolor": "#E5ECF6",
           "showlakes": true,
           "showland": true,
           "subunitcolor": "white"
          },
          "hoverlabel": {
           "align": "left"
          },
          "hovermode": "closest",
          "mapbox": {
           "style": "light"
          },
          "paper_bgcolor": "white",
          "plot_bgcolor": "#E5ECF6",
          "polar": {
           "angularaxis": {
            "gridcolor": "white",
            "linecolor": "white",
            "ticks": ""
           },
           "bgcolor": "#E5ECF6",
           "radialaxis": {
            "gridcolor": "white",
            "linecolor": "white",
            "ticks": ""
           }
          },
          "scene": {
           "xaxis": {
            "backgroundcolor": "#E5ECF6",
            "gridcolor": "white",
            "gridwidth": 2,
            "linecolor": "white",
            "showbackground": true,
            "ticks": "",
            "zerolinecolor": "white"
           },
           "yaxis": {
            "backgroundcolor": "#E5ECF6",
            "gridcolor": "white",
            "gridwidth": 2,
            "linecolor": "white",
            "showbackground": true,
            "ticks": "",
            "zerolinecolor": "white"
           },
           "zaxis": {
            "backgroundcolor": "#E5ECF6",
            "gridcolor": "white",
            "gridwidth": 2,
            "linecolor": "white",
            "showbackground": true,
            "ticks": "",
            "zerolinecolor": "white"
           }
          },
          "shapedefaults": {
           "line": {
            "color": "#2a3f5f"
           }
          },
          "ternary": {
           "aaxis": {
            "gridcolor": "white",
            "linecolor": "white",
            "ticks": ""
           },
           "baxis": {
            "gridcolor": "white",
            "linecolor": "white",
            "ticks": ""
           },
           "bgcolor": "#E5ECF6",
           "caxis": {
            "gridcolor": "white",
            "linecolor": "white",
            "ticks": ""
           }
          },
          "title": {
           "x": 0.05
          },
          "xaxis": {
           "automargin": true,
           "gridcolor": "white",
           "linecolor": "white",
           "ticks": "",
           "title": {
            "standoff": 15
           },
           "zerolinecolor": "white",
           "zerolinewidth": 2
          },
          "yaxis": {
           "automargin": true,
           "gridcolor": "white",
           "linecolor": "white",
           "ticks": "",
           "title": {
            "standoff": 15
           },
           "zerolinecolor": "white",
           "zerolinewidth": 2
          }
         }
        },
        "xaxis": {
         "anchor": "y",
         "autorange": true,
         "domain": [
          0,
          1
         ],
         "range": [
          0,
          4
         ],
         "title": {
          "text": "index"
         },
         "type": "category"
        },
        "yaxis": {
         "anchor": "x",
         "autorange": true,
         "domain": [
          0,
          1
         ],
         "range": [
          0.6314007422200955,
          0.8105461907392604
         ],
         "title": {
          "text": "value"
         },
         "type": "linear"
        }
       }
      },
      "image/png": "[encoded data removed]",
      "text/html": [
       "<div>                            <div id=\"44c28560-5d53-4bbd-a00b-433d7dbdd858\" class=\"plotly-graph-div\" style=\"height:525px; width:100%;\"></div>            <script type=\"text/javascript\">                require([\"plotly\"], function(Plotly) {                    window.PLOTLYENV=window.PLOTLYENV || {};                                    if (document.getElementById(\"44c28560-5d53-4bbd-a00b-433d7dbdd858\")) {                    Plotly.newPlot(                        \"44c28560-5d53-4bbd-a00b-433d7dbdd858\",                        [{\"hovertemplate\":\"variable=Accuracy<br>index=%{x}<br>value=%{y}<extra></extra>\",\"legendgroup\":\"Accuracy\",\"line\":{\"color\":\"#636efa\",\"dash\":\"solid\"},\"marker\":{\"symbol\":\"circle\"},\"mode\":\"lines\",\"name\":\"Accuracy\",\"orientation\":\"v\",\"showlegend\":true,\"type\":\"scatter\",\"x\":[\"Undersampling, threshold : 0.55\",\"Undersampling, threshold : 0.525\",\"Undersampling, threshold : 0.5\",\"Undersampling, threshold : 0.475\",\"Undersampling, threshold : 0.45\"],\"xaxis\":\"x\",\"y\":[0.701128014074304,0.7104418917520439,0.7077512159784746,0.6760840318741592,0.6704957052675152],\"yaxis\":\"y\"},{\"hovertemplate\":\"variable=ROC AUC<br>index=%{x}<br>value=%{y}<extra></extra>\",\"legendgroup\":\"ROC AUC\",\"line\":{\"color\":\"#EF553B\",\"dash\":\"solid\"},\"marker\":{\"symbol\":\"circle\"},\"mode\":\"lines\",\"name\":\"ROC AUC\",\"orientation\":\"v\",\"showlegend\":true,\"type\":\"scatter\",\"x\":[\"Undersampling, threshold : 0.55\",\"Undersampling, threshold : 0.525\",\"Undersampling, threshold : 0.5\",\"Undersampling, threshold : 0.475\",\"Undersampling, threshold : 0.45\"],\"xaxis\":\"x\",\"y\":[0.7015990351275845,0.7105898664057748,0.7073372741917195,0.6747188181229893,0.6683586156564407],\"yaxis\":\"y\"},{\"hovertemplate\":\"variable=Recall<br>index=%{x}<br>value=%{y}<extra></extra>\",\"legendgroup\":\"Recall\",\"line\":{\"color\":\"#00cc96\",\"dash\":\"solid\"},\"marker\":{\"symbol\":\"circle\"},\"mode\":\"lines\",\"name\":\"Recall\",\"orientation\":\"v\",\"showlegend\":true,\"type\":\"scatter\",\"x\":[\"Undersampling, threshold : 0.55\",\"Undersampling, threshold : 0.525\",\"Undersampling, threshold : 0.5\",\"Undersampling, threshold : 0.475\",\"Undersampling, threshold : 0.45\"],\"xaxis\":\"x\",\"y\":[0.6722346710124262,0.7013648400896313,0.7331432063556732,0.7598288857201059,0.8015889183133021],\"yaxis\":\"y\"},{\"hovertemplate\":\"variable=Precision<br>index=%{x}<br>value=%{y}<extra></extra>\",\"legendgroup\":\"Precision\",\"line\":{\"color\":\"#ab63fa\",\"dash\":\"solid\"},\"marker\":{\"symbol\":\"circle\"},\"mode\":\"lines\",\"name\":\"Precision\",\"orientation\":\"v\",\"showlegend\":true,\"type\":\"scatter\",\"x\":[\"Undersampling, threshold : 0.55\",\"Undersampling, threshold : 0.525\",\"Undersampling, threshold : 0.5\",\"Undersampling, threshold : 0.475\",\"Undersampling, threshold : 0.45\"],\"xaxis\":\"x\",\"y\":[0.7206813714784888,0.7210471204188482,0.7038920398982984,0.6565745467347298,0.6403580146460537],\"yaxis\":\"y\"},{\"hovertemplate\":\"variable=My Scorer<br>index=%{x}<br>value=%{y}<extra></extra>\",\"legendgroup\":\"My Scorer\",\"line\":{\"color\":\"#FFA15A\",\"dash\":\"solid\"},\"marker\":{\"symbol\":\"circle\"},\"mode\":\"lines\",\"name\":\"My Scorer\",\"orientation\":\"v\",\"showlegend\":true,\"type\":\"scatter\",\"x\":[\"Undersampling, threshold : 0.55\",\"Undersampling, threshold : 0.525\",\"Undersampling, threshold : 0.5\",\"Undersampling, threshold : 0.475\",\"Undersampling, threshold : 0.45\"],\"xaxis\":\"x\",\"y\":[0.646180484823793,0.674231004277857,0.7023018944795274,0.720085557139947,0.756569566103076],\"yaxis\":\"y\"}],                        {\"legend\":{\"title\":{\"text\":\"variable\"},\"tracegroupgap\":0},\"margin\":{\"t\":60},\"template\":{\"data\":{\"bar\":[{\"error_x\":{\"color\":\"#2a3f5f\"},\"error_y\":{\"color\":\"#2a3f5f\"},\"marker\":{\"line\":{\"color\":\"#E5ECF6\",\"width\":0.5},\"pattern\":{\"fillmode\":\"overlay\",\"size\":10,\"solidity\":0.2}},\"type\":\"bar\"}],\"barpolar\":[{\"marker\":{\"line\":{\"color\":\"#E5ECF6\",\"width\":0.5},\"pattern\":{\"fillmode\":\"overlay\",\"size\":10,\"solidity\":0.2}},\"type\":\"barpolar\"}],\"carpet\":[{\"aaxis\":{\"endlinecolor\":\"#2a3f5f\",\"gridcolor\":\"white\",\"linecolor\":\"white\",\"minorgridcolor\":\"white\",\"startlinecolor\":\"#2a3f5f\"},\"baxis\":{\"endlinecolor\":\"#2a3f5f\",\"gridcolor\":\"white\",\"linecolor\":\"white\",\"minorgridcolor\":\"white\",\"startlinecolor\":\"#2a3f5f\"},\"type\":\"carpet\"}],\"choropleth\":[{\"colorbar\":{\"outlinewidth\":0,\"ticks\":\"\"},\"type\":\"choropleth\"}],\"contour\":[{\"colorbar\":{\"outlinewidth\":0,\"ticks\":\"\"},\"colorscale\":[[0.0,\"#0d0887\"],[0.1111111111111111,\"#46039f\"],[0.2222222222222222,\"#7201a8\"],[0.3333333333333333,\"#9c179e\"],[0.4444444444444444,\"#bd3786\"],[0.5555555555555556,\"#d8576b\"],[0.6666666666666666,\"#ed7953\"],[0.7777777777777778,\"#fb9f3a\"],[0.8888888888888888,\"#fdca26\"],[1.0,\"#f0f921\"]],\"type\":\"contour\"}],\"contourcarpet\":[{\"colorbar\":{\"outlinewidth\":0,\"ticks\":\"\"},\"type\":\"contourcarpet\"}],\"heatmap\":[{\"colorbar\":{\"outlinewidth\":0,\"ticks\":\"\"},\"colorscale\":[[0.0,\"#0d0887\"],[0.1111111111111111,\"#46039f\"],[0.2222222222222222,\"#7201a8\"],[0.3333333333333333,\"#9c179e\"],[0.4444444444444444,\"#bd3786\"],[0.5555555555555556,\"#d8576b\"],[0.6666666666666666,\"#ed7953\"],[0.7777777777777778,\"#fb9f3a\"],[0.8888888888888888,\"#fdca26\"],[1.0,\"#f0f921\"]],\"type\":\"heatmap\"}],\"heatmapgl\":[{\"colorbar\":{\"outlinewidth\":0,\"ticks\":\"\"},\"colorscale\":[[0.0,\"#0d0887\"],[0.1111111111111111,\"#46039f\"],[0.2222222222222222,\"#7201a8\"],[0.3333333333333333,\"#9c179e\"],[0.4444444444444444,\"#bd3786\"],[0.5555555555555556,\"#d8576b\"],[0.6666666666666666,\"#ed7953\"],[0.7777777777777778,\"#fb9f3a\"],[0.8888888888888888,\"#fdca26\"],[1.0,\"#f0f921\"]],\"type\":\"heatmapgl\"}],\"histogram\":[{\"marker\":{\"pattern\":{\"fillmode\":\"overlay\",\"size\":10,\"solidity\":0.2}},\"type\":\"histogram\"}],\"histogram2d\":[{\"colorbar\":{\"outlinewidth\":0,\"ticks\":\"\"},\"colorscale\":[[0.0,\"#0d0887\"],[0.1111111111111111,\"#46039f\"],[0.2222222222222222,\"#7201a8\"],[0.3333333333333333,\"#9c179e\"],[0.4444444444444444,\"#bd3786\"],[0.5555555555555556,\"#d8576b\"],[0.6666666666666666,\"#ed7953\"],[0.7777777777777778,\"#fb9f3a\"],[0.8888888888888888,\"#fdca26\"],[1.0,\"#f0f921\"]],\"type\":\"histogram2d\"}],\"histogram2dcontour\":[{\"colorbar\":{\"outlinewidth\":0,\"ticks\":\"\"},\"colorscale\":[[0.0,\"#0d0887\"],[0.1111111111111111,\"#46039f\"],[0.2222222222222222,\"#7201a8\"],[0.3333333333333333,\"#9c179e\"],[0.4444444444444444,\"#bd3786\"],[0.5555555555555556,\"#d8576b\"],[0.6666666666666666,\"#ed7953\"],[0.7777777777777778,\"#fb9f3a\"],[0.8888888888888888,\"#fdca26\"],[1.0,\"#f0f921\"]],\"type\":\"histogram2dcontour\"}],\"mesh3d\":[{\"colorbar\":{\"outlinewidth\":0,\"ticks\":\"\"},\"type\":\"mesh3d\"}],\"parcoords\":[{\"line\":{\"colorbar\":{\"outlinewidth\":0,\"ticks\":\"\"}},\"type\":\"parcoords\"}],\"pie\":[{\"automargin\":true,\"type\":\"pie\"}],\"scatter\":[{\"marker\":{\"colorbar\":{\"outlinewidth\":0,\"ticks\":\"\"}},\"type\":\"scatter\"}],\"scatter3d\":[{\"line\":{\"colorbar\":{\"outlinewidth\":0,\"ticks\":\"\"}},\"marker\":{\"colorbar\":{\"outlinewidth\":0,\"ticks\":\"\"}},\"type\":\"scatter3d\"}],\"scattercarpet\":[{\"marker\":{\"colorbar\":{\"outlinewidth\":0,\"ticks\":\"\"}},\"type\":\"scattercarpet\"}],\"scattergeo\":[{\"marker\":{\"colorbar\":{\"outlinewidth\":0,\"ticks\":\"\"}},\"type\":\"scattergeo\"}],\"scattergl\":[{\"marker\":{\"colorbar\":{\"outlinewidth\":0,\"ticks\":\"\"}},\"type\":\"scattergl\"}],\"scattermapbox\":[{\"marker\":{\"colorbar\":{\"outlinewidth\":0,\"ticks\":\"\"}},\"type\":\"scattermapbox\"}],\"scatterpolar\":[{\"marker\":{\"colorbar\":{\"outlinewidth\":0,\"ticks\":\"\"}},\"type\":\"scatterpolar\"}],\"scatterpolargl\":[{\"marker\":{\"colorbar\":{\"outlinewidth\":0,\"ticks\":\"\"}},\"type\":\"scatterpolargl\"}],\"scatterternary\":[{\"marker\":{\"colorbar\":{\"outlinewidth\":0,\"ticks\":\"\"}},\"type\":\"scatterternary\"}],\"surface\":[{\"colorbar\":{\"outlinewidth\":0,\"ticks\":\"\"},\"colorscale\":[[0.0,\"#0d0887\"],[0.1111111111111111,\"#46039f\"],[0.2222222222222222,\"#7201a8\"],[0.3333333333333333,\"#9c179e\"],[0.4444444444444444,\"#bd3786\"],[0.5555555555555556,\"#d8576b\"],[0.6666666666666666,\"#ed7953\"],[0.7777777777777778,\"#fb9f3a\"],[0.8888888888888888,\"#fdca26\"],[1.0,\"#f0f921\"]],\"type\":\"surface\"}],\"table\":[{\"cells\":{\"fill\":{\"color\":\"#EBF0F8\"},\"line\":{\"color\":\"white\"}},\"header\":{\"fill\":{\"color\":\"#C8D4E3\"},\"line\":{\"color\":\"white\"}},\"type\":\"table\"}]},\"layout\":{\"annotationdefaults\":{\"arrowcolor\":\"#2a3f5f\",\"arrowhead\":0,\"arrowwidth\":1},\"autotypenumbers\":\"strict\",\"coloraxis\":{\"colorbar\":{\"outlinewidth\":0,\"ticks\":\"\"}},\"colorscale\":{\"diverging\":[[0,\"#8e0152\"],[0.1,\"#c51b7d\"],[0.2,\"#de77ae\"],[0.3,\"#f1b6da\"],[0.4,\"#fde0ef\"],[0.5,\"#f7f7f7\"],[0.6,\"#e6f5d0\"],[0.7,\"#b8e186\"],[0.8,\"#7fbc41\"],[0.9,\"#4d9221\"],[1,\"#276419\"]],\"sequential\":[[0.0,\"#0d0887\"],[0.1111111111111111,\"#46039f\"],[0.2222222222222222,\"#7201a8\"],[0.3333333333333333,\"#9c179e\"],[0.4444444444444444,\"#bd3786\"],[0.5555555555555556,\"#d8576b\"],[0.6666666666666666,\"#ed7953\"],[0.7777777777777778,\"#fb9f3a\"],[0.8888888888888888,\"#fdca26\"],[1.0,\"#f0f921\"]],\"sequentialminus\":[[0.0,\"#0d0887\"],[0.1111111111111111,\"#46039f\"],[0.2222222222222222,\"#7201a8\"],[0.3333333333333333,\"#9c179e\"],[0.4444444444444444,\"#bd3786\"],[0.5555555555555556,\"#d8576b\"],[0.6666666666666666,\"#ed7953\"],[0.7777777777777778,\"#fb9f3a\"],[0.8888888888888888,\"#fdca26\"],[1.0,\"#f0f921\"]]},\"colorway\":[\"#636efa\",\"#EF553B\",\"#00cc96\",\"#ab63fa\",\"#FFA15A\",\"#19d3f3\",\"#FF6692\",\"#B6E880\",\"#FF97FF\",\"#FECB52\"],\"font\":{\"color\":\"#2a3f5f\"},\"geo\":{\"bgcolor\":\"white\",\"lakecolor\":\"white\",\"landcolor\":\"#E5ECF6\",\"showlakes\":true,\"showland\":true,\"subunitcolor\":\"white\"},\"hoverlabel\":{\"align\":\"left\"},\"hovermode\":\"closest\",\"mapbox\":{\"style\":\"light\"},\"paper_bgcolor\":\"white\",\"plot_bgcolor\":\"#E5ECF6\",\"polar\":{\"angularaxis\":{\"gridcolor\":\"white\",\"linecolor\":\"white\",\"ticks\":\"\"},\"bgcolor\":\"#E5ECF6\",\"radialaxis\":{\"gridcolor\":\"white\",\"linecolor\":\"white\",\"ticks\":\"\"}},\"scene\":{\"xaxis\":{\"backgroundcolor\":\"#E5ECF6\",\"gridcolor\":\"white\",\"gridwidth\":2,\"linecolor\":\"white\",\"showbackground\":true,\"ticks\":\"\",\"zerolinecolor\":\"white\"},\"yaxis\":{\"backgroundcolor\":\"#E5ECF6\",\"gridcolor\":\"white\",\"gridwidth\":2,\"linecolor\":\"white\",\"showbackground\":true,\"ticks\":\"\",\"zerolinecolor\":\"white\"},\"zaxis\":{\"backgroundcolor\":\"#E5ECF6\",\"gridcolor\":\"white\",\"gridwidth\":2,\"linecolor\":\"white\",\"showbackground\":true,\"ticks\":\"\",\"zerolinecolor\":\"white\"}},\"shapedefaults\":{\"line\":{\"color\":\"#2a3f5f\"}},\"ternary\":{\"aaxis\":{\"gridcolor\":\"white\",\"linecolor\":\"white\",\"ticks\":\"\"},\"baxis\":{\"gridcolor\":\"white\",\"linecolor\":\"white\",\"ticks\":\"\"},\"bgcolor\":\"#E5ECF6\",\"caxis\":{\"gridcolor\":\"white\",\"linecolor\":\"white\",\"ticks\":\"\"}},\"title\":{\"x\":0.05},\"xaxis\":{\"automargin\":true,\"gridcolor\":\"white\",\"linecolor\":\"white\",\"ticks\":\"\",\"title\":{\"standoff\":15},\"zerolinecolor\":\"white\",\"zerolinewidth\":2},\"yaxis\":{\"automargin\":true,\"gridcolor\":\"white\",\"linecolor\":\"white\",\"ticks\":\"\",\"title\":{\"standoff\":15},\"zerolinecolor\":\"white\",\"zerolinewidth\":2}}},\"xaxis\":{\"anchor\":\"y\",\"domain\":[0.0,1.0],\"title\":{\"text\":\"index\"}},\"yaxis\":{\"anchor\":\"x\",\"domain\":[0.0,1.0],\"title\":{\"text\":\"value\"}}},                        {\"responsive\": true}                    ).then(function(){\n",
       "                            \n",
       "var gd = document.getElementById('44c28560-5d53-4bbd-a00b-433d7dbdd858');\n",
       "var x = new MutationObserver(function (mutations, observer) {{\n",
       "        var display = window.getComputedStyle(gd).display;\n",
       "        if (!display || display === 'none') {{\n",
       "            console.log([gd, 'removed!']);\n",
       "            Plotly.purge(gd);\n",
       "            observer.disconnect();\n",
       "        }}\n",
       "}});\n",
       "\n",
       "// Listen for the removal of the full notebook cells\n",
       "var notebookContainer = gd.closest('#notebook-container');\n",
       "if (notebookContainer) {{\n",
       "    x.observe(notebookContainer, {childList: true});\n",
       "}}\n",
       "\n",
       "// Listen for the clearing of the current output cell\n",
       "var outputEl = gd.closest('.output');\n",
       "if (outputEl) {{\n",
       "    x.observe(outputEl, {childList: true});\n",
       "}}\n",
       "\n",
       "                        })                };                });            </script>        </div>"
      ]
     },
     "metadata": {},
     "output_type": "display_data"
    }
   ],
   "source": [
    "import plotly.express as px\n",
    "\n",
    "df = keep_track_threshs\n",
    "fig = px.line(keep_track_trained_threshs, y= keep_track_trained_threshs.columns)\n",
    "fig.show()"
   ]
  },
  {
   "cell_type": "markdown",
   "id": "c6c85226-ddf5-4abe-b6cd-dee49896a909",
   "metadata": {},
   "source": [
    "# Results : SHAP"
   ]
  },
  {
   "cell_type": "code",
   "execution_count": 62,
   "id": "895df876-2eb8-477d-b10e-7baf9ac9fe62",
   "metadata": {},
   "outputs": [
    {
     "name": "stderr",
     "output_type": "stream",
     "text": [
      "LightGBM binary classifier with TreeExplainer shap values output has changed to a list of ndarray\n"
     ]
    }
   ],
   "source": [
    "import shap\n",
    "\n",
    "explainer = shap.TreeExplainer(clf)\n",
    "shap_values = explainer.shap_values(df_ft_selec_underbal[feats])"
   ]
  },
  {
   "cell_type": "code",
   "execution_count": 98,
   "id": "421f256f-d96c-4a22-ab44-49d5a89a5111",
   "metadata": {},
   "outputs": [
    {
     "data": {
      "text/html": [
       "\n",
       "<div id='iGW7UZK3HT9RTSZFXKK78'>\n",
       "<div style='color: #900; text-align: center;'>\n",
       "  <b>Visualization omitted, Javascript library not loaded!</b><br>\n",
       "  Have you run `initjs()` in this notebook? If this notebook was from another\n",
       "  user you must also trust this notebook (File -> Trust notebook). If you are viewing\n",
       "  this notebook on github the Javascript has been stripped for security. If you are using\n",
       "  JupyterLab this error is because a JupyterLab extension has not yet been written.\n",
       "</div></div>\n",
       " <script>\n",
       "   if (window.SHAP) SHAP.ReactDom.render(\n",
       "    SHAP.React.createElement(SHAP.AdditiveForceVisualizer, {\"outNames\": [\"f(x)\"], \"baseValue\": -0.01257866506964355, \"outValue\": -0.31997204295508597, \"link\": \"identity\", \"featureNames\": [\"EXT_SOURCE_2\", \"EXT_SOURCE_3\", \"INSTAL_DPD_MEAN\", \"DAYS_EMPLOYED_PERC\", \"AMT_ANNUITY\", \"DAYS_EMPLOYED\", \"PAYMENT_RATE\", \"ACTIVE_DAYS_CREDIT_MAX\", \"APPROVED_CNT_PAYMENT_MEAN\", \"ANNUITY_INCOME_PERC\", \"PREV_CNT_PAYMENT_MEAN\", \"DAYS_BIRTH\", \"CLOSED_DAYS_CREDIT_MAX\", \"POS_MONTHS_BALANCE_SIZE\", \"AMT_CREDIT\", \"AMT_GOODS_PRICE\", \"INSTAL_DAYS_ENTRY_PAYMENT_MAX\", \"POS_SK_DPD_DEF_MAX\", \"PREV_APP_CREDIT_PERC_MEAN\", \"APPROVED_AMT_CREDIT_MIN\", \"BURO_AMT_CREDIT_SUM_DEBT_MEAN\", \"APPROVED_AMT_ANNUITY_MEAN\", \"DAYS_ID_PUBLISH\", \"INSTAL_PAYMENT_PERC_SUM\", \"BURO_CREDIT_TYPE_Microloan_MEAN\", \"INSTAL_AMT_PAYMENT_SUM\", \"NAME_FAMILY_STATUS_Married\", \"INSTAL_PAYMENT_DIFF_SUM\", \"REGION_RATING_CLIENT_W_CITY\", \"ACTIVE_AMT_CREDIT_SUM_MEAN\", \"POS_MONTHS_BALANCE_MEAN\", \"INSTAL_AMT_INSTALMENT_MAX\", \"PREV_NAME_TYPE_SUITE_nan_MEAN\", \"INSTAL_AMT_INSTALMENT_SUM\", \"INSTAL_COUNT\", \"FLAG_DOCUMENT_3\", \"INSTAL_DAYS_ENTRY_PAYMENT_MEAN\", \"FLAG_DOCUMENT_18\", \"CODE_GENDER\", \"DEF_30_CNT_SOCIAL_CIRCLE\", \"BURO_DAYS_CREDIT_ENDDATE_MEAN\", \"BURO_DAYS_CREDIT_MAX\", \"BURO_DAYS_CREDIT_MEAN\", \"INSTAL_DBD_MAX\", \"CLOSED_AMT_CREDIT_SUM_MAX\", \"CLOSED_DAYS_CREDIT_MIN\", \"INSTAL_DAYS_ENTRY_PAYMENT_SUM\", \"INSTAL_DBD_MEAN\", \"PREV_DAYS_DECISION_MIN\", \"PREV_NAME_CASH_LOAN_PURPOSE_Repairs_MEAN\", \"PREV_NAME_CONTRACT_STATUS_Refused_MEAN\", \"PREV_NAME_PORTFOLIO_Cards_MEAN\", \"PREV_NAME_YIELD_GROUP_high_MEAN\", \"PREV_NAME_YIELD_GROUP_low_action_MEAN\", \"PREV_CODE_REJECT_REASON_LIMIT_MEAN\", \"REGION_POPULATION_RELATIVE\", \"REG_CITY_NOT_LIVE_CITY\", \"PREV_DAYS_DECISION_MEAN\", \"INSTAL_DBD_SUM\", \"INSTAL_PAYMENT_PERC_MEAN\", \"POS_MONTHS_BALANCE_MAX\", \"PREV_AMT_ANNUITY_MAX\", \"PREV_AMT_ANNUITY_MEAN\", \"PREV_AMT_CREDIT_MAX\", \"PREV_AMT_GOODS_PRICE_MEAN\", \"PREV_APP_CREDIT_PERC_MAX\", \"PREV_APP_CREDIT_PERC_MIN\", \"BURO_CREDIT_TYPE_Mortgage_MEAN\", \"ACTIVE_DAYS_CREDIT_UPDATE_MEAN\", \"APPROVED_HOUR_APPR_PROCESS_START_MEAN\", \"BURO_AMT_CREDIT_SUM_OVERDUE_MEAN\", \"ACTIVE_AMT_CREDIT_SUM_MAX\", \"APPROVED_AMT_GOODS_PRICE_MEAN\", \"BURO_AMT_CREDIT_SUM_DEBT_SUM\", \"BURO_AMT_CREDIT_SUM_SUM\", \"BURO_AMT_CREDIT_SUM_MEAN\", \"APPROVED_AMT_APPLICATION_MAX\", \"BURO_CREDIT_ACTIVE_Active_MEAN\", \"APPROVED_CNT_PAYMENT_SUM\", \"BURO_CREDIT_ACTIVE_Closed_MEAN\", \"APPROVED_DAYS_DECISION_MAX\", \"ACTIVE_DAYS_CREDIT_MEAN\", \"APPROVED_AMT_ANNUITY_MAX\", \"ACTIVE_AMT_CREDIT_SUM_DEBT_SUM\"], \"features\": {\"0\": {\"effect\": -0.6505836323780012, \"value\": 0.4519273510721858}, \"1\": {\"effect\": 0.010758896283749547, \"value\": 0.7180328113294772}, \"2\": {\"effect\": 0.25734602542251783, \"value\": 1.0}, \"3\": {\"effect\": 0.016925131396708877, \"value\": 0.0955631399317406}, \"4\": {\"effect\": 0.0855063136505567, \"value\": 6750.0}, \"5\": {\"effect\": 0.16504459601334137, \"value\": -1232.0}, \"6\": {\"effect\": 0.10245912961442673, \"value\": 0.05}, \"7\": {\"effect\": 0.01106196745546897, \"value\": NaN}, \"8\": {\"effect\": -0.009893973268363528, \"value\": 6.0}, \"9\": {\"effect\": 0.0727829494125767, \"value\": 0.075}, \"10\": {\"effect\": -0.0114325960981043, \"value\": 6.0}, \"11\": {\"effect\": 0.04923237310009816, \"value\": -12892.0}, \"12\": {\"effect\": -0.0001520210677139969, \"value\": -1411.0}, \"13\": {\"effect\": -0.012292159699267589, \"value\": 7.0}, \"14\": {\"effect\": 0.08013138493922675, \"value\": 135000.0}, \"15\": {\"effect\": -0.13085884276095738, \"value\": 135000.0}, \"16\": {\"effect\": 0.03589262659737292, \"value\": -844.0}, \"17\": {\"effect\": -0.010061320373945639, \"value\": 0.0}, \"18\": {\"effect\": -0.029263909378246727, \"value\": 0.8507259528130672}, \"19\": {\"effect\": -0.020449273214718094, \"value\": 39672.0}, \"20\": {\"effect\": -0.016308486069896475, \"value\": 0.0}, \"21\": {\"effect\": -0.01688100873799694, \"value\": 7406.775}, \"22\": {\"effect\": -0.00724115645098054, \"value\": -3349.0}, \"23\": {\"effect\": 0.00025892670731859837, \"value\": 6.0}, \"24\": {\"effect\": -0.006218264374849792, \"value\": 0.0}, \"25\": {\"effect\": -0.07036576363284508, \"value\": 44422.2}, \"26\": {\"effect\": 0.02434797256695272, \"value\": 1.0}, \"27\": {\"effect\": 0.07999234932422865, \"value\": 7388.325}, \"28\": {\"effect\": -0.017208248960990914, \"value\": 3.0}, \"29\": {\"effect\": 0.00010085853741485683, \"value\": NaN}, \"30\": {\"effect\": -0.0017872526580188363, \"value\": -31.0}, \"31\": {\"effect\": -0.026497275193417477, \"value\": 7406.775}, \"32\": {\"effect\": -0.01099500366554886, \"value\": 0.0}, \"33\": {\"effect\": -0.0011843953777985398, \"value\": 51810.525}, \"34\": {\"effect\": 0.0033892710393568187, \"value\": 7.0}, \"35\": {\"effect\": 0.049071679028191685, \"value\": 0.0}, \"36\": {\"effect\": 0.001194566305070391, \"value\": -921.0}, \"37\": {\"effect\": 0.0001275263580340194, \"value\": 0.0}, \"38\": {\"effect\": -0.11674691077301554, \"value\": 1.0}, \"39\": {\"effect\": -0.014635990164316687, \"value\": 0.0}, \"40\": {\"effect\": -0.008857845377556312, \"value\": 2242.0}, \"41\": {\"effect\": 0.003536297241796976, \"value\": -1411.0}, \"42\": {\"effect\": -0.011232225316924123, \"value\": -1411.0}, \"43\": {\"effect\": 0.0009855836755060907, \"value\": 29.0}, \"44\": {\"effect\": -0.002909511925496645, \"value\": 1575000.0}, \"45\": {\"effect\": -0.0018192617123364264, \"value\": -1411.0}, \"46\": {\"effect\": 0.00018384465333882177, \"value\": -6447.0}, \"47\": {\"effect\": -0.016058769771420008, \"value\": 7.714285714285714}, \"48\": {\"effect\": -0.013981230101686108, \"value\": -1031.0}, \"50\": {\"effect\": -0.054091347943028244, \"value\": 0.0}, \"51\": {\"effect\": -0.02389915544864542, \"value\": 0.0}, \"52\": {\"effect\": -0.07651664729012085, \"value\": 0.0}, \"53\": {\"effect\": -0.027684456721068725, \"value\": 0.0}, \"54\": {\"effect\": -0.002674989071527591, \"value\": 0.0}, \"55\": {\"effect\": 0.004634391185636096, \"value\": 0.006852}, \"56\": {\"effect\": -0.006282936939461659, \"value\": 0.0}, \"57\": {\"effect\": -0.002629749751941834, \"value\": -1031.0}, \"58\": {\"effect\": -0.00460263691416838, \"value\": 54.0}, \"59\": {\"effect\": 0.10050115539113426, \"value\": 0.8571428571428571}, \"60\": {\"effect\": 0.011855518213867327, \"value\": -28.0}, \"61\": {\"effect\": 0.00028964742686912173, \"value\": 7406.775}, \"62\": {\"effect\": -0.0069681288660703765, \"value\": 7406.775}, \"63\": {\"effect\": 0.001253937897376801, \"value\": 39672.0}, \"64\": {\"effect\": 0.0009243741773920518, \"value\": 33750.0}, \"65\": {\"effect\": 0.030074208295465178, \"value\": 0.8507259528130672}, \"66\": {\"effect\": -0.016811338815534465, \"value\": 0.8507259528130672}, \"67\": {\"effect\": 0.005374592205493354, \"value\": 1.0}, \"68\": {\"effect\": -0.008761920381377302, \"value\": NaN}, \"69\": {\"effect\": -0.0045621445617115095, \"value\": 9.0}, \"70\": {\"effect\": -0.0008366935042141946, \"value\": 0.0}, \"71\": {\"effect\": -0.0006738137674643102, \"value\": NaN}, \"72\": {\"effect\": -0.002378323455501772, \"value\": 33750.0}, \"73\": {\"effect\": -0.002955698464595725, \"value\": 0.0}, \"74\": {\"effect\": -0.007204777131807143, \"value\": 1575000.0}, \"75\": {\"effect\": -0.00177716214909664, \"value\": 1575000.0}, \"76\": {\"effect\": -0.01083067007060085, \"value\": 33750.0}, \"77\": {\"effect\": -0.003971324215692633, \"value\": 0.0}, \"78\": {\"effect\": -0.006339505807614645, \"value\": 6.0}, \"79\": {\"effect\": 0.02037576014985273, \"value\": 1.0}, \"80\": {\"effect\": -0.0030940998394907676, \"value\": -1031.0}, \"81\": {\"effect\": -0.01267637846434532, \"value\": NaN}, \"82\": {\"effect\": -0.001572393141469056, \"value\": 7406.775}, \"83\": {\"effect\": -0.007294610930820438, \"value\": NaN}}, \"plot_cmap\": \"RdBu\", \"labelMargin\": 20}),\n",
       "    document.getElementById('iGW7UZK3HT9RTSZFXKK78')\n",
       "  );\n",
       "</script>"
      ],
      "text/plain": [
       "<shap.plots._force.AdditiveForceVisualizer at 0x1715b1c40>"
      ]
     },
     "execution_count": 98,
     "metadata": {},
     "output_type": "execute_result"
    }
   ],
   "source": [
    "# Visualize a single prediction\n",
    "# The shap plot shows features that contribute to pushing the output from the base value to the \n",
    "# actual predicted value\n",
    "# Red colour pushes the predictions higher (towards positive)\n",
    "# Blue colour indicates the predicitions lower (towards negative)\n",
    "shap.force_plot(explainer.expected_value[1], shap_values[1][950,:], df_ft_selec_underbal[feats].iloc[950,:])"
   ]
  },
  {
   "cell_type": "code",
   "execution_count": null,
   "id": "71df6b40-8047-4974-99a7-b152c41a3d8f",
   "metadata": {},
   "outputs": [],
   "source": []
  }
 ],
 "metadata": {
  "kernelspec": {
   "display_name": "Python 3 (ipykernel)",
   "language": "python",
   "name": "python3"
  },
  "language_info": {
   "codemirror_mode": {
    "name": "ipython",
    "version": 3
   },
   "file_extension": ".py",
   "mimetype": "text/x-python",
   "name": "python",
   "nbconvert_exporter": "python",
   "pygments_lexer": "ipython3",
   "version": "3.9.7"
  }
 },
 "nbformat": 4,
 "nbformat_minor": 5
}
